{
 "metadata": {
  "language_info": {
   "codemirror_mode": {
    "name": "ipython",
    "version": 3
   },
   "file_extension": ".py",
   "mimetype": "text/x-python",
   "name": "python",
   "nbconvert_exporter": "python",
   "pygments_lexer": "ipython3",
   "version": "3.7.4-final"
  },
  "orig_nbformat": 2,
  "kernelspec": {
   "name": "python3",
   "display_name": "Python 3.7.4 64-bit",
   "metadata": {
    "interpreter": {
     "hash": "712d5cf4ee2acaf35241d6a0105be1622e5ff6a1e44db7e17cb36b1fa434ea40"
    }
   }
  }
 },
 "nbformat": 4,
 "nbformat_minor": 2,
 "cells": [
  {
   "cell_type": "code",
   "execution_count": 14,
   "metadata": {},
   "outputs": [],
   "source": [
    "from PIL import Image\n",
    "import matplotlib.pyplot as plt\n",
    "import matplotlib.image as mpimg\n",
    "from numpy import asarray "
   ]
  },
  {
   "cell_type": "code",
   "execution_count": 17,
   "metadata": {},
   "outputs": [
    {
     "output_type": "stream",
     "name": "stdout",
     "text": [
      "PNG\nRGB\n(350, 360)\n"
     ]
    },
    {
     "output_type": "execute_result",
     "data": {
      "text/plain": [
       "array([[[  0, 162, 232],\n",
       "        [  0, 162, 232],\n",
       "        [  0, 162, 232],\n",
       "        ...,\n",
       "        [  0, 162, 232],\n",
       "        [  0, 162, 232],\n",
       "        [  0, 162, 232]],\n",
       "\n",
       "       [[  0, 162, 232],\n",
       "        [  0, 162, 232],\n",
       "        [  0, 162, 232],\n",
       "        ...,\n",
       "        [  0, 162, 232],\n",
       "        [  0, 162, 232],\n",
       "        [  0, 162, 232]],\n",
       "\n",
       "       [[  0, 162, 232],\n",
       "        [  0, 162, 232],\n",
       "        [  0, 162, 232],\n",
       "        ...,\n",
       "        [  0, 162, 232],\n",
       "        [  0, 162, 232],\n",
       "        [  0, 162, 232]],\n",
       "\n",
       "       ...,\n",
       "\n",
       "       [[  0, 162, 232],\n",
       "        [  0, 162, 232],\n",
       "        [  0, 162, 232],\n",
       "        ...,\n",
       "        [  0, 162, 232],\n",
       "        [  0, 162, 232],\n",
       "        [  0, 162, 232]],\n",
       "\n",
       "       [[  0, 162, 232],\n",
       "        [  0, 162, 232],\n",
       "        [  0, 162, 232],\n",
       "        ...,\n",
       "        [  0, 162, 232],\n",
       "        [  0, 162, 232],\n",
       "        [  0, 162, 232]],\n",
       "\n",
       "       [[  0, 162, 232],\n",
       "        [  0, 162, 232],\n",
       "        [  0, 162, 232],\n",
       "        ...,\n",
       "        [  0, 162, 232],\n",
       "        [  0, 162, 232],\n",
       "        [  0, 162, 232]]], dtype=uint8)"
      ]
     },
     "metadata": {},
     "execution_count": 17
    }
   ],
   "source": [
    "# load the image as pixel array\n",
    "filepath = \"test_hole.png\"\n",
    "img = Image.open(filepath)\n",
    "\n",
    "\n",
    "# summarize image details\n",
    "print(img.format)\n",
    "print(img.mode)\n",
    "print(img.size)\n",
    "asarray(img)"
   ]
  },
  {
   "cell_type": "code",
   "execution_count": 1,
   "metadata": {},
   "outputs": [
    {
     "output_type": "execute_result",
     "data": {
      "text/plain": [
       "True"
      ]
     },
     "metadata": {},
     "execution_count": 1
    }
   ],
   "source": [
    "import cv2 # Import the OpenCV library\n",
    "import numpy as np\n",
    "\n",
    "filepath = \"test_hole.png\"\n",
    "image = cv2.imread(filepath)\n",
    "image_mark = image.copy()\n",
    "# define range of white color in HSV\n",
    "lower_white = np.array([0,0,255])\n",
    "upper_white = np.array([255,255,255])\n",
    "\n",
    "# Create the mask\n",
    "mask = cv2.inRange(image_mark, lower_white, upper_white)\n",
    "\n",
    "# Create the inverted mask\n",
    "mask_inv = cv2.bitwise_not(mask)\n",
    "\n",
    "# Convert to grayscale image\n",
    "gray = cv2.cvtColor(image, cv2.COLOR_BGR2GRAY)\n",
    "\n",
    "# Extract the dimensions of the original image\n",
    "rows, cols, channels = image.shape\n",
    "image = image[0:rows, 0:cols]\n",
    "\n",
    "# Bitwise-OR mask and original image\n",
    "colored_portion = cv2.bitwise_or(image, image, mask = mask)\n",
    "colored_portion = colored_portion[0:rows, 0:cols]\n",
    "\n",
    "# Bitwise-OR inverse mask and grayscale image\n",
    "gray_portion = cv2.bitwise_or(gray, gray, mask = mask_inv)\n",
    "gray_portion = np.stack((gray_portion,)*3, axis=-1)\n",
    "\n",
    "# Combine the two images\n",
    "output = colored_portion + gray_portion\n",
    "\n",
    "# Save the image\n",
    "OUTPUT_IMAGE = \"test_hole_mask.jpg\"\n",
    "cv2.imwrite(OUTPUT_IMAGE, output)"
   ]
  },
  {
   "source": [
    "## Working prototype"
   ],
   "cell_type": "markdown",
   "metadata": {}
  },
  {
   "cell_type": "code",
   "execution_count": 98,
   "metadata": {},
   "outputs": [
    {
     "output_type": "execute_result",
     "data": {
      "text/plain": [
       "<matplotlib.image.AxesImage at 0x2215e7fd908>"
      ]
     },
     "metadata": {},
     "execution_count": 98
    },
    {
     "output_type": "display_data",
     "data": {
      "text/plain": "<Figure size 432x288 with 1 Axes>",
      "image/svg+xml": "<?xml version=\"1.0\" encoding=\"utf-8\" standalone=\"no\"?>\r\n<!DOCTYPE svg PUBLIC \"-//W3C//DTD SVG 1.1//EN\"\r\n  \"http://www.w3.org/Graphics/SVG/1.1/DTD/svg11.dtd\">\r\n<!-- Created with matplotlib (https://matplotlib.org/) -->\r\n<svg height=\"252.015344pt\" version=\"1.1\" viewBox=\"0 0 251.8875 252.015344\" width=\"251.8875pt\" xmlns=\"http://www.w3.org/2000/svg\" xmlns:xlink=\"http://www.w3.org/1999/xlink\">\r\n <defs>\r\n  <style type=\"text/css\">\r\n*{stroke-linecap:butt;stroke-linejoin:round;}\r\n  </style>\r\n </defs>\r\n <g id=\"figure_1\">\r\n  <g id=\"patch_1\">\r\n   <path d=\"M 0 252.015344 \r\nL 251.8875 252.015344 \r\nL 251.8875 0 \r\nL 0 0 \r\nz\r\n\" style=\"fill:none;\"/>\r\n  </g>\r\n  <g id=\"axes_1\">\r\n   <g id=\"patch_2\">\r\n    <path d=\"M 33.2875 228.137219 \r\nL 244.6875 228.137219 \r\nL 244.6875 10.697219 \r\nL 33.2875 10.697219 \r\nz\r\n\" style=\"fill:#ffffff;\"/>\r\n   </g>\r\n   <g clip-path=\"url(#paa68d19a89)\">\r\n    <image height=\"218\" id=\"image6ce5422280\" transform=\"scale(1 -1)translate(0 -218)\" width=\"212\" x=\"33.2875\" xlink:href=\"data:image/png;base64,\r\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\" y=\"-10.137219\"/>\r\n   </g>\r\n   <g id=\"matplotlib.axis_1\">\r\n    <g id=\"xtick_1\">\r\n     <g id=\"line2d_1\">\r\n      <defs>\r\n       <path d=\"M 0 0 \r\nL 0 3.5 \r\n\" id=\"me80fe97d5d\" style=\"stroke:#000000;stroke-width:0.8;\"/>\r\n      </defs>\r\n      <g>\r\n       <use style=\"stroke:#000000;stroke-width:0.8;\" x=\"33.5895\" xlink:href=\"#me80fe97d5d\" y=\"228.137219\"/>\r\n      </g>\r\n     </g>\r\n     <g id=\"text_1\">\r\n      <!-- 0 -->\r\n      <defs>\r\n       <path d=\"M 31.78125 66.40625 \r\nQ 24.171875 66.40625 20.328125 58.90625 \r\nQ 16.5 51.421875 16.5 36.375 \r\nQ 16.5 21.390625 20.328125 13.890625 \r\nQ 24.171875 6.390625 31.78125 6.390625 \r\nQ 39.453125 6.390625 43.28125 13.890625 \r\nQ 47.125 21.390625 47.125 36.375 \r\nQ 47.125 51.421875 43.28125 58.90625 \r\nQ 39.453125 66.40625 31.78125 66.40625 \r\nz\r\nM 31.78125 74.21875 \r\nQ 44.046875 74.21875 50.515625 64.515625 \r\nQ 56.984375 54.828125 56.984375 36.375 \r\nQ 56.984375 17.96875 50.515625 8.265625 \r\nQ 44.046875 -1.421875 31.78125 -1.421875 \r\nQ 19.53125 -1.421875 13.0625 8.265625 \r\nQ 6.59375 17.96875 6.59375 36.375 \r\nQ 6.59375 54.828125 13.0625 64.515625 \r\nQ 19.53125 74.21875 31.78125 74.21875 \r\nz\r\n\" id=\"DejaVuSans-48\"/>\r\n      </defs>\r\n      <g transform=\"translate(30.40825 242.735656)scale(0.1 -0.1)\">\r\n       <use xlink:href=\"#DejaVuSans-48\"/>\r\n      </g>\r\n     </g>\r\n    </g>\r\n    <g id=\"xtick_2\">\r\n     <g id=\"line2d_2\">\r\n      <g>\r\n       <use style=\"stroke:#000000;stroke-width:0.8;\" x=\"63.7895\" xlink:href=\"#me80fe97d5d\" y=\"228.137219\"/>\r\n      </g>\r\n     </g>\r\n     <g id=\"text_2\">\r\n      <!-- 50 -->\r\n      <defs>\r\n       <path d=\"M 10.796875 72.90625 \r\nL 49.515625 72.90625 \r\nL 49.515625 64.59375 \r\nL 19.828125 64.59375 \r\nL 19.828125 46.734375 \r\nQ 21.96875 47.46875 24.109375 47.828125 \r\nQ 26.265625 48.1875 28.421875 48.1875 \r\nQ 40.625 48.1875 47.75 41.5 \r\nQ 54.890625 34.8125 54.890625 23.390625 \r\nQ 54.890625 11.625 47.5625 5.09375 \r\nQ 40.234375 -1.421875 26.90625 -1.421875 \r\nQ 22.3125 -1.421875 17.546875 -0.640625 \r\nQ 12.796875 0.140625 7.71875 1.703125 \r\nL 7.71875 11.625 \r\nQ 12.109375 9.234375 16.796875 8.0625 \r\nQ 21.484375 6.890625 26.703125 6.890625 \r\nQ 35.15625 6.890625 40.078125 11.328125 \r\nQ 45.015625 15.765625 45.015625 23.390625 \r\nQ 45.015625 31 40.078125 35.4375 \r\nQ 35.15625 39.890625 26.703125 39.890625 \r\nQ 22.75 39.890625 18.8125 39.015625 \r\nQ 14.890625 38.140625 10.796875 36.28125 \r\nz\r\n\" id=\"DejaVuSans-53\"/>\r\n      </defs>\r\n      <g transform=\"translate(57.427 242.735656)scale(0.1 -0.1)\">\r\n       <use xlink:href=\"#DejaVuSans-53\"/>\r\n       <use x=\"63.623047\" xlink:href=\"#DejaVuSans-48\"/>\r\n      </g>\r\n     </g>\r\n    </g>\r\n    <g id=\"xtick_3\">\r\n     <g id=\"line2d_3\">\r\n      <g>\r\n       <use style=\"stroke:#000000;stroke-width:0.8;\" x=\"93.9895\" xlink:href=\"#me80fe97d5d\" y=\"228.137219\"/>\r\n      </g>\r\n     </g>\r\n     <g id=\"text_3\">\r\n      <!-- 100 -->\r\n      <defs>\r\n       <path d=\"M 12.40625 8.296875 \r\nL 28.515625 8.296875 \r\nL 28.515625 63.921875 \r\nL 10.984375 60.40625 \r\nL 10.984375 69.390625 \r\nL 28.421875 72.90625 \r\nL 38.28125 72.90625 \r\nL 38.28125 8.296875 \r\nL 54.390625 8.296875 \r\nL 54.390625 0 \r\nL 12.40625 0 \r\nz\r\n\" id=\"DejaVuSans-49\"/>\r\n      </defs>\r\n      <g transform=\"translate(84.44575 242.735656)scale(0.1 -0.1)\">\r\n       <use xlink:href=\"#DejaVuSans-49\"/>\r\n       <use x=\"63.623047\" xlink:href=\"#DejaVuSans-48\"/>\r\n       <use x=\"127.246094\" xlink:href=\"#DejaVuSans-48\"/>\r\n      </g>\r\n     </g>\r\n    </g>\r\n    <g id=\"xtick_4\">\r\n     <g id=\"line2d_4\">\r\n      <g>\r\n       <use style=\"stroke:#000000;stroke-width:0.8;\" x=\"124.1895\" xlink:href=\"#me80fe97d5d\" y=\"228.137219\"/>\r\n      </g>\r\n     </g>\r\n     <g id=\"text_4\">\r\n      <!-- 150 -->\r\n      <g transform=\"translate(114.64575 242.735656)scale(0.1 -0.1)\">\r\n       <use xlink:href=\"#DejaVuSans-49\"/>\r\n       <use x=\"63.623047\" xlink:href=\"#DejaVuSans-53\"/>\r\n       <use x=\"127.246094\" xlink:href=\"#DejaVuSans-48\"/>\r\n      </g>\r\n     </g>\r\n    </g>\r\n    <g id=\"xtick_5\">\r\n     <g id=\"line2d_5\">\r\n      <g>\r\n       <use style=\"stroke:#000000;stroke-width:0.8;\" x=\"154.3895\" xlink:href=\"#me80fe97d5d\" y=\"228.137219\"/>\r\n      </g>\r\n     </g>\r\n     <g id=\"text_5\">\r\n      <!-- 200 -->\r\n      <defs>\r\n       <path d=\"M 19.1875 8.296875 \r\nL 53.609375 8.296875 \r\nL 53.609375 0 \r\nL 7.328125 0 \r\nL 7.328125 8.296875 \r\nQ 12.9375 14.109375 22.625 23.890625 \r\nQ 32.328125 33.6875 34.8125 36.53125 \r\nQ 39.546875 41.84375 41.421875 45.53125 \r\nQ 43.3125 49.21875 43.3125 52.78125 \r\nQ 43.3125 58.59375 39.234375 62.25 \r\nQ 35.15625 65.921875 28.609375 65.921875 \r\nQ 23.96875 65.921875 18.8125 64.3125 \r\nQ 13.671875 62.703125 7.8125 59.421875 \r\nL 7.8125 69.390625 \r\nQ 13.765625 71.78125 18.9375 73 \r\nQ 24.125 74.21875 28.421875 74.21875 \r\nQ 39.75 74.21875 46.484375 68.546875 \r\nQ 53.21875 62.890625 53.21875 53.421875 \r\nQ 53.21875 48.921875 51.53125 44.890625 \r\nQ 49.859375 40.875 45.40625 35.40625 \r\nQ 44.1875 33.984375 37.640625 27.21875 \r\nQ 31.109375 20.453125 19.1875 8.296875 \r\nz\r\n\" id=\"DejaVuSans-50\"/>\r\n      </defs>\r\n      <g transform=\"translate(144.84575 242.735656)scale(0.1 -0.1)\">\r\n       <use xlink:href=\"#DejaVuSans-50\"/>\r\n       <use x=\"63.623047\" xlink:href=\"#DejaVuSans-48\"/>\r\n       <use x=\"127.246094\" xlink:href=\"#DejaVuSans-48\"/>\r\n      </g>\r\n     </g>\r\n    </g>\r\n    <g id=\"xtick_6\">\r\n     <g id=\"line2d_6\">\r\n      <g>\r\n       <use style=\"stroke:#000000;stroke-width:0.8;\" x=\"184.5895\" xlink:href=\"#me80fe97d5d\" y=\"228.137219\"/>\r\n      </g>\r\n     </g>\r\n     <g id=\"text_6\">\r\n      <!-- 250 -->\r\n      <g transform=\"translate(175.04575 242.735656)scale(0.1 -0.1)\">\r\n       <use xlink:href=\"#DejaVuSans-50\"/>\r\n       <use x=\"63.623047\" xlink:href=\"#DejaVuSans-53\"/>\r\n       <use x=\"127.246094\" xlink:href=\"#DejaVuSans-48\"/>\r\n      </g>\r\n     </g>\r\n    </g>\r\n    <g id=\"xtick_7\">\r\n     <g id=\"line2d_7\">\r\n      <g>\r\n       <use style=\"stroke:#000000;stroke-width:0.8;\" x=\"214.7895\" xlink:href=\"#me80fe97d5d\" y=\"228.137219\"/>\r\n      </g>\r\n     </g>\r\n     <g id=\"text_7\">\r\n      <!-- 300 -->\r\n      <defs>\r\n       <path d=\"M 40.578125 39.3125 \r\nQ 47.65625 37.796875 51.625 33 \r\nQ 55.609375 28.21875 55.609375 21.1875 \r\nQ 55.609375 10.40625 48.1875 4.484375 \r\nQ 40.765625 -1.421875 27.09375 -1.421875 \r\nQ 22.515625 -1.421875 17.65625 -0.515625 \r\nQ 12.796875 0.390625 7.625 2.203125 \r\nL 7.625 11.71875 \r\nQ 11.71875 9.328125 16.59375 8.109375 \r\nQ 21.484375 6.890625 26.8125 6.890625 \r\nQ 36.078125 6.890625 40.9375 10.546875 \r\nQ 45.796875 14.203125 45.796875 21.1875 \r\nQ 45.796875 27.640625 41.28125 31.265625 \r\nQ 36.765625 34.90625 28.71875 34.90625 \r\nL 20.21875 34.90625 \r\nL 20.21875 43.015625 \r\nL 29.109375 43.015625 \r\nQ 36.375 43.015625 40.234375 45.921875 \r\nQ 44.09375 48.828125 44.09375 54.296875 \r\nQ 44.09375 59.90625 40.109375 62.90625 \r\nQ 36.140625 65.921875 28.71875 65.921875 \r\nQ 24.65625 65.921875 20.015625 65.03125 \r\nQ 15.375 64.15625 9.8125 62.3125 \r\nL 9.8125 71.09375 \r\nQ 15.4375 72.65625 20.34375 73.4375 \r\nQ 25.25 74.21875 29.59375 74.21875 \r\nQ 40.828125 74.21875 47.359375 69.109375 \r\nQ 53.90625 64.015625 53.90625 55.328125 \r\nQ 53.90625 49.265625 50.4375 45.09375 \r\nQ 46.96875 40.921875 40.578125 39.3125 \r\nz\r\n\" id=\"DejaVuSans-51\"/>\r\n      </defs>\r\n      <g transform=\"translate(205.24575 242.735656)scale(0.1 -0.1)\">\r\n       <use xlink:href=\"#DejaVuSans-51\"/>\r\n       <use x=\"63.623047\" xlink:href=\"#DejaVuSans-48\"/>\r\n       <use x=\"127.246094\" xlink:href=\"#DejaVuSans-48\"/>\r\n      </g>\r\n     </g>\r\n    </g>\r\n   </g>\r\n   <g id=\"matplotlib.axis_2\">\r\n    <g id=\"ytick_1\">\r\n     <g id=\"line2d_8\">\r\n      <defs>\r\n       <path d=\"M 0 0 \r\nL -3.5 0 \r\n\" id=\"m7c8c65d507\" style=\"stroke:#000000;stroke-width:0.8;\"/>\r\n      </defs>\r\n      <g>\r\n       <use style=\"stroke:#000000;stroke-width:0.8;\" x=\"33.2875\" xlink:href=\"#m7c8c65d507\" y=\"10.999219\"/>\r\n      </g>\r\n     </g>\r\n     <g id=\"text_8\">\r\n      <!-- 0 -->\r\n      <g transform=\"translate(19.925 14.798437)scale(0.1 -0.1)\">\r\n       <use xlink:href=\"#DejaVuSans-48\"/>\r\n      </g>\r\n     </g>\r\n    </g>\r\n    <g id=\"ytick_2\">\r\n     <g id=\"line2d_9\">\r\n      <g>\r\n       <use style=\"stroke:#000000;stroke-width:0.8;\" x=\"33.2875\" xlink:href=\"#m7c8c65d507\" y=\"41.199219\"/>\r\n      </g>\r\n     </g>\r\n     <g id=\"text_9\">\r\n      <!-- 50 -->\r\n      <g transform=\"translate(13.5625 44.998437)scale(0.1 -0.1)\">\r\n       <use xlink:href=\"#DejaVuSans-53\"/>\r\n       <use x=\"63.623047\" xlink:href=\"#DejaVuSans-48\"/>\r\n      </g>\r\n     </g>\r\n    </g>\r\n    <g id=\"ytick_3\">\r\n     <g id=\"line2d_10\">\r\n      <g>\r\n       <use style=\"stroke:#000000;stroke-width:0.8;\" x=\"33.2875\" xlink:href=\"#m7c8c65d507\" y=\"71.399219\"/>\r\n      </g>\r\n     </g>\r\n     <g id=\"text_10\">\r\n      <!-- 100 -->\r\n      <g transform=\"translate(7.2 75.198437)scale(0.1 -0.1)\">\r\n       <use xlink:href=\"#DejaVuSans-49\"/>\r\n       <use x=\"63.623047\" xlink:href=\"#DejaVuSans-48\"/>\r\n       <use x=\"127.246094\" xlink:href=\"#DejaVuSans-48\"/>\r\n      </g>\r\n     </g>\r\n    </g>\r\n    <g id=\"ytick_4\">\r\n     <g id=\"line2d_11\">\r\n      <g>\r\n       <use style=\"stroke:#000000;stroke-width:0.8;\" x=\"33.2875\" xlink:href=\"#m7c8c65d507\" y=\"101.599219\"/>\r\n      </g>\r\n     </g>\r\n     <g id=\"text_11\">\r\n      <!-- 150 -->\r\n      <g transform=\"translate(7.2 105.398437)scale(0.1 -0.1)\">\r\n       <use xlink:href=\"#DejaVuSans-49\"/>\r\n       <use x=\"63.623047\" xlink:href=\"#DejaVuSans-53\"/>\r\n       <use x=\"127.246094\" xlink:href=\"#DejaVuSans-48\"/>\r\n      </g>\r\n     </g>\r\n    </g>\r\n    <g id=\"ytick_5\">\r\n     <g id=\"line2d_12\">\r\n      <g>\r\n       <use style=\"stroke:#000000;stroke-width:0.8;\" x=\"33.2875\" xlink:href=\"#m7c8c65d507\" y=\"131.799219\"/>\r\n      </g>\r\n     </g>\r\n     <g id=\"text_12\">\r\n      <!-- 200 -->\r\n      <g transform=\"translate(7.2 135.598437)scale(0.1 -0.1)\">\r\n       <use xlink:href=\"#DejaVuSans-50\"/>\r\n       <use x=\"63.623047\" xlink:href=\"#DejaVuSans-48\"/>\r\n       <use x=\"127.246094\" xlink:href=\"#DejaVuSans-48\"/>\r\n      </g>\r\n     </g>\r\n    </g>\r\n    <g id=\"ytick_6\">\r\n     <g id=\"line2d_13\">\r\n      <g>\r\n       <use style=\"stroke:#000000;stroke-width:0.8;\" x=\"33.2875\" xlink:href=\"#m7c8c65d507\" y=\"161.999219\"/>\r\n      </g>\r\n     </g>\r\n     <g id=\"text_13\">\r\n      <!-- 250 -->\r\n      <g transform=\"translate(7.2 165.798437)scale(0.1 -0.1)\">\r\n       <use xlink:href=\"#DejaVuSans-50\"/>\r\n       <use x=\"63.623047\" xlink:href=\"#DejaVuSans-53\"/>\r\n       <use x=\"127.246094\" xlink:href=\"#DejaVuSans-48\"/>\r\n      </g>\r\n     </g>\r\n    </g>\r\n    <g id=\"ytick_7\">\r\n     <g id=\"line2d_14\">\r\n      <g>\r\n       <use style=\"stroke:#000000;stroke-width:0.8;\" x=\"33.2875\" xlink:href=\"#m7c8c65d507\" y=\"192.199219\"/>\r\n      </g>\r\n     </g>\r\n     <g id=\"text_14\">\r\n      <!-- 300 -->\r\n      <g transform=\"translate(7.2 195.998437)scale(0.1 -0.1)\">\r\n       <use xlink:href=\"#DejaVuSans-51\"/>\r\n       <use x=\"63.623047\" xlink:href=\"#DejaVuSans-48\"/>\r\n       <use x=\"127.246094\" xlink:href=\"#DejaVuSans-48\"/>\r\n      </g>\r\n     </g>\r\n    </g>\r\n    <g id=\"ytick_8\">\r\n     <g id=\"line2d_15\">\r\n      <g>\r\n       <use style=\"stroke:#000000;stroke-width:0.8;\" x=\"33.2875\" xlink:href=\"#m7c8c65d507\" y=\"222.399219\"/>\r\n      </g>\r\n     </g>\r\n     <g id=\"text_15\">\r\n      <!-- 350 -->\r\n      <g transform=\"translate(7.2 226.198437)scale(0.1 -0.1)\">\r\n       <use xlink:href=\"#DejaVuSans-51\"/>\r\n       <use x=\"63.623047\" xlink:href=\"#DejaVuSans-53\"/>\r\n       <use x=\"127.246094\" xlink:href=\"#DejaVuSans-48\"/>\r\n      </g>\r\n     </g>\r\n    </g>\r\n   </g>\r\n   <g id=\"patch_3\">\r\n    <path d=\"M 33.2875 228.137219 \r\nL 33.2875 10.697219 \r\n\" style=\"fill:none;stroke:#000000;stroke-linecap:square;stroke-linejoin:miter;stroke-width:0.8;\"/>\r\n   </g>\r\n   <g id=\"patch_4\">\r\n    <path d=\"M 244.6875 228.137219 \r\nL 244.6875 10.697219 \r\n\" style=\"fill:none;stroke:#000000;stroke-linecap:square;stroke-linejoin:miter;stroke-width:0.8;\"/>\r\n   </g>\r\n   <g id=\"patch_5\">\r\n    <path d=\"M 33.2875 228.137219 \r\nL 244.6875 228.137219 \r\n\" style=\"fill:none;stroke:#000000;stroke-linecap:square;stroke-linejoin:miter;stroke-width:0.8;\"/>\r\n   </g>\r\n   <g id=\"patch_6\">\r\n    <path d=\"M 33.2875 10.697219 \r\nL 244.6875 10.697219 \r\n\" style=\"fill:none;stroke:#000000;stroke-linecap:square;stroke-linejoin:miter;stroke-width:0.8;\"/>\r\n   </g>\r\n  </g>\r\n </g>\r\n <defs>\r\n  <clipPath id=\"paa68d19a89\">\r\n   <rect height=\"217.44\" width=\"211.4\" x=\"33.2875\" y=\"10.697219\"/>\r\n  </clipPath>\r\n </defs>\r\n</svg>\r\n",
      "image/png": "[encoded data removed]"
     },
     "metadata": {
      "needs_background": "light"
     }
    }
   ],
   "source": [
    "\n",
    "import cv2 # Import the OpenCV library\n",
    "import numpy as np\n",
    "filepath = \"test_hole.png\"\n",
    "image = cv2.imread(filepath)\n",
    "\n",
    "# load mask image\n",
    "mask = cv2.imread(\"blue_blob_thresh.png\", 0) # loading as garyscale image\n",
    "\n",
    "# get the boudary coordinates using contour detection\n",
    "contours = cv2.findContours(mask, cv2.RETR_EXTERNAL, cv2.CHAIN_APPROX_NONE)\n",
    "contours = contours[0] if len(contours) == 2 else contours[1]\n",
    "cntr = contours[0]\n",
    "\n",
    "# get hole coordinates (x,y)\n",
    "xy_coords = np.flip(np.column_stack(np.where(mask > 0)), axis=1)\n",
    "\n",
    "# fill the hole\n",
    "temp_img = image.copy()\n",
    "for i in xy_coords:\n",
    "    x = i[0]\n",
    "    y = i[1]\n",
    "    temp_img[y,x] = (0, 0, 255)\n",
    "\n",
    "# show results\n",
    "plt.imshow(cv2.cvtColor(temp_img, cv2.COLOR_BGR2RGB))"
   ]
  },
  {
   "source": [
    "## End of prototype"
   ],
   "cell_type": "markdown",
   "metadata": {}
  },
  {
   "cell_type": "code",
   "execution_count": null,
   "metadata": {},
   "outputs": [],
   "source": [
    "# fill point function\n",
    "def fill_pixel(x, y, channels=3, **kwargs):\n",
    "    \"\"\"\n",
    "    applying a fill algorithm on image coordinate\n",
    "    input:\n",
    "    x - the x coordinate of the target pixel\n",
    "    y - the y coordinate of the targert pixel\n",
    "    channels - number of channels in the image (either 1 or 3)\n",
    "    \"\"\"\n",
    "    # validating number of requested channels \n",
    "    if channels not in [1,3]:\n",
    "        raise Exception(\"The fill pixel method supports only a single channel image or a 3 channels image!\\n you defined {0} \".format(channels))\n",
    "    elif channels == 1:\n",
    "        val = 210.0 # single channel image fill return float\n",
    "    elif channels == 3:\n",
    "        val = (0, 0, 255) # 3 channels image filled as RGB return tuple\n",
    "\n",
    "    return(img)\n",
    "    \n"
   ]
  },
  {
   "cell_type": "code",
   "execution_count": 95,
   "metadata": {},
   "outputs": [],
   "source": [
    "def defaultWeight_func(v, u, z=1, epsilon=0.01):\n",
    "    \"\"\"\n",
    "    input:\n",
    "    u - coordinate in hole\n",
    "    v - coordinate in boundary\n",
    "    z - integer factor \n",
    "    epsilon - small float value used to avoid division by 0\n",
    "    output:\n",
    "    wz - non-negative float weight\n",
    "    \"\"\"\n",
    "    import numpy as np \n",
    "\n",
    "    dist = np.linalg.norm(u-v)\n",
    "    wz = 1.0/((dist**z)+epsilon)\n",
    "    return(wz)"
   ]
  },
  {
   "cell_type": "code",
   "execution_count": null,
   "metadata": {},
   "outputs": [],
   "source": [
    "def fill_color():\n",
    "    \"\"\"\n",
    "    input:\n",
    "    img - the image\n",
    "    u - coordinate in hole\n",
    "    v - coordinate in boundary\n",
    "    z - integer factor \n",
    "    epsilon - small float value used to avoid division by 0\n",
    "    \"\"\"\n",
    "    "
   ]
  },
  {
   "cell_type": "code",
   "execution_count": 113,
   "metadata": {},
   "outputs": [
    {
     "output_type": "execute_result",
     "data": {
      "text/plain": [
       "array([[173, 130],\n",
       "       [171, 131],\n",
       "       [172, 131],\n",
       "       ...,\n",
       "       [174, 217],\n",
       "       [175, 217],\n",
       "       [173, 218]], dtype=int64)"
      ]
     },
     "metadata": {},
     "execution_count": 113
    }
   ],
   "source": [
    "xy_coords"
   ]
  },
  {
   "cell_type": "code",
   "execution_count": 122,
   "metadata": {},
   "outputs": [
    {
     "output_type": "execute_result",
     "data": {
      "text/plain": [
       "array([  0, 255, 255], dtype=uint8)"
      ]
     },
     "metadata": {},
     "execution_count": 122
    }
   ],
   "source": [
    "temp_img[153,208]"
   ]
  },
  {
   "cell_type": "code",
   "execution_count": 164,
   "metadata": {},
   "outputs": [],
   "source": [
    "b_coords = boundaryDetect8(mask)"
   ]
  },
  {
   "cell_type": "code",
   "execution_count": 165,
   "metadata": {
    "tags": []
   },
   "outputs": [],
   "source": [
    "for u in xy_coords:\n",
    "    wz_iv_list = []\n",
    "    wz_list = []\n",
    "    for v in b_coords :\n",
    "        vx=v[0]\n",
    "        vy=v[1]\n",
    "        iv = image[vy,vx] \n",
    "        wz = defaultWeight_func(v=v[0], u=u)\n",
    "        wz_iv_list.append(wz*iv)\n",
    "        wz_list.append(wz)\n",
    "    \n",
    "    iu = sum(wz_iv_list)/sum(wz_list)\n",
    "    temp_img[u[1],u[0]] = iu"
   ]
  },
  {
   "cell_type": "code",
   "execution_count": 166,
   "metadata": {},
   "outputs": [
    {
     "output_type": "execute_result",
     "data": {
      "text/plain": [
       "<matplotlib.image.AxesImage at 0x22160367248>"
      ]
     },
     "metadata": {},
     "execution_count": 166
    },
    {
     "output_type": "display_data",
     "data": {
      "text/plain": "<Figure size 432x288 with 1 Axes>",
      "image/svg+xml": "<?xml version=\"1.0\" encoding=\"utf-8\" standalone=\"no\"?>\r\n<!DOCTYPE svg PUBLIC \"-//W3C//DTD SVG 1.1//EN\"\r\n  \"http://www.w3.org/Graphics/SVG/1.1/DTD/svg11.dtd\">\r\n<!-- Created with matplotlib (https://matplotlib.org/) -->\r\n<svg height=\"252.015344pt\" version=\"1.1\" viewBox=\"0 0 251.8875 252.015344\" width=\"251.8875pt\" xmlns=\"http://www.w3.org/2000/svg\" xmlns:xlink=\"http://www.w3.org/1999/xlink\">\r\n <defs>\r\n  <style type=\"text/css\">\r\n*{stroke-linecap:butt;stroke-linejoin:round;}\r\n  </style>\r\n </defs>\r\n <g id=\"figure_1\">\r\n  <g id=\"patch_1\">\r\n   <path d=\"M 0 252.015344 \r\nL 251.8875 252.015344 \r\nL 251.8875 0 \r\nL 0 0 \r\nz\r\n\" style=\"fill:none;\"/>\r\n  </g>\r\n  <g id=\"axes_1\">\r\n   <g id=\"patch_2\">\r\n    <path d=\"M 33.2875 228.137219 \r\nL 244.6875 228.137219 \r\nL 244.6875 10.697219 \r\nL 33.2875 10.697219 \r\nz\r\n\" style=\"fill:#ffffff;\"/>\r\n   </g>\r\n   <g clip-path=\"url(#p1bc18fad08)\">\r\n    <image height=\"218\" id=\"imaged4ed81945a\" transform=\"scale(1 -1)translate(0 -218)\" width=\"212\" x=\"33.2875\" xlink:href=\"data:image/png;base64,\r\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\" y=\"-10.137219\"/>\r\n   </g>\r\n   <g id=\"matplotlib.axis_1\">\r\n    <g id=\"xtick_1\">\r\n     <g id=\"line2d_1\">\r\n      <defs>\r\n       <path d=\"M 0 0 \r\nL 0 3.5 \r\n\" id=\"m8b8a7f1b9d\" style=\"stroke:#000000;stroke-width:0.8;\"/>\r\n      </defs>\r\n      <g>\r\n       <use style=\"stroke:#000000;stroke-width:0.8;\" x=\"33.5895\" xlink:href=\"#m8b8a7f1b9d\" y=\"228.137219\"/>\r\n      </g>\r\n     </g>\r\n     <g id=\"text_1\">\r\n      <!-- 0 -->\r\n      <defs>\r\n       <path d=\"M 31.78125 66.40625 \r\nQ 24.171875 66.40625 20.328125 58.90625 \r\nQ 16.5 51.421875 16.5 36.375 \r\nQ 16.5 21.390625 20.328125 13.890625 \r\nQ 24.171875 6.390625 31.78125 6.390625 \r\nQ 39.453125 6.390625 43.28125 13.890625 \r\nQ 47.125 21.390625 47.125 36.375 \r\nQ 47.125 51.421875 43.28125 58.90625 \r\nQ 39.453125 66.40625 31.78125 66.40625 \r\nz\r\nM 31.78125 74.21875 \r\nQ 44.046875 74.21875 50.515625 64.515625 \r\nQ 56.984375 54.828125 56.984375 36.375 \r\nQ 56.984375 17.96875 50.515625 8.265625 \r\nQ 44.046875 -1.421875 31.78125 -1.421875 \r\nQ 19.53125 -1.421875 13.0625 8.265625 \r\nQ 6.59375 17.96875 6.59375 36.375 \r\nQ 6.59375 54.828125 13.0625 64.515625 \r\nQ 19.53125 74.21875 31.78125 74.21875 \r\nz\r\n\" id=\"DejaVuSans-48\"/>\r\n      </defs>\r\n      <g transform=\"translate(30.40825 242.735656)scale(0.1 -0.1)\">\r\n       <use xlink:href=\"#DejaVuSans-48\"/>\r\n      </g>\r\n     </g>\r\n    </g>\r\n    <g id=\"xtick_2\">\r\n     <g id=\"line2d_2\">\r\n      <g>\r\n       <use style=\"stroke:#000000;stroke-width:0.8;\" x=\"63.7895\" xlink:href=\"#m8b8a7f1b9d\" y=\"228.137219\"/>\r\n      </g>\r\n     </g>\r\n     <g id=\"text_2\">\r\n      <!-- 50 -->\r\n      <defs>\r\n       <path d=\"M 10.796875 72.90625 \r\nL 49.515625 72.90625 \r\nL 49.515625 64.59375 \r\nL 19.828125 64.59375 \r\nL 19.828125 46.734375 \r\nQ 21.96875 47.46875 24.109375 47.828125 \r\nQ 26.265625 48.1875 28.421875 48.1875 \r\nQ 40.625 48.1875 47.75 41.5 \r\nQ 54.890625 34.8125 54.890625 23.390625 \r\nQ 54.890625 11.625 47.5625 5.09375 \r\nQ 40.234375 -1.421875 26.90625 -1.421875 \r\nQ 22.3125 -1.421875 17.546875 -0.640625 \r\nQ 12.796875 0.140625 7.71875 1.703125 \r\nL 7.71875 11.625 \r\nQ 12.109375 9.234375 16.796875 8.0625 \r\nQ 21.484375 6.890625 26.703125 6.890625 \r\nQ 35.15625 6.890625 40.078125 11.328125 \r\nQ 45.015625 15.765625 45.015625 23.390625 \r\nQ 45.015625 31 40.078125 35.4375 \r\nQ 35.15625 39.890625 26.703125 39.890625 \r\nQ 22.75 39.890625 18.8125 39.015625 \r\nQ 14.890625 38.140625 10.796875 36.28125 \r\nz\r\n\" id=\"DejaVuSans-53\"/>\r\n      </defs>\r\n      <g transform=\"translate(57.427 242.735656)scale(0.1 -0.1)\">\r\n       <use xlink:href=\"#DejaVuSans-53\"/>\r\n       <use x=\"63.623047\" xlink:href=\"#DejaVuSans-48\"/>\r\n      </g>\r\n     </g>\r\n    </g>\r\n    <g id=\"xtick_3\">\r\n     <g id=\"line2d_3\">\r\n      <g>\r\n       <use style=\"stroke:#000000;stroke-width:0.8;\" x=\"93.9895\" xlink:href=\"#m8b8a7f1b9d\" y=\"228.137219\"/>\r\n      </g>\r\n     </g>\r\n     <g id=\"text_3\">\r\n      <!-- 100 -->\r\n      <defs>\r\n       <path d=\"M 12.40625 8.296875 \r\nL 28.515625 8.296875 \r\nL 28.515625 63.921875 \r\nL 10.984375 60.40625 \r\nL 10.984375 69.390625 \r\nL 28.421875 72.90625 \r\nL 38.28125 72.90625 \r\nL 38.28125 8.296875 \r\nL 54.390625 8.296875 \r\nL 54.390625 0 \r\nL 12.40625 0 \r\nz\r\n\" id=\"DejaVuSans-49\"/>\r\n      </defs>\r\n      <g transform=\"translate(84.44575 242.735656)scale(0.1 -0.1)\">\r\n       <use xlink:href=\"#DejaVuSans-49\"/>\r\n       <use x=\"63.623047\" xlink:href=\"#DejaVuSans-48\"/>\r\n       <use x=\"127.246094\" xlink:href=\"#DejaVuSans-48\"/>\r\n      </g>\r\n     </g>\r\n    </g>\r\n    <g id=\"xtick_4\">\r\n     <g id=\"line2d_4\">\r\n      <g>\r\n       <use style=\"stroke:#000000;stroke-width:0.8;\" x=\"124.1895\" xlink:href=\"#m8b8a7f1b9d\" y=\"228.137219\"/>\r\n      </g>\r\n     </g>\r\n     <g id=\"text_4\">\r\n      <!-- 150 -->\r\n      <g transform=\"translate(114.64575 242.735656)scale(0.1 -0.1)\">\r\n       <use xlink:href=\"#DejaVuSans-49\"/>\r\n       <use x=\"63.623047\" xlink:href=\"#DejaVuSans-53\"/>\r\n       <use x=\"127.246094\" xlink:href=\"#DejaVuSans-48\"/>\r\n      </g>\r\n     </g>\r\n    </g>\r\n    <g id=\"xtick_5\">\r\n     <g id=\"line2d_5\">\r\n      <g>\r\n       <use style=\"stroke:#000000;stroke-width:0.8;\" x=\"154.3895\" xlink:href=\"#m8b8a7f1b9d\" y=\"228.137219\"/>\r\n      </g>\r\n     </g>\r\n     <g id=\"text_5\">\r\n      <!-- 200 -->\r\n      <defs>\r\n       <path d=\"M 19.1875 8.296875 \r\nL 53.609375 8.296875 \r\nL 53.609375 0 \r\nL 7.328125 0 \r\nL 7.328125 8.296875 \r\nQ 12.9375 14.109375 22.625 23.890625 \r\nQ 32.328125 33.6875 34.8125 36.53125 \r\nQ 39.546875 41.84375 41.421875 45.53125 \r\nQ 43.3125 49.21875 43.3125 52.78125 \r\nQ 43.3125 58.59375 39.234375 62.25 \r\nQ 35.15625 65.921875 28.609375 65.921875 \r\nQ 23.96875 65.921875 18.8125 64.3125 \r\nQ 13.671875 62.703125 7.8125 59.421875 \r\nL 7.8125 69.390625 \r\nQ 13.765625 71.78125 18.9375 73 \r\nQ 24.125 74.21875 28.421875 74.21875 \r\nQ 39.75 74.21875 46.484375 68.546875 \r\nQ 53.21875 62.890625 53.21875 53.421875 \r\nQ 53.21875 48.921875 51.53125 44.890625 \r\nQ 49.859375 40.875 45.40625 35.40625 \r\nQ 44.1875 33.984375 37.640625 27.21875 \r\nQ 31.109375 20.453125 19.1875 8.296875 \r\nz\r\n\" id=\"DejaVuSans-50\"/>\r\n      </defs>\r\n      <g transform=\"translate(144.84575 242.735656)scale(0.1 -0.1)\">\r\n       <use xlink:href=\"#DejaVuSans-50\"/>\r\n       <use x=\"63.623047\" xlink:href=\"#DejaVuSans-48\"/>\r\n       <use x=\"127.246094\" xlink:href=\"#DejaVuSans-48\"/>\r\n      </g>\r\n     </g>\r\n    </g>\r\n    <g id=\"xtick_6\">\r\n     <g id=\"line2d_6\">\r\n      <g>\r\n       <use style=\"stroke:#000000;stroke-width:0.8;\" x=\"184.5895\" xlink:href=\"#m8b8a7f1b9d\" y=\"228.137219\"/>\r\n      </g>\r\n     </g>\r\n     <g id=\"text_6\">\r\n      <!-- 250 -->\r\n      <g transform=\"translate(175.04575 242.735656)scale(0.1 -0.1)\">\r\n       <use xlink:href=\"#DejaVuSans-50\"/>\r\n       <use x=\"63.623047\" xlink:href=\"#DejaVuSans-53\"/>\r\n       <use x=\"127.246094\" xlink:href=\"#DejaVuSans-48\"/>\r\n      </g>\r\n     </g>\r\n    </g>\r\n    <g id=\"xtick_7\">\r\n     <g id=\"line2d_7\">\r\n      <g>\r\n       <use style=\"stroke:#000000;stroke-width:0.8;\" x=\"214.7895\" xlink:href=\"#m8b8a7f1b9d\" y=\"228.137219\"/>\r\n      </g>\r\n     </g>\r\n     <g id=\"text_7\">\r\n      <!-- 300 -->\r\n      <defs>\r\n       <path d=\"M 40.578125 39.3125 \r\nQ 47.65625 37.796875 51.625 33 \r\nQ 55.609375 28.21875 55.609375 21.1875 \r\nQ 55.609375 10.40625 48.1875 4.484375 \r\nQ 40.765625 -1.421875 27.09375 -1.421875 \r\nQ 22.515625 -1.421875 17.65625 -0.515625 \r\nQ 12.796875 0.390625 7.625 2.203125 \r\nL 7.625 11.71875 \r\nQ 11.71875 9.328125 16.59375 8.109375 \r\nQ 21.484375 6.890625 26.8125 6.890625 \r\nQ 36.078125 6.890625 40.9375 10.546875 \r\nQ 45.796875 14.203125 45.796875 21.1875 \r\nQ 45.796875 27.640625 41.28125 31.265625 \r\nQ 36.765625 34.90625 28.71875 34.90625 \r\nL 20.21875 34.90625 \r\nL 20.21875 43.015625 \r\nL 29.109375 43.015625 \r\nQ 36.375 43.015625 40.234375 45.921875 \r\nQ 44.09375 48.828125 44.09375 54.296875 \r\nQ 44.09375 59.90625 40.109375 62.90625 \r\nQ 36.140625 65.921875 28.71875 65.921875 \r\nQ 24.65625 65.921875 20.015625 65.03125 \r\nQ 15.375 64.15625 9.8125 62.3125 \r\nL 9.8125 71.09375 \r\nQ 15.4375 72.65625 20.34375 73.4375 \r\nQ 25.25 74.21875 29.59375 74.21875 \r\nQ 40.828125 74.21875 47.359375 69.109375 \r\nQ 53.90625 64.015625 53.90625 55.328125 \r\nQ 53.90625 49.265625 50.4375 45.09375 \r\nQ 46.96875 40.921875 40.578125 39.3125 \r\nz\r\n\" id=\"DejaVuSans-51\"/>\r\n      </defs>\r\n      <g transform=\"translate(205.24575 242.735656)scale(0.1 -0.1)\">\r\n       <use xlink:href=\"#DejaVuSans-51\"/>\r\n       <use x=\"63.623047\" xlink:href=\"#DejaVuSans-48\"/>\r\n       <use x=\"127.246094\" xlink:href=\"#DejaVuSans-48\"/>\r\n      </g>\r\n     </g>\r\n    </g>\r\n   </g>\r\n   <g id=\"matplotlib.axis_2\">\r\n    <g id=\"ytick_1\">\r\n     <g id=\"line2d_8\">\r\n      <defs>\r\n       <path d=\"M 0 0 \r\nL -3.5 0 \r\n\" id=\"m89d7858a29\" style=\"stroke:#000000;stroke-width:0.8;\"/>\r\n      </defs>\r\n      <g>\r\n       <use style=\"stroke:#000000;stroke-width:0.8;\" x=\"33.2875\" xlink:href=\"#m89d7858a29\" y=\"10.999219\"/>\r\n      </g>\r\n     </g>\r\n     <g id=\"text_8\">\r\n      <!-- 0 -->\r\n      <g transform=\"translate(19.925 14.798437)scale(0.1 -0.1)\">\r\n       <use xlink:href=\"#DejaVuSans-48\"/>\r\n      </g>\r\n     </g>\r\n    </g>\r\n    <g id=\"ytick_2\">\r\n     <g id=\"line2d_9\">\r\n      <g>\r\n       <use style=\"stroke:#000000;stroke-width:0.8;\" x=\"33.2875\" xlink:href=\"#m89d7858a29\" y=\"41.199219\"/>\r\n      </g>\r\n     </g>\r\n     <g id=\"text_9\">\r\n      <!-- 50 -->\r\n      <g transform=\"translate(13.5625 44.998437)scale(0.1 -0.1)\">\r\n       <use xlink:href=\"#DejaVuSans-53\"/>\r\n       <use x=\"63.623047\" xlink:href=\"#DejaVuSans-48\"/>\r\n      </g>\r\n     </g>\r\n    </g>\r\n    <g id=\"ytick_3\">\r\n     <g id=\"line2d_10\">\r\n      <g>\r\n       <use style=\"stroke:#000000;stroke-width:0.8;\" x=\"33.2875\" xlink:href=\"#m89d7858a29\" y=\"71.399219\"/>\r\n      </g>\r\n     </g>\r\n     <g id=\"text_10\">\r\n      <!-- 100 -->\r\n      <g transform=\"translate(7.2 75.198437)scale(0.1 -0.1)\">\r\n       <use xlink:href=\"#DejaVuSans-49\"/>\r\n       <use x=\"63.623047\" xlink:href=\"#DejaVuSans-48\"/>\r\n       <use x=\"127.246094\" xlink:href=\"#DejaVuSans-48\"/>\r\n      </g>\r\n     </g>\r\n    </g>\r\n    <g id=\"ytick_4\">\r\n     <g id=\"line2d_11\">\r\n      <g>\r\n       <use style=\"stroke:#000000;stroke-width:0.8;\" x=\"33.2875\" xlink:href=\"#m89d7858a29\" y=\"101.599219\"/>\r\n      </g>\r\n     </g>\r\n     <g id=\"text_11\">\r\n      <!-- 150 -->\r\n      <g transform=\"translate(7.2 105.398437)scale(0.1 -0.1)\">\r\n       <use xlink:href=\"#DejaVuSans-49\"/>\r\n       <use x=\"63.623047\" xlink:href=\"#DejaVuSans-53\"/>\r\n       <use x=\"127.246094\" xlink:href=\"#DejaVuSans-48\"/>\r\n      </g>\r\n     </g>\r\n    </g>\r\n    <g id=\"ytick_5\">\r\n     <g id=\"line2d_12\">\r\n      <g>\r\n       <use style=\"stroke:#000000;stroke-width:0.8;\" x=\"33.2875\" xlink:href=\"#m89d7858a29\" y=\"131.799219\"/>\r\n      </g>\r\n     </g>\r\n     <g id=\"text_12\">\r\n      <!-- 200 -->\r\n      <g transform=\"translate(7.2 135.598437)scale(0.1 -0.1)\">\r\n       <use xlink:href=\"#DejaVuSans-50\"/>\r\n       <use x=\"63.623047\" xlink:href=\"#DejaVuSans-48\"/>\r\n       <use x=\"127.246094\" xlink:href=\"#DejaVuSans-48\"/>\r\n      </g>\r\n     </g>\r\n    </g>\r\n    <g id=\"ytick_6\">\r\n     <g id=\"line2d_13\">\r\n      <g>\r\n       <use style=\"stroke:#000000;stroke-width:0.8;\" x=\"33.2875\" xlink:href=\"#m89d7858a29\" y=\"161.999219\"/>\r\n      </g>\r\n     </g>\r\n     <g id=\"text_13\">\r\n      <!-- 250 -->\r\n      <g transform=\"translate(7.2 165.798437)scale(0.1 -0.1)\">\r\n       <use xlink:href=\"#DejaVuSans-50\"/>\r\n       <use x=\"63.623047\" xlink:href=\"#DejaVuSans-53\"/>\r\n       <use x=\"127.246094\" xlink:href=\"#DejaVuSans-48\"/>\r\n      </g>\r\n     </g>\r\n    </g>\r\n    <g id=\"ytick_7\">\r\n     <g id=\"line2d_14\">\r\n      <g>\r\n       <use style=\"stroke:#000000;stroke-width:0.8;\" x=\"33.2875\" xlink:href=\"#m89d7858a29\" y=\"192.199219\"/>\r\n      </g>\r\n     </g>\r\n     <g id=\"text_14\">\r\n      <!-- 300 -->\r\n      <g transform=\"translate(7.2 195.998437)scale(0.1 -0.1)\">\r\n       <use xlink:href=\"#DejaVuSans-51\"/>\r\n       <use x=\"63.623047\" xlink:href=\"#DejaVuSans-48\"/>\r\n       <use x=\"127.246094\" xlink:href=\"#DejaVuSans-48\"/>\r\n      </g>\r\n     </g>\r\n    </g>\r\n    <g id=\"ytick_8\">\r\n     <g id=\"line2d_15\">\r\n      <g>\r\n       <use style=\"stroke:#000000;stroke-width:0.8;\" x=\"33.2875\" xlink:href=\"#m89d7858a29\" y=\"222.399219\"/>\r\n      </g>\r\n     </g>\r\n     <g id=\"text_15\">\r\n      <!-- 350 -->\r\n      <g transform=\"translate(7.2 226.198437)scale(0.1 -0.1)\">\r\n       <use xlink:href=\"#DejaVuSans-51\"/>\r\n       <use x=\"63.623047\" xlink:href=\"#DejaVuSans-53\"/>\r\n       <use x=\"127.246094\" xlink:href=\"#DejaVuSans-48\"/>\r\n      </g>\r\n     </g>\r\n    </g>\r\n   </g>\r\n   <g id=\"patch_3\">\r\n    <path d=\"M 33.2875 228.137219 \r\nL 33.2875 10.697219 \r\n\" style=\"fill:none;stroke:#000000;stroke-linecap:square;stroke-linejoin:miter;stroke-width:0.8;\"/>\r\n   </g>\r\n   <g id=\"patch_4\">\r\n    <path d=\"M 244.6875 228.137219 \r\nL 244.6875 10.697219 \r\n\" style=\"fill:none;stroke:#000000;stroke-linecap:square;stroke-linejoin:miter;stroke-width:0.8;\"/>\r\n   </g>\r\n   <g id=\"patch_5\">\r\n    <path d=\"M 33.2875 228.137219 \r\nL 244.6875 228.137219 \r\n\" style=\"fill:none;stroke:#000000;stroke-linecap:square;stroke-linejoin:miter;stroke-width:0.8;\"/>\r\n   </g>\r\n   <g id=\"patch_6\">\r\n    <path d=\"M 33.2875 10.697219 \r\nL 244.6875 10.697219 \r\n\" style=\"fill:none;stroke:#000000;stroke-linecap:square;stroke-linejoin:miter;stroke-width:0.8;\"/>\r\n   </g>\r\n  </g>\r\n </g>\r\n <defs>\r\n  <clipPath id=\"p1bc18fad08\">\r\n   <rect height=\"217.44\" width=\"211.4\" x=\"33.2875\" y=\"10.697219\"/>\r\n  </clipPath>\r\n </defs>\r\n</svg>\r\n",
      "image/png": "[encoded data removed]"
     },
     "metadata": {
      "needs_background": "light"
     }
    }
   ],
   "source": [
    "plt.imshow(cv2.cvtColor(temp_img, cv2.COLOR_BGR2RGB))"
   ]
  },
  {
   "cell_type": "code",
   "execution_count": null,
   "metadata": {},
   "outputs": [],
   "source": [
    "def boundaryFill4(img, x, y, fill_color, hole_xycoords, channels=3, **kwargs):\n",
    "    if (([x,y] in xy_coords) & (fill_color != tuple(img[y,x])):\n",
    "        img[y,x] = fill_pixel(x=x, y=y, channels=channels)\n",
    "        boundaryFill4(img, x+1, y, fill_color, hole_xycoords, channels=channels)\n",
    "        boundaryFill4(img, x, y+1, fill_color, hole_xycoords, channels=channels)\n",
    "        boundaryFill4(img, x-1, y, fill_color, hole_xycoords, channels=channels)\n",
    "        boundaryFill4(img, x, y-1, fill_color, hole_xycoords, channels=channels)\n",
    "\n"
   ]
  },
  {
   "cell_type": "code",
   "execution_count": null,
   "metadata": {},
   "outputs": [],
   "source": [
    "def boundaryDetection(img, x, y,  b_list=[]):\n",
    "    if img[y,x]==0:\n",
    "        if img[y,x+1]>0:\n",
    "            b_list.append([x,y])\n",
    "            return(b_list)\n",
    "        elif img[y,x-1]>0:\n",
    "            b_list.append([x,y])\n",
    "        elif img[y+1,x]>0:\n",
    "            b_list.append([x,y])\n",
    "        elif img[y-1,x]>0:\n",
    "            b_list.append([x,y])\n",
    "        b_list.append([y,x])\n",
    "        boundaryDetection(img, x=x+1, y=y,  b_list=b_list)\n",
    "    "
   ]
  },
  {
   "cell_type": "code",
   "execution_count": 143,
   "metadata": {},
   "outputs": [
    {
     "output_type": "execute_result",
     "data": {
      "text/plain": [
       "(360, 350)"
      ]
     },
     "metadata": {},
     "execution_count": 143
    }
   ],
   "source": [
    "mask.shape"
   ]
  },
  {
   "cell_type": "code",
   "execution_count": 163,
   "metadata": {},
   "outputs": [],
   "source": [
    "# works! 4 - connected\n",
    "def boundaryDetect4(img_mask):\n",
    "    \"\"\"\n",
    "    get a single chanel binary mask image and return the boundary pixels coordinates\n",
    "    input: \n",
    "    img_mask - the mask of an image\n",
    "    output:\n",
    "    list of coordinates arrays ordered as [x,y]\n",
    "    \"\"\"\n",
    "    b_list=[]\n",
    "    cols, rows = img_mask.shape\n",
    "    for y in range(cols-1):\n",
    "        for x in range(rows-1):\n",
    "            if img_mask[y,x]==0:\n",
    "                if img_mask[y,x+1]>0:\n",
    "                    b_list.append([x,y])\n",
    "                elif img_mask[y,x-1]>0:\n",
    "                    b_list.append([x,y])\n",
    "                elif img_mask[y+1,x]>0:\n",
    "                    b_list.append([x,y])\n",
    "                elif img_mask[y-1,x]>0:\n",
    "                    b_list.append([x,y])\n",
    "    return(b_list)\n"
   ]
  },
  {
   "cell_type": "code",
   "execution_count": 162,
   "metadata": {},
   "outputs": [],
   "source": [
    "# works! 8 - connected\n",
    "def boundaryDetect8(img_mask):\n",
    "    \"\"\"\n",
    "    get a single chanel binary mask image and return the boundary pixels coordinates\n",
    "    input: \n",
    "    img_mask - the mask of an image\n",
    "    output:\n",
    "    list of coordinates arrays ordered as [x,y]\n",
    "    \"\"\"\n",
    "    b_list=[]\n",
    "    cols, rows = img_mask.shape\n",
    "    for y in range(cols-1):\n",
    "        for x in range(rows-1):\n",
    "            if img_mask[y,x]==0:\n",
    "                if img_mask[y,x+1]>0:\n",
    "                    b_list.append([x,y])\n",
    "                elif img_mask[y,x-1]>0:\n",
    "                    b_list.append([x,y])\n",
    "                elif img_mask[y+1,x]>0:\n",
    "                    b_list.append([x,y])\n",
    "                elif img_mask[y-1,x]>0:\n",
    "                    b_list.append([x,y])\n",
    "                elif img_mask[y-1,x-1]>0:\n",
    "                    b_list.append([x,y])\n",
    "                elif img_mask[y+1,x-1]>0:\n",
    "                    b_list.append([x,y])\n",
    "                elif img_mask[y-1,x+1]>0:\n",
    "                    b_list.append([x,y])\n",
    "                elif img_mask[y+1,x+1]>0:\n",
    "                    b_list.append([x,y])\n",
    "    return(b_list)\n"
   ]
  },
  {
   "cell_type": "code",
   "execution_count": 157,
   "metadata": {},
   "outputs": [
    {
     "output_type": "execute_result",
     "data": {
      "text/plain": [
       "array([255, 255, 255], dtype=uint8)"
      ]
     },
     "metadata": {},
     "execution_count": 157
    }
   ],
   "source": [
    "image[172,129]"
   ]
  },
  {
   "cell_type": "code",
   "execution_count": 160,
   "metadata": {},
   "outputs": [
    {
     "output_type": "execute_result",
     "data": {
      "text/plain": [
       "<matplotlib.image.AxesImage at 0x221602c8dc8>"
      ]
     },
     "metadata": {},
     "execution_count": 160
    },
    {
     "output_type": "display_data",
     "data": {
      "text/plain": "<Figure size 432x288 with 1 Axes>",
      "image/svg+xml": "<?xml version=\"1.0\" encoding=\"utf-8\" standalone=\"no\"?>\r\n<!DOCTYPE svg PUBLIC \"-//W3C//DTD SVG 1.1//EN\"\r\n  \"http://www.w3.org/Graphics/SVG/1.1/DTD/svg11.dtd\">\r\n<!-- Created with matplotlib (https://matplotlib.org/) -->\r\n<svg height=\"252.015344pt\" version=\"1.1\" viewBox=\"0 0 251.8875 252.015344\" width=\"251.8875pt\" xmlns=\"http://www.w3.org/2000/svg\" xmlns:xlink=\"http://www.w3.org/1999/xlink\">\r\n <defs>\r\n  <style type=\"text/css\">\r\n*{stroke-linecap:butt;stroke-linejoin:round;}\r\n  </style>\r\n </defs>\r\n <g id=\"figure_1\">\r\n  <g id=\"patch_1\">\r\n   <path d=\"M 0 252.015344 \r\nL 251.8875 252.015344 \r\nL 251.8875 0 \r\nL 0 0 \r\nz\r\n\" style=\"fill:none;\"/>\r\n  </g>\r\n  <g id=\"axes_1\">\r\n   <g id=\"patch_2\">\r\n    <path d=\"M 33.2875 228.137219 \r\nL 244.6875 228.137219 \r\nL 244.6875 10.697219 \r\nL 33.2875 10.697219 \r\nz\r\n\" style=\"fill:#ffffff;\"/>\r\n   </g>\r\n   <g clip-path=\"url(#p5572a5465f)\">\r\n    <image height=\"218\" id=\"image00a679c2ed\" transform=\"scale(1 -1)translate(0 -218)\" width=\"212\" x=\"33.2875\" xlink:href=\"data:image/png;base64,\r\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\" y=\"-10.137219\"/>\r\n   </g>\r\n   <g id=\"matplotlib.axis_1\">\r\n    <g id=\"xtick_1\">\r\n     <g id=\"line2d_1\">\r\n      <defs>\r\n       <path d=\"M 0 0 \r\nL 0 3.5 \r\n\" id=\"m4907dc0acf\" style=\"stroke:#000000;stroke-width:0.8;\"/>\r\n      </defs>\r\n      <g>\r\n       <use style=\"stroke:#000000;stroke-width:0.8;\" x=\"33.5895\" xlink:href=\"#m4907dc0acf\" y=\"228.137219\"/>\r\n      </g>\r\n     </g>\r\n     <g id=\"text_1\">\r\n      <!-- 0 -->\r\n      <defs>\r\n       <path d=\"M 31.78125 66.40625 \r\nQ 24.171875 66.40625 20.328125 58.90625 \r\nQ 16.5 51.421875 16.5 36.375 \r\nQ 16.5 21.390625 20.328125 13.890625 \r\nQ 24.171875 6.390625 31.78125 6.390625 \r\nQ 39.453125 6.390625 43.28125 13.890625 \r\nQ 47.125 21.390625 47.125 36.375 \r\nQ 47.125 51.421875 43.28125 58.90625 \r\nQ 39.453125 66.40625 31.78125 66.40625 \r\nz\r\nM 31.78125 74.21875 \r\nQ 44.046875 74.21875 50.515625 64.515625 \r\nQ 56.984375 54.828125 56.984375 36.375 \r\nQ 56.984375 17.96875 50.515625 8.265625 \r\nQ 44.046875 -1.421875 31.78125 -1.421875 \r\nQ 19.53125 -1.421875 13.0625 8.265625 \r\nQ 6.59375 17.96875 6.59375 36.375 \r\nQ 6.59375 54.828125 13.0625 64.515625 \r\nQ 19.53125 74.21875 31.78125 74.21875 \r\nz\r\n\" id=\"DejaVuSans-48\"/>\r\n      </defs>\r\n      <g transform=\"translate(30.40825 242.735656)scale(0.1 -0.1)\">\r\n       <use xlink:href=\"#DejaVuSans-48\"/>\r\n      </g>\r\n     </g>\r\n    </g>\r\n    <g id=\"xtick_2\">\r\n     <g id=\"line2d_2\">\r\n      <g>\r\n       <use style=\"stroke:#000000;stroke-width:0.8;\" x=\"63.7895\" xlink:href=\"#m4907dc0acf\" y=\"228.137219\"/>\r\n      </g>\r\n     </g>\r\n     <g id=\"text_2\">\r\n      <!-- 50 -->\r\n      <defs>\r\n       <path d=\"M 10.796875 72.90625 \r\nL 49.515625 72.90625 \r\nL 49.515625 64.59375 \r\nL 19.828125 64.59375 \r\nL 19.828125 46.734375 \r\nQ 21.96875 47.46875 24.109375 47.828125 \r\nQ 26.265625 48.1875 28.421875 48.1875 \r\nQ 40.625 48.1875 47.75 41.5 \r\nQ 54.890625 34.8125 54.890625 23.390625 \r\nQ 54.890625 11.625 47.5625 5.09375 \r\nQ 40.234375 -1.421875 26.90625 -1.421875 \r\nQ 22.3125 -1.421875 17.546875 -0.640625 \r\nQ 12.796875 0.140625 7.71875 1.703125 \r\nL 7.71875 11.625 \r\nQ 12.109375 9.234375 16.796875 8.0625 \r\nQ 21.484375 6.890625 26.703125 6.890625 \r\nQ 35.15625 6.890625 40.078125 11.328125 \r\nQ 45.015625 15.765625 45.015625 23.390625 \r\nQ 45.015625 31 40.078125 35.4375 \r\nQ 35.15625 39.890625 26.703125 39.890625 \r\nQ 22.75 39.890625 18.8125 39.015625 \r\nQ 14.890625 38.140625 10.796875 36.28125 \r\nz\r\n\" id=\"DejaVuSans-53\"/>\r\n      </defs>\r\n      <g transform=\"translate(57.427 242.735656)scale(0.1 -0.1)\">\r\n       <use xlink:href=\"#DejaVuSans-53\"/>\r\n       <use x=\"63.623047\" xlink:href=\"#DejaVuSans-48\"/>\r\n      </g>\r\n     </g>\r\n    </g>\r\n    <g id=\"xtick_3\">\r\n     <g id=\"line2d_3\">\r\n      <g>\r\n       <use style=\"stroke:#000000;stroke-width:0.8;\" x=\"93.9895\" xlink:href=\"#m4907dc0acf\" y=\"228.137219\"/>\r\n      </g>\r\n     </g>\r\n     <g id=\"text_3\">\r\n      <!-- 100 -->\r\n      <defs>\r\n       <path d=\"M 12.40625 8.296875 \r\nL 28.515625 8.296875 \r\nL 28.515625 63.921875 \r\nL 10.984375 60.40625 \r\nL 10.984375 69.390625 \r\nL 28.421875 72.90625 \r\nL 38.28125 72.90625 \r\nL 38.28125 8.296875 \r\nL 54.390625 8.296875 \r\nL 54.390625 0 \r\nL 12.40625 0 \r\nz\r\n\" id=\"DejaVuSans-49\"/>\r\n      </defs>\r\n      <g transform=\"translate(84.44575 242.735656)scale(0.1 -0.1)\">\r\n       <use xlink:href=\"#DejaVuSans-49\"/>\r\n       <use x=\"63.623047\" xlink:href=\"#DejaVuSans-48\"/>\r\n       <use x=\"127.246094\" xlink:href=\"#DejaVuSans-48\"/>\r\n      </g>\r\n     </g>\r\n    </g>\r\n    <g id=\"xtick_4\">\r\n     <g id=\"line2d_4\">\r\n      <g>\r\n       <use style=\"stroke:#000000;stroke-width:0.8;\" x=\"124.1895\" xlink:href=\"#m4907dc0acf\" y=\"228.137219\"/>\r\n      </g>\r\n     </g>\r\n     <g id=\"text_4\">\r\n      <!-- 150 -->\r\n      <g transform=\"translate(114.64575 242.735656)scale(0.1 -0.1)\">\r\n       <use xlink:href=\"#DejaVuSans-49\"/>\r\n       <use x=\"63.623047\" xlink:href=\"#DejaVuSans-53\"/>\r\n       <use x=\"127.246094\" xlink:href=\"#DejaVuSans-48\"/>\r\n      </g>\r\n     </g>\r\n    </g>\r\n    <g id=\"xtick_5\">\r\n     <g id=\"line2d_5\">\r\n      <g>\r\n       <use style=\"stroke:#000000;stroke-width:0.8;\" x=\"154.3895\" xlink:href=\"#m4907dc0acf\" y=\"228.137219\"/>\r\n      </g>\r\n     </g>\r\n     <g id=\"text_5\">\r\n      <!-- 200 -->\r\n      <defs>\r\n       <path d=\"M 19.1875 8.296875 \r\nL 53.609375 8.296875 \r\nL 53.609375 0 \r\nL 7.328125 0 \r\nL 7.328125 8.296875 \r\nQ 12.9375 14.109375 22.625 23.890625 \r\nQ 32.328125 33.6875 34.8125 36.53125 \r\nQ 39.546875 41.84375 41.421875 45.53125 \r\nQ 43.3125 49.21875 43.3125 52.78125 \r\nQ 43.3125 58.59375 39.234375 62.25 \r\nQ 35.15625 65.921875 28.609375 65.921875 \r\nQ 23.96875 65.921875 18.8125 64.3125 \r\nQ 13.671875 62.703125 7.8125 59.421875 \r\nL 7.8125 69.390625 \r\nQ 13.765625 71.78125 18.9375 73 \r\nQ 24.125 74.21875 28.421875 74.21875 \r\nQ 39.75 74.21875 46.484375 68.546875 \r\nQ 53.21875 62.890625 53.21875 53.421875 \r\nQ 53.21875 48.921875 51.53125 44.890625 \r\nQ 49.859375 40.875 45.40625 35.40625 \r\nQ 44.1875 33.984375 37.640625 27.21875 \r\nQ 31.109375 20.453125 19.1875 8.296875 \r\nz\r\n\" id=\"DejaVuSans-50\"/>\r\n      </defs>\r\n      <g transform=\"translate(144.84575 242.735656)scale(0.1 -0.1)\">\r\n       <use xlink:href=\"#DejaVuSans-50\"/>\r\n       <use x=\"63.623047\" xlink:href=\"#DejaVuSans-48\"/>\r\n       <use x=\"127.246094\" xlink:href=\"#DejaVuSans-48\"/>\r\n      </g>\r\n     </g>\r\n    </g>\r\n    <g id=\"xtick_6\">\r\n     <g id=\"line2d_6\">\r\n      <g>\r\n       <use style=\"stroke:#000000;stroke-width:0.8;\" x=\"184.5895\" xlink:href=\"#m4907dc0acf\" y=\"228.137219\"/>\r\n      </g>\r\n     </g>\r\n     <g id=\"text_6\">\r\n      <!-- 250 -->\r\n      <g transform=\"translate(175.04575 242.735656)scale(0.1 -0.1)\">\r\n       <use xlink:href=\"#DejaVuSans-50\"/>\r\n       <use x=\"63.623047\" xlink:href=\"#DejaVuSans-53\"/>\r\n       <use x=\"127.246094\" xlink:href=\"#DejaVuSans-48\"/>\r\n      </g>\r\n     </g>\r\n    </g>\r\n    <g id=\"xtick_7\">\r\n     <g id=\"line2d_7\">\r\n      <g>\r\n       <use style=\"stroke:#000000;stroke-width:0.8;\" x=\"214.7895\" xlink:href=\"#m4907dc0acf\" y=\"228.137219\"/>\r\n      </g>\r\n     </g>\r\n     <g id=\"text_7\">\r\n      <!-- 300 -->\r\n      <defs>\r\n       <path d=\"M 40.578125 39.3125 \r\nQ 47.65625 37.796875 51.625 33 \r\nQ 55.609375 28.21875 55.609375 21.1875 \r\nQ 55.609375 10.40625 48.1875 4.484375 \r\nQ 40.765625 -1.421875 27.09375 -1.421875 \r\nQ 22.515625 -1.421875 17.65625 -0.515625 \r\nQ 12.796875 0.390625 7.625 2.203125 \r\nL 7.625 11.71875 \r\nQ 11.71875 9.328125 16.59375 8.109375 \r\nQ 21.484375 6.890625 26.8125 6.890625 \r\nQ 36.078125 6.890625 40.9375 10.546875 \r\nQ 45.796875 14.203125 45.796875 21.1875 \r\nQ 45.796875 27.640625 41.28125 31.265625 \r\nQ 36.765625 34.90625 28.71875 34.90625 \r\nL 20.21875 34.90625 \r\nL 20.21875 43.015625 \r\nL 29.109375 43.015625 \r\nQ 36.375 43.015625 40.234375 45.921875 \r\nQ 44.09375 48.828125 44.09375 54.296875 \r\nQ 44.09375 59.90625 40.109375 62.90625 \r\nQ 36.140625 65.921875 28.71875 65.921875 \r\nQ 24.65625 65.921875 20.015625 65.03125 \r\nQ 15.375 64.15625 9.8125 62.3125 \r\nL 9.8125 71.09375 \r\nQ 15.4375 72.65625 20.34375 73.4375 \r\nQ 25.25 74.21875 29.59375 74.21875 \r\nQ 40.828125 74.21875 47.359375 69.109375 \r\nQ 53.90625 64.015625 53.90625 55.328125 \r\nQ 53.90625 49.265625 50.4375 45.09375 \r\nQ 46.96875 40.921875 40.578125 39.3125 \r\nz\r\n\" id=\"DejaVuSans-51\"/>\r\n      </defs>\r\n      <g transform=\"translate(205.24575 242.735656)scale(0.1 -0.1)\">\r\n       <use xlink:href=\"#DejaVuSans-51\"/>\r\n       <use x=\"63.623047\" xlink:href=\"#DejaVuSans-48\"/>\r\n       <use x=\"127.246094\" xlink:href=\"#DejaVuSans-48\"/>\r\n      </g>\r\n     </g>\r\n    </g>\r\n   </g>\r\n   <g id=\"matplotlib.axis_2\">\r\n    <g id=\"ytick_1\">\r\n     <g id=\"line2d_8\">\r\n      <defs>\r\n       <path d=\"M 0 0 \r\nL -3.5 0 \r\n\" id=\"mb6758feb72\" style=\"stroke:#000000;stroke-width:0.8;\"/>\r\n      </defs>\r\n      <g>\r\n       <use style=\"stroke:#000000;stroke-width:0.8;\" x=\"33.2875\" xlink:href=\"#mb6758feb72\" y=\"10.999219\"/>\r\n      </g>\r\n     </g>\r\n     <g id=\"text_8\">\r\n      <!-- 0 -->\r\n      <g transform=\"translate(19.925 14.798437)scale(0.1 -0.1)\">\r\n       <use xlink:href=\"#DejaVuSans-48\"/>\r\n      </g>\r\n     </g>\r\n    </g>\r\n    <g id=\"ytick_2\">\r\n     <g id=\"line2d_9\">\r\n      <g>\r\n       <use style=\"stroke:#000000;stroke-width:0.8;\" x=\"33.2875\" xlink:href=\"#mb6758feb72\" y=\"41.199219\"/>\r\n      </g>\r\n     </g>\r\n     <g id=\"text_9\">\r\n      <!-- 50 -->\r\n      <g transform=\"translate(13.5625 44.998437)scale(0.1 -0.1)\">\r\n       <use xlink:href=\"#DejaVuSans-53\"/>\r\n       <use x=\"63.623047\" xlink:href=\"#DejaVuSans-48\"/>\r\n      </g>\r\n     </g>\r\n    </g>\r\n    <g id=\"ytick_3\">\r\n     <g id=\"line2d_10\">\r\n      <g>\r\n       <use style=\"stroke:#000000;stroke-width:0.8;\" x=\"33.2875\" xlink:href=\"#mb6758feb72\" y=\"71.399219\"/>\r\n      </g>\r\n     </g>\r\n     <g id=\"text_10\">\r\n      <!-- 100 -->\r\n      <g transform=\"translate(7.2 75.198437)scale(0.1 -0.1)\">\r\n       <use xlink:href=\"#DejaVuSans-49\"/>\r\n       <use x=\"63.623047\" xlink:href=\"#DejaVuSans-48\"/>\r\n       <use x=\"127.246094\" xlink:href=\"#DejaVuSans-48\"/>\r\n      </g>\r\n     </g>\r\n    </g>\r\n    <g id=\"ytick_4\">\r\n     <g id=\"line2d_11\">\r\n      <g>\r\n       <use style=\"stroke:#000000;stroke-width:0.8;\" x=\"33.2875\" xlink:href=\"#mb6758feb72\" y=\"101.599219\"/>\r\n      </g>\r\n     </g>\r\n     <g id=\"text_11\">\r\n      <!-- 150 -->\r\n      <g transform=\"translate(7.2 105.398437)scale(0.1 -0.1)\">\r\n       <use xlink:href=\"#DejaVuSans-49\"/>\r\n       <use x=\"63.623047\" xlink:href=\"#DejaVuSans-53\"/>\r\n       <use x=\"127.246094\" xlink:href=\"#DejaVuSans-48\"/>\r\n      </g>\r\n     </g>\r\n    </g>\r\n    <g id=\"ytick_5\">\r\n     <g id=\"line2d_12\">\r\n      <g>\r\n       <use style=\"stroke:#000000;stroke-width:0.8;\" x=\"33.2875\" xlink:href=\"#mb6758feb72\" y=\"131.799219\"/>\r\n      </g>\r\n     </g>\r\n     <g id=\"text_12\">\r\n      <!-- 200 -->\r\n      <g transform=\"translate(7.2 135.598437)scale(0.1 -0.1)\">\r\n       <use xlink:href=\"#DejaVuSans-50\"/>\r\n       <use x=\"63.623047\" xlink:href=\"#DejaVuSans-48\"/>\r\n       <use x=\"127.246094\" xlink:href=\"#DejaVuSans-48\"/>\r\n      </g>\r\n     </g>\r\n    </g>\r\n    <g id=\"ytick_6\">\r\n     <g id=\"line2d_13\">\r\n      <g>\r\n       <use style=\"stroke:#000000;stroke-width:0.8;\" x=\"33.2875\" xlink:href=\"#mb6758feb72\" y=\"161.999219\"/>\r\n      </g>\r\n     </g>\r\n     <g id=\"text_13\">\r\n      <!-- 250 -->\r\n      <g transform=\"translate(7.2 165.798437)scale(0.1 -0.1)\">\r\n       <use xlink:href=\"#DejaVuSans-50\"/>\r\n       <use x=\"63.623047\" xlink:href=\"#DejaVuSans-53\"/>\r\n       <use x=\"127.246094\" xlink:href=\"#DejaVuSans-48\"/>\r\n      </g>\r\n     </g>\r\n    </g>\r\n    <g id=\"ytick_7\">\r\n     <g id=\"line2d_14\">\r\n      <g>\r\n       <use style=\"stroke:#000000;stroke-width:0.8;\" x=\"33.2875\" xlink:href=\"#mb6758feb72\" y=\"192.199219\"/>\r\n      </g>\r\n     </g>\r\n     <g id=\"text_14\">\r\n      <!-- 300 -->\r\n      <g transform=\"translate(7.2 195.998437)scale(0.1 -0.1)\">\r\n       <use xlink:href=\"#DejaVuSans-51\"/>\r\n       <use x=\"63.623047\" xlink:href=\"#DejaVuSans-48\"/>\r\n       <use x=\"127.246094\" xlink:href=\"#DejaVuSans-48\"/>\r\n      </g>\r\n     </g>\r\n    </g>\r\n    <g id=\"ytick_8\">\r\n     <g id=\"line2d_15\">\r\n      <g>\r\n       <use style=\"stroke:#000000;stroke-width:0.8;\" x=\"33.2875\" xlink:href=\"#mb6758feb72\" y=\"222.399219\"/>\r\n      </g>\r\n     </g>\r\n     <g id=\"text_15\">\r\n      <!-- 350 -->\r\n      <g transform=\"translate(7.2 226.198437)scale(0.1 -0.1)\">\r\n       <use xlink:href=\"#DejaVuSans-51\"/>\r\n       <use x=\"63.623047\" xlink:href=\"#DejaVuSans-53\"/>\r\n       <use x=\"127.246094\" xlink:href=\"#DejaVuSans-48\"/>\r\n      </g>\r\n     </g>\r\n    </g>\r\n   </g>\r\n   <g id=\"patch_3\">\r\n    <path d=\"M 33.2875 228.137219 \r\nL 33.2875 10.697219 \r\n\" style=\"fill:none;stroke:#000000;stroke-linecap:square;stroke-linejoin:miter;stroke-width:0.8;\"/>\r\n   </g>\r\n   <g id=\"patch_4\">\r\n    <path d=\"M 244.6875 228.137219 \r\nL 244.6875 10.697219 \r\n\" style=\"fill:none;stroke:#000000;stroke-linecap:square;stroke-linejoin:miter;stroke-width:0.8;\"/>\r\n   </g>\r\n   <g id=\"patch_5\">\r\n    <path d=\"M 33.2875 228.137219 \r\nL 244.6875 228.137219 \r\n\" style=\"fill:none;stroke:#000000;stroke-linecap:square;stroke-linejoin:miter;stroke-width:0.8;\"/>\r\n   </g>\r\n   <g id=\"patch_6\">\r\n    <path d=\"M 33.2875 10.697219 \r\nL 244.6875 10.697219 \r\n\" style=\"fill:none;stroke:#000000;stroke-linecap:square;stroke-linejoin:miter;stroke-width:0.8;\"/>\r\n   </g>\r\n  </g>\r\n </g>\r\n <defs>\r\n  <clipPath id=\"p5572a5465f\">\r\n   <rect height=\"217.44\" width=\"211.4\" x=\"33.2875\" y=\"10.697219\"/>\r\n  </clipPath>\r\n </defs>\r\n</svg>\r\n",
      "image/png": "[encoded data removed]"
     },
     "metadata": {
      "needs_background": "light"
     }
    }
   ],
   "source": [
    "# fill the hole\n",
    "temp_img = image.copy()\n",
    "for i in b_list:\n",
    "    x = i[0]\n",
    "    y = i[1]\n",
    "    temp_img[y,x] = (0, 0, 255)\n",
    "\n",
    "# show results\n",
    "plt.imshow(cv2.cvtColor(temp_img, cv2.COLOR_BGR2RGB))"
   ]
  },
  {
   "cell_type": "code",
   "execution_count": 127,
   "metadata": {},
   "outputs": [],
   "source": [
    "contours, _ = cv2.findContours(mask, cv2.RETR_TREE, cv2.CHAIN_APPROX_NONE)"
   ]
  },
  {
   "cell_type": "code",
   "execution_count": 151,
   "metadata": {},
   "outputs": [
    {
     "output_type": "execute_result",
     "data": {
      "text/plain": [
       "<matplotlib.image.AxesImage at 0x221600dcec8>"
      ]
     },
     "metadata": {},
     "execution_count": 151
    },
    {
     "output_type": "display_data",
     "data": {
      "text/plain": "<Figure size 432x288 with 1 Axes>",
      "image/svg+xml": "<?xml version=\"1.0\" encoding=\"utf-8\" standalone=\"no\"?>\r\n<!DOCTYPE svg PUBLIC \"-//W3C//DTD SVG 1.1//EN\"\r\n  \"http://www.w3.org/Graphics/SVG/1.1/DTD/svg11.dtd\">\r\n<!-- Created with matplotlib (https://matplotlib.org/) -->\r\n<svg height=\"252.015344pt\" version=\"1.1\" viewBox=\"0 0 251.8875 252.015344\" width=\"251.8875pt\" xmlns=\"http://www.w3.org/2000/svg\" xmlns:xlink=\"http://www.w3.org/1999/xlink\">\r\n <defs>\r\n  <style type=\"text/css\">\r\n*{stroke-linecap:butt;stroke-linejoin:round;}\r\n  </style>\r\n </defs>\r\n <g id=\"figure_1\">\r\n  <g id=\"patch_1\">\r\n   <path d=\"M 0 252.015344 \r\nL 251.8875 252.015344 \r\nL 251.8875 0 \r\nL 0 0 \r\nz\r\n\" style=\"fill:none;\"/>\r\n  </g>\r\n  <g id=\"axes_1\">\r\n   <g id=\"patch_2\">\r\n    <path d=\"M 33.2875 228.137219 \r\nL 244.6875 228.137219 \r\nL 244.6875 10.697219 \r\nL 33.2875 10.697219 \r\nz\r\n\" style=\"fill:#ffffff;\"/>\r\n   </g>\r\n   <g clip-path=\"url(#p587a5829bf)\">\r\n    <image height=\"218\" id=\"image184dfead45\" transform=\"scale(1 -1)translate(0 -218)\" width=\"212\" x=\"33.2875\" xlink:href=\"data:image/png;base64,\r\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\" y=\"-10.137219\"/>\r\n   </g>\r\n   <g id=\"matplotlib.axis_1\">\r\n    <g id=\"xtick_1\">\r\n     <g id=\"line2d_1\">\r\n      <defs>\r\n       <path d=\"M 0 0 \r\nL 0 3.5 \r\n\" id=\"m3c1873dc5d\" style=\"stroke:#000000;stroke-width:0.8;\"/>\r\n      </defs>\r\n      <g>\r\n       <use style=\"stroke:#000000;stroke-width:0.8;\" x=\"33.5895\" xlink:href=\"#m3c1873dc5d\" y=\"228.137219\"/>\r\n      </g>\r\n     </g>\r\n     <g id=\"text_1\">\r\n      <!-- 0 -->\r\n      <defs>\r\n       <path d=\"M 31.78125 66.40625 \r\nQ 24.171875 66.40625 20.328125 58.90625 \r\nQ 16.5 51.421875 16.5 36.375 \r\nQ 16.5 21.390625 20.328125 13.890625 \r\nQ 24.171875 6.390625 31.78125 6.390625 \r\nQ 39.453125 6.390625 43.28125 13.890625 \r\nQ 47.125 21.390625 47.125 36.375 \r\nQ 47.125 51.421875 43.28125 58.90625 \r\nQ 39.453125 66.40625 31.78125 66.40625 \r\nz\r\nM 31.78125 74.21875 \r\nQ 44.046875 74.21875 50.515625 64.515625 \r\nQ 56.984375 54.828125 56.984375 36.375 \r\nQ 56.984375 17.96875 50.515625 8.265625 \r\nQ 44.046875 -1.421875 31.78125 -1.421875 \r\nQ 19.53125 -1.421875 13.0625 8.265625 \r\nQ 6.59375 17.96875 6.59375 36.375 \r\nQ 6.59375 54.828125 13.0625 64.515625 \r\nQ 19.53125 74.21875 31.78125 74.21875 \r\nz\r\n\" id=\"DejaVuSans-48\"/>\r\n      </defs>\r\n      <g transform=\"translate(30.40825 242.735656)scale(0.1 -0.1)\">\r\n       <use xlink:href=\"#DejaVuSans-48\"/>\r\n      </g>\r\n     </g>\r\n    </g>\r\n    <g id=\"xtick_2\">\r\n     <g id=\"line2d_2\">\r\n      <g>\r\n       <use style=\"stroke:#000000;stroke-width:0.8;\" x=\"63.7895\" xlink:href=\"#m3c1873dc5d\" y=\"228.137219\"/>\r\n      </g>\r\n     </g>\r\n     <g id=\"text_2\">\r\n      <!-- 50 -->\r\n      <defs>\r\n       <path d=\"M 10.796875 72.90625 \r\nL 49.515625 72.90625 \r\nL 49.515625 64.59375 \r\nL 19.828125 64.59375 \r\nL 19.828125 46.734375 \r\nQ 21.96875 47.46875 24.109375 47.828125 \r\nQ 26.265625 48.1875 28.421875 48.1875 \r\nQ 40.625 48.1875 47.75 41.5 \r\nQ 54.890625 34.8125 54.890625 23.390625 \r\nQ 54.890625 11.625 47.5625 5.09375 \r\nQ 40.234375 -1.421875 26.90625 -1.421875 \r\nQ 22.3125 -1.421875 17.546875 -0.640625 \r\nQ 12.796875 0.140625 7.71875 1.703125 \r\nL 7.71875 11.625 \r\nQ 12.109375 9.234375 16.796875 8.0625 \r\nQ 21.484375 6.890625 26.703125 6.890625 \r\nQ 35.15625 6.890625 40.078125 11.328125 \r\nQ 45.015625 15.765625 45.015625 23.390625 \r\nQ 45.015625 31 40.078125 35.4375 \r\nQ 35.15625 39.890625 26.703125 39.890625 \r\nQ 22.75 39.890625 18.8125 39.015625 \r\nQ 14.890625 38.140625 10.796875 36.28125 \r\nz\r\n\" id=\"DejaVuSans-53\"/>\r\n      </defs>\r\n      <g transform=\"translate(57.427 242.735656)scale(0.1 -0.1)\">\r\n       <use xlink:href=\"#DejaVuSans-53\"/>\r\n       <use x=\"63.623047\" xlink:href=\"#DejaVuSans-48\"/>\r\n      </g>\r\n     </g>\r\n    </g>\r\n    <g id=\"xtick_3\">\r\n     <g id=\"line2d_3\">\r\n      <g>\r\n       <use style=\"stroke:#000000;stroke-width:0.8;\" x=\"93.9895\" xlink:href=\"#m3c1873dc5d\" y=\"228.137219\"/>\r\n      </g>\r\n     </g>\r\n     <g id=\"text_3\">\r\n      <!-- 100 -->\r\n      <defs>\r\n       <path d=\"M 12.40625 8.296875 \r\nL 28.515625 8.296875 \r\nL 28.515625 63.921875 \r\nL 10.984375 60.40625 \r\nL 10.984375 69.390625 \r\nL 28.421875 72.90625 \r\nL 38.28125 72.90625 \r\nL 38.28125 8.296875 \r\nL 54.390625 8.296875 \r\nL 54.390625 0 \r\nL 12.40625 0 \r\nz\r\n\" id=\"DejaVuSans-49\"/>\r\n      </defs>\r\n      <g transform=\"translate(84.44575 242.735656)scale(0.1 -0.1)\">\r\n       <use xlink:href=\"#DejaVuSans-49\"/>\r\n       <use x=\"63.623047\" xlink:href=\"#DejaVuSans-48\"/>\r\n       <use x=\"127.246094\" xlink:href=\"#DejaVuSans-48\"/>\r\n      </g>\r\n     </g>\r\n    </g>\r\n    <g id=\"xtick_4\">\r\n     <g id=\"line2d_4\">\r\n      <g>\r\n       <use style=\"stroke:#000000;stroke-width:0.8;\" x=\"124.1895\" xlink:href=\"#m3c1873dc5d\" y=\"228.137219\"/>\r\n      </g>\r\n     </g>\r\n     <g id=\"text_4\">\r\n      <!-- 150 -->\r\n      <g transform=\"translate(114.64575 242.735656)scale(0.1 -0.1)\">\r\n       <use xlink:href=\"#DejaVuSans-49\"/>\r\n       <use x=\"63.623047\" xlink:href=\"#DejaVuSans-53\"/>\r\n       <use x=\"127.246094\" xlink:href=\"#DejaVuSans-48\"/>\r\n      </g>\r\n     </g>\r\n    </g>\r\n    <g id=\"xtick_5\">\r\n     <g id=\"line2d_5\">\r\n      <g>\r\n       <use style=\"stroke:#000000;stroke-width:0.8;\" x=\"154.3895\" xlink:href=\"#m3c1873dc5d\" y=\"228.137219\"/>\r\n      </g>\r\n     </g>\r\n     <g id=\"text_5\">\r\n      <!-- 200 -->\r\n      <defs>\r\n       <path d=\"M 19.1875 8.296875 \r\nL 53.609375 8.296875 \r\nL 53.609375 0 \r\nL 7.328125 0 \r\nL 7.328125 8.296875 \r\nQ 12.9375 14.109375 22.625 23.890625 \r\nQ 32.328125 33.6875 34.8125 36.53125 \r\nQ 39.546875 41.84375 41.421875 45.53125 \r\nQ 43.3125 49.21875 43.3125 52.78125 \r\nQ 43.3125 58.59375 39.234375 62.25 \r\nQ 35.15625 65.921875 28.609375 65.921875 \r\nQ 23.96875 65.921875 18.8125 64.3125 \r\nQ 13.671875 62.703125 7.8125 59.421875 \r\nL 7.8125 69.390625 \r\nQ 13.765625 71.78125 18.9375 73 \r\nQ 24.125 74.21875 28.421875 74.21875 \r\nQ 39.75 74.21875 46.484375 68.546875 \r\nQ 53.21875 62.890625 53.21875 53.421875 \r\nQ 53.21875 48.921875 51.53125 44.890625 \r\nQ 49.859375 40.875 45.40625 35.40625 \r\nQ 44.1875 33.984375 37.640625 27.21875 \r\nQ 31.109375 20.453125 19.1875 8.296875 \r\nz\r\n\" id=\"DejaVuSans-50\"/>\r\n      </defs>\r\n      <g transform=\"translate(144.84575 242.735656)scale(0.1 -0.1)\">\r\n       <use xlink:href=\"#DejaVuSans-50\"/>\r\n       <use x=\"63.623047\" xlink:href=\"#DejaVuSans-48\"/>\r\n       <use x=\"127.246094\" xlink:href=\"#DejaVuSans-48\"/>\r\n      </g>\r\n     </g>\r\n    </g>\r\n    <g id=\"xtick_6\">\r\n     <g id=\"line2d_6\">\r\n      <g>\r\n       <use style=\"stroke:#000000;stroke-width:0.8;\" x=\"184.5895\" xlink:href=\"#m3c1873dc5d\" y=\"228.137219\"/>\r\n      </g>\r\n     </g>\r\n     <g id=\"text_6\">\r\n      <!-- 250 -->\r\n      <g transform=\"translate(175.04575 242.735656)scale(0.1 -0.1)\">\r\n       <use xlink:href=\"#DejaVuSans-50\"/>\r\n       <use x=\"63.623047\" xlink:href=\"#DejaVuSans-53\"/>\r\n       <use x=\"127.246094\" xlink:href=\"#DejaVuSans-48\"/>\r\n      </g>\r\n     </g>\r\n    </g>\r\n    <g id=\"xtick_7\">\r\n     <g id=\"line2d_7\">\r\n      <g>\r\n       <use style=\"stroke:#000000;stroke-width:0.8;\" x=\"214.7895\" xlink:href=\"#m3c1873dc5d\" y=\"228.137219\"/>\r\n      </g>\r\n     </g>\r\n     <g id=\"text_7\">\r\n      <!-- 300 -->\r\n      <defs>\r\n       <path d=\"M 40.578125 39.3125 \r\nQ 47.65625 37.796875 51.625 33 \r\nQ 55.609375 28.21875 55.609375 21.1875 \r\nQ 55.609375 10.40625 48.1875 4.484375 \r\nQ 40.765625 -1.421875 27.09375 -1.421875 \r\nQ 22.515625 -1.421875 17.65625 -0.515625 \r\nQ 12.796875 0.390625 7.625 2.203125 \r\nL 7.625 11.71875 \r\nQ 11.71875 9.328125 16.59375 8.109375 \r\nQ 21.484375 6.890625 26.8125 6.890625 \r\nQ 36.078125 6.890625 40.9375 10.546875 \r\nQ 45.796875 14.203125 45.796875 21.1875 \r\nQ 45.796875 27.640625 41.28125 31.265625 \r\nQ 36.765625 34.90625 28.71875 34.90625 \r\nL 20.21875 34.90625 \r\nL 20.21875 43.015625 \r\nL 29.109375 43.015625 \r\nQ 36.375 43.015625 40.234375 45.921875 \r\nQ 44.09375 48.828125 44.09375 54.296875 \r\nQ 44.09375 59.90625 40.109375 62.90625 \r\nQ 36.140625 65.921875 28.71875 65.921875 \r\nQ 24.65625 65.921875 20.015625 65.03125 \r\nQ 15.375 64.15625 9.8125 62.3125 \r\nL 9.8125 71.09375 \r\nQ 15.4375 72.65625 20.34375 73.4375 \r\nQ 25.25 74.21875 29.59375 74.21875 \r\nQ 40.828125 74.21875 47.359375 69.109375 \r\nQ 53.90625 64.015625 53.90625 55.328125 \r\nQ 53.90625 49.265625 50.4375 45.09375 \r\nQ 46.96875 40.921875 40.578125 39.3125 \r\nz\r\n\" id=\"DejaVuSans-51\"/>\r\n      </defs>\r\n      <g transform=\"translate(205.24575 242.735656)scale(0.1 -0.1)\">\r\n       <use xlink:href=\"#DejaVuSans-51\"/>\r\n       <use x=\"63.623047\" xlink:href=\"#DejaVuSans-48\"/>\r\n       <use x=\"127.246094\" xlink:href=\"#DejaVuSans-48\"/>\r\n      </g>\r\n     </g>\r\n    </g>\r\n   </g>\r\n   <g id=\"matplotlib.axis_2\">\r\n    <g id=\"ytick_1\">\r\n     <g id=\"line2d_8\">\r\n      <defs>\r\n       <path d=\"M 0 0 \r\nL -3.5 0 \r\n\" id=\"m5bfc043dfc\" style=\"stroke:#000000;stroke-width:0.8;\"/>\r\n      </defs>\r\n      <g>\r\n       <use style=\"stroke:#000000;stroke-width:0.8;\" x=\"33.2875\" xlink:href=\"#m5bfc043dfc\" y=\"10.999219\"/>\r\n      </g>\r\n     </g>\r\n     <g id=\"text_8\">\r\n      <!-- 0 -->\r\n      <g transform=\"translate(19.925 14.798437)scale(0.1 -0.1)\">\r\n       <use xlink:href=\"#DejaVuSans-48\"/>\r\n      </g>\r\n     </g>\r\n    </g>\r\n    <g id=\"ytick_2\">\r\n     <g id=\"line2d_9\">\r\n      <g>\r\n       <use style=\"stroke:#000000;stroke-width:0.8;\" x=\"33.2875\" xlink:href=\"#m5bfc043dfc\" y=\"41.199219\"/>\r\n      </g>\r\n     </g>\r\n     <g id=\"text_9\">\r\n      <!-- 50 -->\r\n      <g transform=\"translate(13.5625 44.998437)scale(0.1 -0.1)\">\r\n       <use xlink:href=\"#DejaVuSans-53\"/>\r\n       <use x=\"63.623047\" xlink:href=\"#DejaVuSans-48\"/>\r\n      </g>\r\n     </g>\r\n    </g>\r\n    <g id=\"ytick_3\">\r\n     <g id=\"line2d_10\">\r\n      <g>\r\n       <use style=\"stroke:#000000;stroke-width:0.8;\" x=\"33.2875\" xlink:href=\"#m5bfc043dfc\" y=\"71.399219\"/>\r\n      </g>\r\n     </g>\r\n     <g id=\"text_10\">\r\n      <!-- 100 -->\r\n      <g transform=\"translate(7.2 75.198437)scale(0.1 -0.1)\">\r\n       <use xlink:href=\"#DejaVuSans-49\"/>\r\n       <use x=\"63.623047\" xlink:href=\"#DejaVuSans-48\"/>\r\n       <use x=\"127.246094\" xlink:href=\"#DejaVuSans-48\"/>\r\n      </g>\r\n     </g>\r\n    </g>\r\n    <g id=\"ytick_4\">\r\n     <g id=\"line2d_11\">\r\n      <g>\r\n       <use style=\"stroke:#000000;stroke-width:0.8;\" x=\"33.2875\" xlink:href=\"#m5bfc043dfc\" y=\"101.599219\"/>\r\n      </g>\r\n     </g>\r\n     <g id=\"text_11\">\r\n      <!-- 150 -->\r\n      <g transform=\"translate(7.2 105.398437)scale(0.1 -0.1)\">\r\n       <use xlink:href=\"#DejaVuSans-49\"/>\r\n       <use x=\"63.623047\" xlink:href=\"#DejaVuSans-53\"/>\r\n       <use x=\"127.246094\" xlink:href=\"#DejaVuSans-48\"/>\r\n      </g>\r\n     </g>\r\n    </g>\r\n    <g id=\"ytick_5\">\r\n     <g id=\"line2d_12\">\r\n      <g>\r\n       <use style=\"stroke:#000000;stroke-width:0.8;\" x=\"33.2875\" xlink:href=\"#m5bfc043dfc\" y=\"131.799219\"/>\r\n      </g>\r\n     </g>\r\n     <g id=\"text_12\">\r\n      <!-- 200 -->\r\n      <g transform=\"translate(7.2 135.598437)scale(0.1 -0.1)\">\r\n       <use xlink:href=\"#DejaVuSans-50\"/>\r\n       <use x=\"63.623047\" xlink:href=\"#DejaVuSans-48\"/>\r\n       <use x=\"127.246094\" xlink:href=\"#DejaVuSans-48\"/>\r\n      </g>\r\n     </g>\r\n    </g>\r\n    <g id=\"ytick_6\">\r\n     <g id=\"line2d_13\">\r\n      <g>\r\n       <use style=\"stroke:#000000;stroke-width:0.8;\" x=\"33.2875\" xlink:href=\"#m5bfc043dfc\" y=\"161.999219\"/>\r\n      </g>\r\n     </g>\r\n     <g id=\"text_13\">\r\n      <!-- 250 -->\r\n      <g transform=\"translate(7.2 165.798437)scale(0.1 -0.1)\">\r\n       <use xlink:href=\"#DejaVuSans-50\"/>\r\n       <use x=\"63.623047\" xlink:href=\"#DejaVuSans-53\"/>\r\n       <use x=\"127.246094\" xlink:href=\"#DejaVuSans-48\"/>\r\n      </g>\r\n     </g>\r\n    </g>\r\n    <g id=\"ytick_7\">\r\n     <g id=\"line2d_14\">\r\n      <g>\r\n       <use style=\"stroke:#000000;stroke-width:0.8;\" x=\"33.2875\" xlink:href=\"#m5bfc043dfc\" y=\"192.199219\"/>\r\n      </g>\r\n     </g>\r\n     <g id=\"text_14\">\r\n      <!-- 300 -->\r\n      <g transform=\"translate(7.2 195.998437)scale(0.1 -0.1)\">\r\n       <use xlink:href=\"#DejaVuSans-51\"/>\r\n       <use x=\"63.623047\" xlink:href=\"#DejaVuSans-48\"/>\r\n       <use x=\"127.246094\" xlink:href=\"#DejaVuSans-48\"/>\r\n      </g>\r\n     </g>\r\n    </g>\r\n    <g id=\"ytick_8\">\r\n     <g id=\"line2d_15\">\r\n      <g>\r\n       <use style=\"stroke:#000000;stroke-width:0.8;\" x=\"33.2875\" xlink:href=\"#m5bfc043dfc\" y=\"222.399219\"/>\r\n      </g>\r\n     </g>\r\n     <g id=\"text_15\">\r\n      <!-- 350 -->\r\n      <g transform=\"translate(7.2 226.198437)scale(0.1 -0.1)\">\r\n       <use xlink:href=\"#DejaVuSans-51\"/>\r\n       <use x=\"63.623047\" xlink:href=\"#DejaVuSans-53\"/>\r\n       <use x=\"127.246094\" xlink:href=\"#DejaVuSans-48\"/>\r\n      </g>\r\n     </g>\r\n    </g>\r\n   </g>\r\n   <g id=\"patch_3\">\r\n    <path d=\"M 33.2875 228.137219 \r\nL 33.2875 10.697219 \r\n\" style=\"fill:none;stroke:#000000;stroke-linecap:square;stroke-linejoin:miter;stroke-width:0.8;\"/>\r\n   </g>\r\n   <g id=\"patch_4\">\r\n    <path d=\"M 244.6875 228.137219 \r\nL 244.6875 10.697219 \r\n\" style=\"fill:none;stroke:#000000;stroke-linecap:square;stroke-linejoin:miter;stroke-width:0.8;\"/>\r\n   </g>\r\n   <g id=\"patch_5\">\r\n    <path d=\"M 33.2875 228.137219 \r\nL 244.6875 228.137219 \r\n\" style=\"fill:none;stroke:#000000;stroke-linecap:square;stroke-linejoin:miter;stroke-width:0.8;\"/>\r\n   </g>\r\n   <g id=\"patch_6\">\r\n    <path d=\"M 33.2875 10.697219 \r\nL 244.6875 10.697219 \r\n\" style=\"fill:none;stroke:#000000;stroke-linecap:square;stroke-linejoin:miter;stroke-width:0.8;\"/>\r\n   </g>\r\n  </g>\r\n </g>\r\n <defs>\r\n  <clipPath id=\"p587a5829bf\">\r\n   <rect height=\"217.44\" width=\"211.4\" x=\"33.2875\" y=\"10.697219\"/>\r\n  </clipPath>\r\n </defs>\r\n</svg>\r\n",
      "image/png": "[encoded data removed]"
     },
     "metadata": {
      "needs_background": "light"
     }
    }
   ],
   "source": [
    "\n",
    "import cv2 # Import the OpenCV library\n",
    "import numpy as np\n",
    "filepath = \"test_hole.png\"\n",
    "image = cv2.imread(filepath)\n",
    "\n",
    "# load mask image\n",
    "mask = cv2.imread(\"blue_blob_thresh.png\", 0) # loading as garyscale image\n",
    "\n",
    "# get the boudary coordinates using contour detection\n",
    "contours, _ = cv2.findContours(mask, cv2.RETR_EXTERNAL, cv2.CHAIN_APPROX_NONE)\n",
    "cntr = contours[0]\n",
    "\n",
    "\n",
    "# get hole coordinates (x,y)\n",
    "xy_coords = np.flip(np.column_stack(np.where(mask > 0)), axis=1)\n",
    "\n",
    "# fill the hole\n",
    "temp_img = image.copy()\n",
    "for i in b_list:\n",
    "    x = i[0]\n",
    "    y = i[1]\n",
    "    temp_img[y,x] = (0, 0, 255)\n",
    "\n",
    "# show results\n",
    "plt.imshow(cv2.cvtColor(temp_img, cv2.COLOR_BGR2RGB))"
   ]
  },
  {
   "cell_type": "code",
   "execution_count": 80,
   "metadata": {},
   "outputs": [
    {
     "output_type": "execute_result",
     "data": {
      "text/plain": [
       "(232, 162, 0)"
      ]
     },
     "metadata": {},
     "execution_count": 80
    }
   ],
   "source": [
    "tuple(temp_img[60,50])"
   ]
  },
  {
   "cell_type": "code",
   "execution_count": 85,
   "metadata": {},
   "outputs": [
    {
     "output_type": "execute_result",
     "data": {
      "text/plain": [
       "False"
      ]
     },
     "metadata": {},
     "execution_count": 85
    }
   ],
   "source": [
    "[373, 231] in xy_coords"
   ]
  },
  {
   "cell_type": "code",
   "execution_count": 74,
   "metadata": {},
   "outputs": [],
   "source": [
    "mask = cv2.imread(\"blue_blob_thresh.png\", 0) # loading as garyscale image\n",
    "# get coordinates (x,y)\n",
    "xy_coords = np.flip(np.column_stack(np.where(mask > 0)), axis=1)"
   ]
  },
  {
   "cell_type": "code",
   "execution_count": 75,
   "metadata": {},
   "outputs": [
    {
     "output_type": "execute_result",
     "data": {
      "text/plain": [
       "array([[173, 130],\n",
       "       [171, 131],\n",
       "       [172, 131],\n",
       "       ...,\n",
       "       [174, 217],\n",
       "       [175, 217],\n",
       "       [173, 218]], dtype=int64)"
      ]
     },
     "metadata": {},
     "execution_count": 75
    }
   ],
   "source": [
    "xy_coords"
   ]
  },
  {
   "cell_type": "code",
   "execution_count": 76,
   "metadata": {
    "tags": []
   },
   "outputs": [],
   "source": [
    "temp_img = image.copy()\n",
    "for i in xy_coords:\n",
    "    x = i[0]\n",
    "    y = i[1]\n",
    "    temp_img[y,x] = (0, 0, 255)\n",
    "\n"
   ]
  },
  {
   "cell_type": "code",
   "execution_count": 77,
   "metadata": {},
   "outputs": [
    {
     "output_type": "execute_result",
     "data": {
      "text/plain": [
       "<matplotlib.image.AxesImage at 0x2215b194408>"
      ]
     },
     "metadata": {},
     "execution_count": 77
    },
    {
     "output_type": "display_data",
     "data": {
      "text/plain": "<Figure size 432x288 with 1 Axes>",
      "image/svg+xml": "<?xml version=\"1.0\" encoding=\"utf-8\" standalone=\"no\"?>\r\n<!DOCTYPE svg PUBLIC \"-//W3C//DTD SVG 1.1//EN\"\r\n  \"http://www.w3.org/Graphics/SVG/1.1/DTD/svg11.dtd\">\r\n<!-- Created with matplotlib (https://matplotlib.org/) -->\r\n<svg height=\"252.015344pt\" version=\"1.1\" viewBox=\"0 0 251.8875 252.015344\" width=\"251.8875pt\" xmlns=\"http://www.w3.org/2000/svg\" xmlns:xlink=\"http://www.w3.org/1999/xlink\">\r\n <defs>\r\n  <style type=\"text/css\">\r\n*{stroke-linecap:butt;stroke-linejoin:round;}\r\n  </style>\r\n </defs>\r\n <g id=\"figure_1\">\r\n  <g id=\"patch_1\">\r\n   <path d=\"M 0 252.015344 \r\nL 251.8875 252.015344 \r\nL 251.8875 0 \r\nL 0 0 \r\nz\r\n\" style=\"fill:none;\"/>\r\n  </g>\r\n  <g id=\"axes_1\">\r\n   <g id=\"patch_2\">\r\n    <path d=\"M 33.2875 228.137219 \r\nL 244.6875 228.137219 \r\nL 244.6875 10.697219 \r\nL 33.2875 10.697219 \r\nz\r\n\" style=\"fill:#ffffff;\"/>\r\n   </g>\r\n   <g clip-path=\"url(#pb0317bf4f4)\">\r\n    <image height=\"218\" id=\"image2afd57490f\" transform=\"scale(1 -1)translate(0 -218)\" width=\"212\" x=\"33.2875\" xlink:href=\"data:image/png;base64,\r\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\" y=\"-10.137219\"/>\r\n   </g>\r\n   <g id=\"matplotlib.axis_1\">\r\n    <g id=\"xtick_1\">\r\n     <g id=\"line2d_1\">\r\n      <defs>\r\n       <path d=\"M 0 0 \r\nL 0 3.5 \r\n\" id=\"m4b3c5fbc43\" style=\"stroke:#000000;stroke-width:0.8;\"/>\r\n      </defs>\r\n      <g>\r\n       <use style=\"stroke:#000000;stroke-width:0.8;\" x=\"33.5895\" xlink:href=\"#m4b3c5fbc43\" y=\"228.137219\"/>\r\n      </g>\r\n     </g>\r\n     <g id=\"text_1\">\r\n      <!-- 0 -->\r\n      <defs>\r\n       <path d=\"M 31.78125 66.40625 \r\nQ 24.171875 66.40625 20.328125 58.90625 \r\nQ 16.5 51.421875 16.5 36.375 \r\nQ 16.5 21.390625 20.328125 13.890625 \r\nQ 24.171875 6.390625 31.78125 6.390625 \r\nQ 39.453125 6.390625 43.28125 13.890625 \r\nQ 47.125 21.390625 47.125 36.375 \r\nQ 47.125 51.421875 43.28125 58.90625 \r\nQ 39.453125 66.40625 31.78125 66.40625 \r\nz\r\nM 31.78125 74.21875 \r\nQ 44.046875 74.21875 50.515625 64.515625 \r\nQ 56.984375 54.828125 56.984375 36.375 \r\nQ 56.984375 17.96875 50.515625 8.265625 \r\nQ 44.046875 -1.421875 31.78125 -1.421875 \r\nQ 19.53125 -1.421875 13.0625 8.265625 \r\nQ 6.59375 17.96875 6.59375 36.375 \r\nQ 6.59375 54.828125 13.0625 64.515625 \r\nQ 19.53125 74.21875 31.78125 74.21875 \r\nz\r\n\" id=\"DejaVuSans-48\"/>\r\n      </defs>\r\n      <g transform=\"translate(30.40825 242.735656)scale(0.1 -0.1)\">\r\n       <use xlink:href=\"#DejaVuSans-48\"/>\r\n      </g>\r\n     </g>\r\n    </g>\r\n    <g id=\"xtick_2\">\r\n     <g id=\"line2d_2\">\r\n      <g>\r\n       <use style=\"stroke:#000000;stroke-width:0.8;\" x=\"63.7895\" xlink:href=\"#m4b3c5fbc43\" y=\"228.137219\"/>\r\n      </g>\r\n     </g>\r\n     <g id=\"text_2\">\r\n      <!-- 50 -->\r\n      <defs>\r\n       <path d=\"M 10.796875 72.90625 \r\nL 49.515625 72.90625 \r\nL 49.515625 64.59375 \r\nL 19.828125 64.59375 \r\nL 19.828125 46.734375 \r\nQ 21.96875 47.46875 24.109375 47.828125 \r\nQ 26.265625 48.1875 28.421875 48.1875 \r\nQ 40.625 48.1875 47.75 41.5 \r\nQ 54.890625 34.8125 54.890625 23.390625 \r\nQ 54.890625 11.625 47.5625 5.09375 \r\nQ 40.234375 -1.421875 26.90625 -1.421875 \r\nQ 22.3125 -1.421875 17.546875 -0.640625 \r\nQ 12.796875 0.140625 7.71875 1.703125 \r\nL 7.71875 11.625 \r\nQ 12.109375 9.234375 16.796875 8.0625 \r\nQ 21.484375 6.890625 26.703125 6.890625 \r\nQ 35.15625 6.890625 40.078125 11.328125 \r\nQ 45.015625 15.765625 45.015625 23.390625 \r\nQ 45.015625 31 40.078125 35.4375 \r\nQ 35.15625 39.890625 26.703125 39.890625 \r\nQ 22.75 39.890625 18.8125 39.015625 \r\nQ 14.890625 38.140625 10.796875 36.28125 \r\nz\r\n\" id=\"DejaVuSans-53\"/>\r\n      </defs>\r\n      <g transform=\"translate(57.427 242.735656)scale(0.1 -0.1)\">\r\n       <use xlink:href=\"#DejaVuSans-53\"/>\r\n       <use x=\"63.623047\" xlink:href=\"#DejaVuSans-48\"/>\r\n      </g>\r\n     </g>\r\n    </g>\r\n    <g id=\"xtick_3\">\r\n     <g id=\"line2d_3\">\r\n      <g>\r\n       <use style=\"stroke:#000000;stroke-width:0.8;\" x=\"93.9895\" xlink:href=\"#m4b3c5fbc43\" y=\"228.137219\"/>\r\n      </g>\r\n     </g>\r\n     <g id=\"text_3\">\r\n      <!-- 100 -->\r\n      <defs>\r\n       <path d=\"M 12.40625 8.296875 \r\nL 28.515625 8.296875 \r\nL 28.515625 63.921875 \r\nL 10.984375 60.40625 \r\nL 10.984375 69.390625 \r\nL 28.421875 72.90625 \r\nL 38.28125 72.90625 \r\nL 38.28125 8.296875 \r\nL 54.390625 8.296875 \r\nL 54.390625 0 \r\nL 12.40625 0 \r\nz\r\n\" id=\"DejaVuSans-49\"/>\r\n      </defs>\r\n      <g transform=\"translate(84.44575 242.735656)scale(0.1 -0.1)\">\r\n       <use xlink:href=\"#DejaVuSans-49\"/>\r\n       <use x=\"63.623047\" xlink:href=\"#DejaVuSans-48\"/>\r\n       <use x=\"127.246094\" xlink:href=\"#DejaVuSans-48\"/>\r\n      </g>\r\n     </g>\r\n    </g>\r\n    <g id=\"xtick_4\">\r\n     <g id=\"line2d_4\">\r\n      <g>\r\n       <use style=\"stroke:#000000;stroke-width:0.8;\" x=\"124.1895\" xlink:href=\"#m4b3c5fbc43\" y=\"228.137219\"/>\r\n      </g>\r\n     </g>\r\n     <g id=\"text_4\">\r\n      <!-- 150 -->\r\n      <g transform=\"translate(114.64575 242.735656)scale(0.1 -0.1)\">\r\n       <use xlink:href=\"#DejaVuSans-49\"/>\r\n       <use x=\"63.623047\" xlink:href=\"#DejaVuSans-53\"/>\r\n       <use x=\"127.246094\" xlink:href=\"#DejaVuSans-48\"/>\r\n      </g>\r\n     </g>\r\n    </g>\r\n    <g id=\"xtick_5\">\r\n     <g id=\"line2d_5\">\r\n      <g>\r\n       <use style=\"stroke:#000000;stroke-width:0.8;\" x=\"154.3895\" xlink:href=\"#m4b3c5fbc43\" y=\"228.137219\"/>\r\n      </g>\r\n     </g>\r\n     <g id=\"text_5\">\r\n      <!-- 200 -->\r\n      <defs>\r\n       <path d=\"M 19.1875 8.296875 \r\nL 53.609375 8.296875 \r\nL 53.609375 0 \r\nL 7.328125 0 \r\nL 7.328125 8.296875 \r\nQ 12.9375 14.109375 22.625 23.890625 \r\nQ 32.328125 33.6875 34.8125 36.53125 \r\nQ 39.546875 41.84375 41.421875 45.53125 \r\nQ 43.3125 49.21875 43.3125 52.78125 \r\nQ 43.3125 58.59375 39.234375 62.25 \r\nQ 35.15625 65.921875 28.609375 65.921875 \r\nQ 23.96875 65.921875 18.8125 64.3125 \r\nQ 13.671875 62.703125 7.8125 59.421875 \r\nL 7.8125 69.390625 \r\nQ 13.765625 71.78125 18.9375 73 \r\nQ 24.125 74.21875 28.421875 74.21875 \r\nQ 39.75 74.21875 46.484375 68.546875 \r\nQ 53.21875 62.890625 53.21875 53.421875 \r\nQ 53.21875 48.921875 51.53125 44.890625 \r\nQ 49.859375 40.875 45.40625 35.40625 \r\nQ 44.1875 33.984375 37.640625 27.21875 \r\nQ 31.109375 20.453125 19.1875 8.296875 \r\nz\r\n\" id=\"DejaVuSans-50\"/>\r\n      </defs>\r\n      <g transform=\"translate(144.84575 242.735656)scale(0.1 -0.1)\">\r\n       <use xlink:href=\"#DejaVuSans-50\"/>\r\n       <use x=\"63.623047\" xlink:href=\"#DejaVuSans-48\"/>\r\n       <use x=\"127.246094\" xlink:href=\"#DejaVuSans-48\"/>\r\n      </g>\r\n     </g>\r\n    </g>\r\n    <g id=\"xtick_6\">\r\n     <g id=\"line2d_6\">\r\n      <g>\r\n       <use style=\"stroke:#000000;stroke-width:0.8;\" x=\"184.5895\" xlink:href=\"#m4b3c5fbc43\" y=\"228.137219\"/>\r\n      </g>\r\n     </g>\r\n     <g id=\"text_6\">\r\n      <!-- 250 -->\r\n      <g transform=\"translate(175.04575 242.735656)scale(0.1 -0.1)\">\r\n       <use xlink:href=\"#DejaVuSans-50\"/>\r\n       <use x=\"63.623047\" xlink:href=\"#DejaVuSans-53\"/>\r\n       <use x=\"127.246094\" xlink:href=\"#DejaVuSans-48\"/>\r\n      </g>\r\n     </g>\r\n    </g>\r\n    <g id=\"xtick_7\">\r\n     <g id=\"line2d_7\">\r\n      <g>\r\n       <use style=\"stroke:#000000;stroke-width:0.8;\" x=\"214.7895\" xlink:href=\"#m4b3c5fbc43\" y=\"228.137219\"/>\r\n      </g>\r\n     </g>\r\n     <g id=\"text_7\">\r\n      <!-- 300 -->\r\n      <defs>\r\n       <path d=\"M 40.578125 39.3125 \r\nQ 47.65625 37.796875 51.625 33 \r\nQ 55.609375 28.21875 55.609375 21.1875 \r\nQ 55.609375 10.40625 48.1875 4.484375 \r\nQ 40.765625 -1.421875 27.09375 -1.421875 \r\nQ 22.515625 -1.421875 17.65625 -0.515625 \r\nQ 12.796875 0.390625 7.625 2.203125 \r\nL 7.625 11.71875 \r\nQ 11.71875 9.328125 16.59375 8.109375 \r\nQ 21.484375 6.890625 26.8125 6.890625 \r\nQ 36.078125 6.890625 40.9375 10.546875 \r\nQ 45.796875 14.203125 45.796875 21.1875 \r\nQ 45.796875 27.640625 41.28125 31.265625 \r\nQ 36.765625 34.90625 28.71875 34.90625 \r\nL 20.21875 34.90625 \r\nL 20.21875 43.015625 \r\nL 29.109375 43.015625 \r\nQ 36.375 43.015625 40.234375 45.921875 \r\nQ 44.09375 48.828125 44.09375 54.296875 \r\nQ 44.09375 59.90625 40.109375 62.90625 \r\nQ 36.140625 65.921875 28.71875 65.921875 \r\nQ 24.65625 65.921875 20.015625 65.03125 \r\nQ 15.375 64.15625 9.8125 62.3125 \r\nL 9.8125 71.09375 \r\nQ 15.4375 72.65625 20.34375 73.4375 \r\nQ 25.25 74.21875 29.59375 74.21875 \r\nQ 40.828125 74.21875 47.359375 69.109375 \r\nQ 53.90625 64.015625 53.90625 55.328125 \r\nQ 53.90625 49.265625 50.4375 45.09375 \r\nQ 46.96875 40.921875 40.578125 39.3125 \r\nz\r\n\" id=\"DejaVuSans-51\"/>\r\n      </defs>\r\n      <g transform=\"translate(205.24575 242.735656)scale(0.1 -0.1)\">\r\n       <use xlink:href=\"#DejaVuSans-51\"/>\r\n       <use x=\"63.623047\" xlink:href=\"#DejaVuSans-48\"/>\r\n       <use x=\"127.246094\" xlink:href=\"#DejaVuSans-48\"/>\r\n      </g>\r\n     </g>\r\n    </g>\r\n   </g>\r\n   <g id=\"matplotlib.axis_2\">\r\n    <g id=\"ytick_1\">\r\n     <g id=\"line2d_8\">\r\n      <defs>\r\n       <path d=\"M 0 0 \r\nL -3.5 0 \r\n\" id=\"m58a362bc6b\" style=\"stroke:#000000;stroke-width:0.8;\"/>\r\n      </defs>\r\n      <g>\r\n       <use style=\"stroke:#000000;stroke-width:0.8;\" x=\"33.2875\" xlink:href=\"#m58a362bc6b\" y=\"10.999219\"/>\r\n      </g>\r\n     </g>\r\n     <g id=\"text_8\">\r\n      <!-- 0 -->\r\n      <g transform=\"translate(19.925 14.798437)scale(0.1 -0.1)\">\r\n       <use xlink:href=\"#DejaVuSans-48\"/>\r\n      </g>\r\n     </g>\r\n    </g>\r\n    <g id=\"ytick_2\">\r\n     <g id=\"line2d_9\">\r\n      <g>\r\n       <use style=\"stroke:#000000;stroke-width:0.8;\" x=\"33.2875\" xlink:href=\"#m58a362bc6b\" y=\"41.199219\"/>\r\n      </g>\r\n     </g>\r\n     <g id=\"text_9\">\r\n      <!-- 50 -->\r\n      <g transform=\"translate(13.5625 44.998437)scale(0.1 -0.1)\">\r\n       <use xlink:href=\"#DejaVuSans-53\"/>\r\n       <use x=\"63.623047\" xlink:href=\"#DejaVuSans-48\"/>\r\n      </g>\r\n     </g>\r\n    </g>\r\n    <g id=\"ytick_3\">\r\n     <g id=\"line2d_10\">\r\n      <g>\r\n       <use style=\"stroke:#000000;stroke-width:0.8;\" x=\"33.2875\" xlink:href=\"#m58a362bc6b\" y=\"71.399219\"/>\r\n      </g>\r\n     </g>\r\n     <g id=\"text_10\">\r\n      <!-- 100 -->\r\n      <g transform=\"translate(7.2 75.198437)scale(0.1 -0.1)\">\r\n       <use xlink:href=\"#DejaVuSans-49\"/>\r\n       <use x=\"63.623047\" xlink:href=\"#DejaVuSans-48\"/>\r\n       <use x=\"127.246094\" xlink:href=\"#DejaVuSans-48\"/>\r\n      </g>\r\n     </g>\r\n    </g>\r\n    <g id=\"ytick_4\">\r\n     <g id=\"line2d_11\">\r\n      <g>\r\n       <use style=\"stroke:#000000;stroke-width:0.8;\" x=\"33.2875\" xlink:href=\"#m58a362bc6b\" y=\"101.599219\"/>\r\n      </g>\r\n     </g>\r\n     <g id=\"text_11\">\r\n      <!-- 150 -->\r\n      <g transform=\"translate(7.2 105.398437)scale(0.1 -0.1)\">\r\n       <use xlink:href=\"#DejaVuSans-49\"/>\r\n       <use x=\"63.623047\" xlink:href=\"#DejaVuSans-53\"/>\r\n       <use x=\"127.246094\" xlink:href=\"#DejaVuSans-48\"/>\r\n      </g>\r\n     </g>\r\n    </g>\r\n    <g id=\"ytick_5\">\r\n     <g id=\"line2d_12\">\r\n      <g>\r\n       <use style=\"stroke:#000000;stroke-width:0.8;\" x=\"33.2875\" xlink:href=\"#m58a362bc6b\" y=\"131.799219\"/>\r\n      </g>\r\n     </g>\r\n     <g id=\"text_12\">\r\n      <!-- 200 -->\r\n      <g transform=\"translate(7.2 135.598437)scale(0.1 -0.1)\">\r\n       <use xlink:href=\"#DejaVuSans-50\"/>\r\n       <use x=\"63.623047\" xlink:href=\"#DejaVuSans-48\"/>\r\n       <use x=\"127.246094\" xlink:href=\"#DejaVuSans-48\"/>\r\n      </g>\r\n     </g>\r\n    </g>\r\n    <g id=\"ytick_6\">\r\n     <g id=\"line2d_13\">\r\n      <g>\r\n       <use style=\"stroke:#000000;stroke-width:0.8;\" x=\"33.2875\" xlink:href=\"#m58a362bc6b\" y=\"161.999219\"/>\r\n      </g>\r\n     </g>\r\n     <g id=\"text_13\">\r\n      <!-- 250 -->\r\n      <g transform=\"translate(7.2 165.798437)scale(0.1 -0.1)\">\r\n       <use xlink:href=\"#DejaVuSans-50\"/>\r\n       <use x=\"63.623047\" xlink:href=\"#DejaVuSans-53\"/>\r\n       <use x=\"127.246094\" xlink:href=\"#DejaVuSans-48\"/>\r\n      </g>\r\n     </g>\r\n    </g>\r\n    <g id=\"ytick_7\">\r\n     <g id=\"line2d_14\">\r\n      <g>\r\n       <use style=\"stroke:#000000;stroke-width:0.8;\" x=\"33.2875\" xlink:href=\"#m58a362bc6b\" y=\"192.199219\"/>\r\n      </g>\r\n     </g>\r\n     <g id=\"text_14\">\r\n      <!-- 300 -->\r\n      <g transform=\"translate(7.2 195.998437)scale(0.1 -0.1)\">\r\n       <use xlink:href=\"#DejaVuSans-51\"/>\r\n       <use x=\"63.623047\" xlink:href=\"#DejaVuSans-48\"/>\r\n       <use x=\"127.246094\" xlink:href=\"#DejaVuSans-48\"/>\r\n      </g>\r\n     </g>\r\n    </g>\r\n    <g id=\"ytick_8\">\r\n     <g id=\"line2d_15\">\r\n      <g>\r\n       <use style=\"stroke:#000000;stroke-width:0.8;\" x=\"33.2875\" xlink:href=\"#m58a362bc6b\" y=\"222.399219\"/>\r\n      </g>\r\n     </g>\r\n     <g id=\"text_15\">\r\n      <!-- 350 -->\r\n      <g transform=\"translate(7.2 226.198437)scale(0.1 -0.1)\">\r\n       <use xlink:href=\"#DejaVuSans-51\"/>\r\n       <use x=\"63.623047\" xlink:href=\"#DejaVuSans-53\"/>\r\n       <use x=\"127.246094\" xlink:href=\"#DejaVuSans-48\"/>\r\n      </g>\r\n     </g>\r\n    </g>\r\n   </g>\r\n   <g id=\"patch_3\">\r\n    <path d=\"M 33.2875 228.137219 \r\nL 33.2875 10.697219 \r\n\" style=\"fill:none;stroke:#000000;stroke-linecap:square;stroke-linejoin:miter;stroke-width:0.8;\"/>\r\n   </g>\r\n   <g id=\"patch_4\">\r\n    <path d=\"M 244.6875 228.137219 \r\nL 244.6875 10.697219 \r\n\" style=\"fill:none;stroke:#000000;stroke-linecap:square;stroke-linejoin:miter;stroke-width:0.8;\"/>\r\n   </g>\r\n   <g id=\"patch_5\">\r\n    <path d=\"M 33.2875 228.137219 \r\nL 244.6875 228.137219 \r\n\" style=\"fill:none;stroke:#000000;stroke-linecap:square;stroke-linejoin:miter;stroke-width:0.8;\"/>\r\n   </g>\r\n   <g id=\"patch_6\">\r\n    <path d=\"M 33.2875 10.697219 \r\nL 244.6875 10.697219 \r\n\" style=\"fill:none;stroke:#000000;stroke-linecap:square;stroke-linejoin:miter;stroke-width:0.8;\"/>\r\n   </g>\r\n  </g>\r\n </g>\r\n <defs>\r\n  <clipPath id=\"pb0317bf4f4\">\r\n   <rect height=\"217.44\" width=\"211.4\" x=\"33.2875\" y=\"10.697219\"/>\r\n  </clipPath>\r\n </defs>\r\n</svg>\r\n",
      "image/png": "[encoded data removed]"
     },
     "metadata": {
      "needs_background": "light"
     }
    }
   ],
   "source": [
    "plt.imshow(cv2.cvtColor(temp_img, cv2.COLOR_BGR2RGB))"
   ]
  },
  {
   "cell_type": "code",
   "execution_count": 107,
   "metadata": {},
   "outputs": [
    {
     "output_type": "execute_result",
     "data": {
      "text/plain": [
       "array([[[0, 0, 0],\n",
       "        [0, 0, 0],\n",
       "        [0, 0, 0],\n",
       "        ...,\n",
       "        [0, 0, 0],\n",
       "        [0, 0, 0],\n",
       "        [0, 0, 0]],\n",
       "\n",
       "       [[0, 0, 0],\n",
       "        [0, 0, 0],\n",
       "        [0, 0, 0],\n",
       "        ...,\n",
       "        [0, 0, 0],\n",
       "        [0, 0, 0],\n",
       "        [0, 0, 0]],\n",
       "\n",
       "       [[0, 0, 0],\n",
       "        [0, 0, 0],\n",
       "        [0, 0, 0],\n",
       "        ...,\n",
       "        [0, 0, 0],\n",
       "        [0, 0, 0],\n",
       "        [0, 0, 0]],\n",
       "\n",
       "       ...,\n",
       "\n",
       "       [[0, 0, 0],\n",
       "        [0, 0, 0],\n",
       "        [0, 0, 0],\n",
       "        ...,\n",
       "        [0, 0, 0],\n",
       "        [0, 0, 0],\n",
       "        [0, 0, 0]],\n",
       "\n",
       "       [[0, 0, 0],\n",
       "        [0, 0, 0],\n",
       "        [0, 0, 0],\n",
       "        ...,\n",
       "        [0, 0, 0],\n",
       "        [0, 0, 0],\n",
       "        [0, 0, 0]],\n",
       "\n",
       "       [[0, 0, 0],\n",
       "        [0, 0, 0],\n",
       "        [0, 0, 0],\n",
       "        ...,\n",
       "        [0, 0, 0],\n",
       "        [0, 0, 0],\n",
       "        [0, 0, 0]]], dtype=uint8)"
      ]
     },
     "metadata": {},
     "execution_count": 107
    }
   ],
   "source": [
    "# get contours\n",
    "mask = cv2.imread(\"blue_blob_thresh.png\", 0) # loading as garyscale image\n",
    "#mask = cv2.cvtColor(mask, cv2.COLOR_BGR2GRAY)\n",
    "result = np.zeros_like(image)\n",
    "contours = cv2.findContours(mask, cv2.RETR_EXTERNAL, cv2.CHAIN_APPROX_NONE)\n",
    "contours = contours[0] if len(contours) == 2 else contours[1]\n",
    "cntr = contours[0]\n",
    "cv2.drawContours(result, [cntr], 0, (0,0,255), 1)"
   ]
  },
  {
   "cell_type": "code",
   "execution_count": 108,
   "metadata": {},
   "outputs": [
    {
     "output_type": "stream",
     "name": "stdout",
     "text": [
      "number of points:  274\n",
      "\n",
      "[[173 130]]\n",
      "[[172 131]]\n",
      "[[171 131]]\n",
      "[[170 132]]\n",
      "[[169 132]]\n",
      "[[168 133]]\n",
      "[[167 133]]\n",
      "[[166 133]]\n",
      "[[165 134]]\n",
      "[[164 134]]\n",
      "[[163 135]]\n",
      "[[162 135]]\n",
      "[[161 136]]\n",
      "[[160 136]]\n",
      "[[159 137]]\n",
      "[[158 137]]\n",
      "[[157 138]]\n",
      "[[156 138]]\n",
      "[[155 139]]\n",
      "[[154 139]]\n",
      "[[153 140]]\n",
      "[[152 140]]\n",
      "[[151 141]]\n",
      "[[150 141]]\n",
      "[[149 141]]\n",
      "[[148 142]]\n",
      "[[147 142]]\n",
      "[[146 143]]\n",
      "[[145 143]]\n",
      "[[144 144]]\n",
      "[[143 144]]\n",
      "[[142 145]]\n",
      "[[141 145]]\n",
      "[[140 146]]\n",
      "[[139 146]]\n",
      "[[138 147]]\n",
      "[[137 147]]\n",
      "[[136 148]]\n",
      "[[135 148]]\n",
      "[[134 149]]\n",
      "[[133 149]]\n",
      "[[132 149]]\n",
      "[[131 150]]\n",
      "[[130 150]]\n",
      "[[129 151]]\n",
      "[[128 151]]\n",
      "[[127 152]]\n",
      "[[126 152]]\n",
      "[[126 153]]\n",
      "[[126 154]]\n",
      "[[126 155]]\n",
      "[[126 156]]\n",
      "[[126 157]]\n",
      "[[126 158]]\n",
      "[[126 159]]\n",
      "[[126 160]]\n",
      "[[126 161]]\n",
      "[[126 162]]\n",
      "[[126 163]]\n",
      "[[126 164]]\n",
      "[[126 165]]\n",
      "[[126 166]]\n",
      "[[126 167]]\n",
      "[[126 168]]\n",
      "[[126 169]]\n",
      "[[126 170]]\n",
      "[[126 171]]\n",
      "[[126 172]]\n",
      "[[126 173]]\n",
      "[[126 174]]\n",
      "[[126 175]]\n",
      "[[126 176]]\n",
      "[[126 177]]\n",
      "[[126 178]]\n",
      "[[126 179]]\n",
      "[[126 180]]\n",
      "[[126 181]]\n",
      "[[126 182]]\n",
      "[[126 183]]\n",
      "[[126 184]]\n",
      "[[126 185]]\n",
      "[[126 186]]\n",
      "[[126 187]]\n",
      "[[126 188]]\n",
      "[[126 189]]\n",
      "[[126 190]]\n",
      "[[126 191]]\n",
      "[[126 192]]\n",
      "[[126 193]]\n",
      "[[126 194]]\n",
      "[[126 195]]\n",
      "[[126 196]]\n",
      "[[127 196]]\n",
      "[[128 197]]\n",
      "[[129 197]]\n",
      "[[130 198]]\n",
      "[[131 198]]\n",
      "[[132 199]]\n",
      "[[133 199]]\n",
      "[[134 200]]\n",
      "[[135 200]]\n",
      "[[136 200]]\n",
      "[[137 201]]\n",
      "[[138 201]]\n",
      "[[139 202]]\n",
      "[[140 202]]\n",
      "[[141 203]]\n",
      "[[142 203]]\n",
      "[[143 204]]\n",
      "[[144 204]]\n",
      "[[145 205]]\n",
      "[[146 205]]\n",
      "[[147 206]]\n",
      "[[148 206]]\n",
      "[[149 207]]\n",
      "[[150 207]]\n",
      "[[151 208]]\n",
      "[[152 208]]\n",
      "[[153 208]]\n",
      "[[154 209]]\n",
      "[[155 209]]\n",
      "[[156 210]]\n",
      "[[157 210]]\n",
      "[[158 211]]\n",
      "[[159 211]]\n",
      "[[160 212]]\n",
      "[[161 212]]\n",
      "[[162 213]]\n",
      "[[163 213]]\n",
      "[[164 214]]\n",
      "[[165 214]]\n",
      "[[166 215]]\n",
      "[[167 215]]\n",
      "[[168 216]]\n",
      "[[169 216]]\n",
      "[[170 216]]\n",
      "[[171 217]]\n",
      "[[172 217]]\n",
      "[[173 218]]\n",
      "[[174 217]]\n",
      "[[175 217]]\n",
      "[[176 216]]\n",
      "[[177 216]]\n",
      "[[178 215]]\n",
      "[[179 215]]\n",
      "[[180 215]]\n",
      "[[181 214]]\n",
      "[[182 214]]\n",
      "[[183 213]]\n",
      "[[184 213]]\n",
      "[[185 212]]\n",
      "[[186 212]]\n",
      "[[187 211]]\n",
      "[[188 211]]\n",
      "[[189 210]]\n",
      "[[190 210]]\n",
      "[[191 209]]\n",
      "[[192 209]]\n",
      "[[193 208]]\n",
      "[[194 208]]\n",
      "[[195 207]]\n",
      "[[196 207]]\n",
      "[[197 206]]\n",
      "[[198 206]]\n",
      "[[199 205]]\n",
      "[[200 205]]\n",
      "[[201 204]]\n",
      "[[202 204]]\n",
      "[[203 204]]\n",
      "[[204 203]]\n",
      "[[205 203]]\n",
      "[[206 202]]\n",
      "[[207 202]]\n",
      "[[208 201]]\n",
      "[[209 201]]\n",
      "[[210 200]]\n",
      "[[211 200]]\n",
      "[[212 199]]\n",
      "[[213 199]]\n",
      "[[214 198]]\n",
      "[[215 198]]\n",
      "[[216 197]]\n",
      "[[217 197]]\n",
      "[[218 196]]\n",
      "[[219 196]]\n",
      "[[219 195]]\n",
      "[[219 194]]\n",
      "[[219 193]]\n",
      "[[219 192]]\n",
      "[[219 191]]\n",
      "[[219 190]]\n",
      "[[219 189]]\n",
      "[[219 188]]\n",
      "[[219 187]]\n",
      "[[219 186]]\n",
      "[[219 185]]\n",
      "[[219 184]]\n",
      "[[219 183]]\n",
      "[[219 182]]\n",
      "[[219 181]]\n",
      "[[219 180]]\n",
      "[[219 179]]\n",
      "[[219 178]]\n",
      "[[219 177]]\n",
      "[[219 176]]\n",
      "[[219 175]]\n",
      "[[219 174]]\n",
      "[[219 173]]\n",
      "[[219 172]]\n",
      "[[219 171]]\n",
      "[[219 170]]\n",
      "[[219 169]]\n",
      "[[219 168]]\n",
      "[[219 167]]\n",
      "[[219 166]]\n",
      "[[219 165]]\n",
      "[[219 164]]\n",
      "[[219 163]]\n",
      "[[219 162]]\n",
      "[[219 161]]\n",
      "[[219 160]]\n",
      "[[219 159]]\n",
      "[[219 158]]\n",
      "[[219 157]]\n",
      "[[219 156]]\n",
      "[[219 155]]\n",
      "[[219 154]]\n",
      "[[219 153]]\n",
      "[[219 152]]\n",
      "[[218 152]]\n",
      "[[217 151]]\n",
      "[[216 151]]\n",
      "[[215 150]]\n",
      "[[214 150]]\n",
      "[[213 149]]\n",
      "[[212 149]]\n",
      "[[211 148]]\n",
      "[[210 148]]\n",
      "[[209 147]]\n",
      "[[208 147]]\n",
      "[[207 146]]\n",
      "[[206 146]]\n",
      "[[205 146]]\n",
      "[[204 145]]\n",
      "[[203 145]]\n",
      "[[202 144]]\n",
      "[[201 144]]\n",
      "[[200 143]]\n",
      "[[199 143]]\n",
      "[[198 142]]\n",
      "[[197 142]]\n",
      "[[196 141]]\n",
      "[[195 141]]\n",
      "[[194 140]]\n",
      "[[193 140]]\n",
      "[[192 139]]\n",
      "[[191 139]]\n",
      "[[190 138]]\n",
      "[[189 138]]\n",
      "[[188 137]]\n",
      "[[187 137]]\n",
      "[[186 136]]\n",
      "[[185 136]]\n",
      "[[184 135]]\n",
      "[[183 135]]\n",
      "[[182 134]]\n",
      "[[181 134]]\n",
      "[[180 134]]\n",
      "[[179 133]]\n",
      "[[178 133]]\n",
      "[[177 132]]\n",
      "[[176 132]]\n",
      "[[175 131]]\n",
      "[[174 131]]\n"
     ]
    },
    {
     "output_type": "execute_result",
     "data": {
      "text/plain": [
       "True"
      ]
     },
     "metadata": {},
     "execution_count": 108
    }
   ],
   "source": [
    "# print number of points along contour\n",
    "print('number of points: ',len(cntr))\n",
    "\n",
    "print('')\n",
    "\n",
    "# list contour points\n",
    "for pt in cntr:\n",
    "    print(pt)\n",
    "\n",
    "# save resulting images\n",
    "cv2.imwrite('blue_blob_thresh.png',mask)\n",
    "cv2.imwrite('blue_blob_contour.png',result) \n",
    "\n",
    "# show thresh and contour   \n",
    "#cv2.imshow(\"thresh\", mask)\n",
    "#cv2.imshow(\"result\", result)"
   ]
  },
  {
   "cell_type": "code",
   "execution_count": 106,
   "metadata": {},
   "outputs": [
    {
     "output_type": "execute_result",
     "data": {
      "text/plain": [
       "<matplotlib.image.AxesImage at 0x2215e0d2b88>"
      ]
     },
     "metadata": {},
     "execution_count": 106
    },
    {
     "output_type": "display_data",
     "data": {
      "text/plain": "<Figure size 432x288 with 1 Axes>",
      "image/svg+xml": "<?xml version=\"1.0\" encoding=\"utf-8\" standalone=\"no\"?>\r\n<!DOCTYPE svg PUBLIC \"-//W3C//DTD SVG 1.1//EN\"\r\n  \"http://www.w3.org/Graphics/SVG/1.1/DTD/svg11.dtd\">\r\n<!-- Created with matplotlib (https://matplotlib.org/) -->\r\n<svg height=\"252.015344pt\" version=\"1.1\" viewBox=\"0 0 251.8875 252.015344\" width=\"251.8875pt\" xmlns=\"http://www.w3.org/2000/svg\" xmlns:xlink=\"http://www.w3.org/1999/xlink\">\r\n <defs>\r\n  <style type=\"text/css\">\r\n*{stroke-linecap:butt;stroke-linejoin:round;}\r\n  </style>\r\n </defs>\r\n <g id=\"figure_1\">\r\n  <g id=\"patch_1\">\r\n   <path d=\"M 0 252.015344 \r\nL 251.8875 252.015344 \r\nL 251.8875 0 \r\nL 0 0 \r\nz\r\n\" style=\"fill:none;\"/>\r\n  </g>\r\n  <g id=\"axes_1\">\r\n   <g id=\"patch_2\">\r\n    <path d=\"M 33.2875 228.137219 \r\nL 244.6875 228.137219 \r\nL 244.6875 10.697219 \r\nL 33.2875 10.697219 \r\nz\r\n\" style=\"fill:#ffffff;\"/>\r\n   </g>\r\n   <g clip-path=\"url(#p6cd0f650d0)\">\r\n    <image height=\"218\" id=\"image7aea51bae9\" transform=\"scale(1 -1)translate(0 -218)\" width=\"212\" x=\"33.2875\" xlink:href=\"data:image/png;base64,\r\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\" y=\"-10.137219\"/>\r\n   </g>\r\n   <g id=\"matplotlib.axis_1\">\r\n    <g id=\"xtick_1\">\r\n     <g id=\"line2d_1\">\r\n      <defs>\r\n       <path d=\"M 0 0 \r\nL 0 3.5 \r\n\" id=\"ma3433e647f\" style=\"stroke:#000000;stroke-width:0.8;\"/>\r\n      </defs>\r\n      <g>\r\n       <use style=\"stroke:#000000;stroke-width:0.8;\" x=\"33.5895\" xlink:href=\"#ma3433e647f\" y=\"228.137219\"/>\r\n      </g>\r\n     </g>\r\n     <g id=\"text_1\">\r\n      <!-- 0 -->\r\n      <defs>\r\n       <path d=\"M 31.78125 66.40625 \r\nQ 24.171875 66.40625 20.328125 58.90625 \r\nQ 16.5 51.421875 16.5 36.375 \r\nQ 16.5 21.390625 20.328125 13.890625 \r\nQ 24.171875 6.390625 31.78125 6.390625 \r\nQ 39.453125 6.390625 43.28125 13.890625 \r\nQ 47.125 21.390625 47.125 36.375 \r\nQ 47.125 51.421875 43.28125 58.90625 \r\nQ 39.453125 66.40625 31.78125 66.40625 \r\nz\r\nM 31.78125 74.21875 \r\nQ 44.046875 74.21875 50.515625 64.515625 \r\nQ 56.984375 54.828125 56.984375 36.375 \r\nQ 56.984375 17.96875 50.515625 8.265625 \r\nQ 44.046875 -1.421875 31.78125 -1.421875 \r\nQ 19.53125 -1.421875 13.0625 8.265625 \r\nQ 6.59375 17.96875 6.59375 36.375 \r\nQ 6.59375 54.828125 13.0625 64.515625 \r\nQ 19.53125 74.21875 31.78125 74.21875 \r\nz\r\n\" id=\"DejaVuSans-48\"/>\r\n      </defs>\r\n      <g transform=\"translate(30.40825 242.735656)scale(0.1 -0.1)\">\r\n       <use xlink:href=\"#DejaVuSans-48\"/>\r\n      </g>\r\n     </g>\r\n    </g>\r\n    <g id=\"xtick_2\">\r\n     <g id=\"line2d_2\">\r\n      <g>\r\n       <use style=\"stroke:#000000;stroke-width:0.8;\" x=\"63.7895\" xlink:href=\"#ma3433e647f\" y=\"228.137219\"/>\r\n      </g>\r\n     </g>\r\n     <g id=\"text_2\">\r\n      <!-- 50 -->\r\n      <defs>\r\n       <path d=\"M 10.796875 72.90625 \r\nL 49.515625 72.90625 \r\nL 49.515625 64.59375 \r\nL 19.828125 64.59375 \r\nL 19.828125 46.734375 \r\nQ 21.96875 47.46875 24.109375 47.828125 \r\nQ 26.265625 48.1875 28.421875 48.1875 \r\nQ 40.625 48.1875 47.75 41.5 \r\nQ 54.890625 34.8125 54.890625 23.390625 \r\nQ 54.890625 11.625 47.5625 5.09375 \r\nQ 40.234375 -1.421875 26.90625 -1.421875 \r\nQ 22.3125 -1.421875 17.546875 -0.640625 \r\nQ 12.796875 0.140625 7.71875 1.703125 \r\nL 7.71875 11.625 \r\nQ 12.109375 9.234375 16.796875 8.0625 \r\nQ 21.484375 6.890625 26.703125 6.890625 \r\nQ 35.15625 6.890625 40.078125 11.328125 \r\nQ 45.015625 15.765625 45.015625 23.390625 \r\nQ 45.015625 31 40.078125 35.4375 \r\nQ 35.15625 39.890625 26.703125 39.890625 \r\nQ 22.75 39.890625 18.8125 39.015625 \r\nQ 14.890625 38.140625 10.796875 36.28125 \r\nz\r\n\" id=\"DejaVuSans-53\"/>\r\n      </defs>\r\n      <g transform=\"translate(57.427 242.735656)scale(0.1 -0.1)\">\r\n       <use xlink:href=\"#DejaVuSans-53\"/>\r\n       <use x=\"63.623047\" xlink:href=\"#DejaVuSans-48\"/>\r\n      </g>\r\n     </g>\r\n    </g>\r\n    <g id=\"xtick_3\">\r\n     <g id=\"line2d_3\">\r\n      <g>\r\n       <use style=\"stroke:#000000;stroke-width:0.8;\" x=\"93.9895\" xlink:href=\"#ma3433e647f\" y=\"228.137219\"/>\r\n      </g>\r\n     </g>\r\n     <g id=\"text_3\">\r\n      <!-- 100 -->\r\n      <defs>\r\n       <path d=\"M 12.40625 8.296875 \r\nL 28.515625 8.296875 \r\nL 28.515625 63.921875 \r\nL 10.984375 60.40625 \r\nL 10.984375 69.390625 \r\nL 28.421875 72.90625 \r\nL 38.28125 72.90625 \r\nL 38.28125 8.296875 \r\nL 54.390625 8.296875 \r\nL 54.390625 0 \r\nL 12.40625 0 \r\nz\r\n\" id=\"DejaVuSans-49\"/>\r\n      </defs>\r\n      <g transform=\"translate(84.44575 242.735656)scale(0.1 -0.1)\">\r\n       <use xlink:href=\"#DejaVuSans-49\"/>\r\n       <use x=\"63.623047\" xlink:href=\"#DejaVuSans-48\"/>\r\n       <use x=\"127.246094\" xlink:href=\"#DejaVuSans-48\"/>\r\n      </g>\r\n     </g>\r\n    </g>\r\n    <g id=\"xtick_4\">\r\n     <g id=\"line2d_4\">\r\n      <g>\r\n       <use style=\"stroke:#000000;stroke-width:0.8;\" x=\"124.1895\" xlink:href=\"#ma3433e647f\" y=\"228.137219\"/>\r\n      </g>\r\n     </g>\r\n     <g id=\"text_4\">\r\n      <!-- 150 -->\r\n      <g transform=\"translate(114.64575 242.735656)scale(0.1 -0.1)\">\r\n       <use xlink:href=\"#DejaVuSans-49\"/>\r\n       <use x=\"63.623047\" xlink:href=\"#DejaVuSans-53\"/>\r\n       <use x=\"127.246094\" xlink:href=\"#DejaVuSans-48\"/>\r\n      </g>\r\n     </g>\r\n    </g>\r\n    <g id=\"xtick_5\">\r\n     <g id=\"line2d_5\">\r\n      <g>\r\n       <use style=\"stroke:#000000;stroke-width:0.8;\" x=\"154.3895\" xlink:href=\"#ma3433e647f\" y=\"228.137219\"/>\r\n      </g>\r\n     </g>\r\n     <g id=\"text_5\">\r\n      <!-- 200 -->\r\n      <defs>\r\n       <path d=\"M 19.1875 8.296875 \r\nL 53.609375 8.296875 \r\nL 53.609375 0 \r\nL 7.328125 0 \r\nL 7.328125 8.296875 \r\nQ 12.9375 14.109375 22.625 23.890625 \r\nQ 32.328125 33.6875 34.8125 36.53125 \r\nQ 39.546875 41.84375 41.421875 45.53125 \r\nQ 43.3125 49.21875 43.3125 52.78125 \r\nQ 43.3125 58.59375 39.234375 62.25 \r\nQ 35.15625 65.921875 28.609375 65.921875 \r\nQ 23.96875 65.921875 18.8125 64.3125 \r\nQ 13.671875 62.703125 7.8125 59.421875 \r\nL 7.8125 69.390625 \r\nQ 13.765625 71.78125 18.9375 73 \r\nQ 24.125 74.21875 28.421875 74.21875 \r\nQ 39.75 74.21875 46.484375 68.546875 \r\nQ 53.21875 62.890625 53.21875 53.421875 \r\nQ 53.21875 48.921875 51.53125 44.890625 \r\nQ 49.859375 40.875 45.40625 35.40625 \r\nQ 44.1875 33.984375 37.640625 27.21875 \r\nQ 31.109375 20.453125 19.1875 8.296875 \r\nz\r\n\" id=\"DejaVuSans-50\"/>\r\n      </defs>\r\n      <g transform=\"translate(144.84575 242.735656)scale(0.1 -0.1)\">\r\n       <use xlink:href=\"#DejaVuSans-50\"/>\r\n       <use x=\"63.623047\" xlink:href=\"#DejaVuSans-48\"/>\r\n       <use x=\"127.246094\" xlink:href=\"#DejaVuSans-48\"/>\r\n      </g>\r\n     </g>\r\n    </g>\r\n    <g id=\"xtick_6\">\r\n     <g id=\"line2d_6\">\r\n      <g>\r\n       <use style=\"stroke:#000000;stroke-width:0.8;\" x=\"184.5895\" xlink:href=\"#ma3433e647f\" y=\"228.137219\"/>\r\n      </g>\r\n     </g>\r\n     <g id=\"text_6\">\r\n      <!-- 250 -->\r\n      <g transform=\"translate(175.04575 242.735656)scale(0.1 -0.1)\">\r\n       <use xlink:href=\"#DejaVuSans-50\"/>\r\n       <use x=\"63.623047\" xlink:href=\"#DejaVuSans-53\"/>\r\n       <use x=\"127.246094\" xlink:href=\"#DejaVuSans-48\"/>\r\n      </g>\r\n     </g>\r\n    </g>\r\n    <g id=\"xtick_7\">\r\n     <g id=\"line2d_7\">\r\n      <g>\r\n       <use style=\"stroke:#000000;stroke-width:0.8;\" x=\"214.7895\" xlink:href=\"#ma3433e647f\" y=\"228.137219\"/>\r\n      </g>\r\n     </g>\r\n     <g id=\"text_7\">\r\n      <!-- 300 -->\r\n      <defs>\r\n       <path d=\"M 40.578125 39.3125 \r\nQ 47.65625 37.796875 51.625 33 \r\nQ 55.609375 28.21875 55.609375 21.1875 \r\nQ 55.609375 10.40625 48.1875 4.484375 \r\nQ 40.765625 -1.421875 27.09375 -1.421875 \r\nQ 22.515625 -1.421875 17.65625 -0.515625 \r\nQ 12.796875 0.390625 7.625 2.203125 \r\nL 7.625 11.71875 \r\nQ 11.71875 9.328125 16.59375 8.109375 \r\nQ 21.484375 6.890625 26.8125 6.890625 \r\nQ 36.078125 6.890625 40.9375 10.546875 \r\nQ 45.796875 14.203125 45.796875 21.1875 \r\nQ 45.796875 27.640625 41.28125 31.265625 \r\nQ 36.765625 34.90625 28.71875 34.90625 \r\nL 20.21875 34.90625 \r\nL 20.21875 43.015625 \r\nL 29.109375 43.015625 \r\nQ 36.375 43.015625 40.234375 45.921875 \r\nQ 44.09375 48.828125 44.09375 54.296875 \r\nQ 44.09375 59.90625 40.109375 62.90625 \r\nQ 36.140625 65.921875 28.71875 65.921875 \r\nQ 24.65625 65.921875 20.015625 65.03125 \r\nQ 15.375 64.15625 9.8125 62.3125 \r\nL 9.8125 71.09375 \r\nQ 15.4375 72.65625 20.34375 73.4375 \r\nQ 25.25 74.21875 29.59375 74.21875 \r\nQ 40.828125 74.21875 47.359375 69.109375 \r\nQ 53.90625 64.015625 53.90625 55.328125 \r\nQ 53.90625 49.265625 50.4375 45.09375 \r\nQ 46.96875 40.921875 40.578125 39.3125 \r\nz\r\n\" id=\"DejaVuSans-51\"/>\r\n      </defs>\r\n      <g transform=\"translate(205.24575 242.735656)scale(0.1 -0.1)\">\r\n       <use xlink:href=\"#DejaVuSans-51\"/>\r\n       <use x=\"63.623047\" xlink:href=\"#DejaVuSans-48\"/>\r\n       <use x=\"127.246094\" xlink:href=\"#DejaVuSans-48\"/>\r\n      </g>\r\n     </g>\r\n    </g>\r\n   </g>\r\n   <g id=\"matplotlib.axis_2\">\r\n    <g id=\"ytick_1\">\r\n     <g id=\"line2d_8\">\r\n      <defs>\r\n       <path d=\"M 0 0 \r\nL -3.5 0 \r\n\" id=\"m1831b17769\" style=\"stroke:#000000;stroke-width:0.8;\"/>\r\n      </defs>\r\n      <g>\r\n       <use style=\"stroke:#000000;stroke-width:0.8;\" x=\"33.2875\" xlink:href=\"#m1831b17769\" y=\"10.999219\"/>\r\n      </g>\r\n     </g>\r\n     <g id=\"text_8\">\r\n      <!-- 0 -->\r\n      <g transform=\"translate(19.925 14.798437)scale(0.1 -0.1)\">\r\n       <use xlink:href=\"#DejaVuSans-48\"/>\r\n      </g>\r\n     </g>\r\n    </g>\r\n    <g id=\"ytick_2\">\r\n     <g id=\"line2d_9\">\r\n      <g>\r\n       <use style=\"stroke:#000000;stroke-width:0.8;\" x=\"33.2875\" xlink:href=\"#m1831b17769\" y=\"41.199219\"/>\r\n      </g>\r\n     </g>\r\n     <g id=\"text_9\">\r\n      <!-- 50 -->\r\n      <g transform=\"translate(13.5625 44.998437)scale(0.1 -0.1)\">\r\n       <use xlink:href=\"#DejaVuSans-53\"/>\r\n       <use x=\"63.623047\" xlink:href=\"#DejaVuSans-48\"/>\r\n      </g>\r\n     </g>\r\n    </g>\r\n    <g id=\"ytick_3\">\r\n     <g id=\"line2d_10\">\r\n      <g>\r\n       <use style=\"stroke:#000000;stroke-width:0.8;\" x=\"33.2875\" xlink:href=\"#m1831b17769\" y=\"71.399219\"/>\r\n      </g>\r\n     </g>\r\n     <g id=\"text_10\">\r\n      <!-- 100 -->\r\n      <g transform=\"translate(7.2 75.198437)scale(0.1 -0.1)\">\r\n       <use xlink:href=\"#DejaVuSans-49\"/>\r\n       <use x=\"63.623047\" xlink:href=\"#DejaVuSans-48\"/>\r\n       <use x=\"127.246094\" xlink:href=\"#DejaVuSans-48\"/>\r\n      </g>\r\n     </g>\r\n    </g>\r\n    <g id=\"ytick_4\">\r\n     <g id=\"line2d_11\">\r\n      <g>\r\n       <use style=\"stroke:#000000;stroke-width:0.8;\" x=\"33.2875\" xlink:href=\"#m1831b17769\" y=\"101.599219\"/>\r\n      </g>\r\n     </g>\r\n     <g id=\"text_11\">\r\n      <!-- 150 -->\r\n      <g transform=\"translate(7.2 105.398437)scale(0.1 -0.1)\">\r\n       <use xlink:href=\"#DejaVuSans-49\"/>\r\n       <use x=\"63.623047\" xlink:href=\"#DejaVuSans-53\"/>\r\n       <use x=\"127.246094\" xlink:href=\"#DejaVuSans-48\"/>\r\n      </g>\r\n     </g>\r\n    </g>\r\n    <g id=\"ytick_5\">\r\n     <g id=\"line2d_12\">\r\n      <g>\r\n       <use style=\"stroke:#000000;stroke-width:0.8;\" x=\"33.2875\" xlink:href=\"#m1831b17769\" y=\"131.799219\"/>\r\n      </g>\r\n     </g>\r\n     <g id=\"text_12\">\r\n      <!-- 200 -->\r\n      <g transform=\"translate(7.2 135.598437)scale(0.1 -0.1)\">\r\n       <use xlink:href=\"#DejaVuSans-50\"/>\r\n       <use x=\"63.623047\" xlink:href=\"#DejaVuSans-48\"/>\r\n       <use x=\"127.246094\" xlink:href=\"#DejaVuSans-48\"/>\r\n      </g>\r\n     </g>\r\n    </g>\r\n    <g id=\"ytick_6\">\r\n     <g id=\"line2d_13\">\r\n      <g>\r\n       <use style=\"stroke:#000000;stroke-width:0.8;\" x=\"33.2875\" xlink:href=\"#m1831b17769\" y=\"161.999219\"/>\r\n      </g>\r\n     </g>\r\n     <g id=\"text_13\">\r\n      <!-- 250 -->\r\n      <g transform=\"translate(7.2 165.798437)scale(0.1 -0.1)\">\r\n       <use xlink:href=\"#DejaVuSans-50\"/>\r\n       <use x=\"63.623047\" xlink:href=\"#DejaVuSans-53\"/>\r\n       <use x=\"127.246094\" xlink:href=\"#DejaVuSans-48\"/>\r\n      </g>\r\n     </g>\r\n    </g>\r\n    <g id=\"ytick_7\">\r\n     <g id=\"line2d_14\">\r\n      <g>\r\n       <use style=\"stroke:#000000;stroke-width:0.8;\" x=\"33.2875\" xlink:href=\"#m1831b17769\" y=\"192.199219\"/>\r\n      </g>\r\n     </g>\r\n     <g id=\"text_14\">\r\n      <!-- 300 -->\r\n      <g transform=\"translate(7.2 195.998437)scale(0.1 -0.1)\">\r\n       <use xlink:href=\"#DejaVuSans-51\"/>\r\n       <use x=\"63.623047\" xlink:href=\"#DejaVuSans-48\"/>\r\n       <use x=\"127.246094\" xlink:href=\"#DejaVuSans-48\"/>\r\n      </g>\r\n     </g>\r\n    </g>\r\n    <g id=\"ytick_8\">\r\n     <g id=\"line2d_15\">\r\n      <g>\r\n       <use style=\"stroke:#000000;stroke-width:0.8;\" x=\"33.2875\" xlink:href=\"#m1831b17769\" y=\"222.399219\"/>\r\n      </g>\r\n     </g>\r\n     <g id=\"text_15\">\r\n      <!-- 350 -->\r\n      <g transform=\"translate(7.2 226.198437)scale(0.1 -0.1)\">\r\n       <use xlink:href=\"#DejaVuSans-51\"/>\r\n       <use x=\"63.623047\" xlink:href=\"#DejaVuSans-53\"/>\r\n       <use x=\"127.246094\" xlink:href=\"#DejaVuSans-48\"/>\r\n      </g>\r\n     </g>\r\n    </g>\r\n   </g>\r\n   <g id=\"patch_3\">\r\n    <path d=\"M 33.2875 228.137219 \r\nL 33.2875 10.697219 \r\n\" style=\"fill:none;stroke:#000000;stroke-linecap:square;stroke-linejoin:miter;stroke-width:0.8;\"/>\r\n   </g>\r\n   <g id=\"patch_4\">\r\n    <path d=\"M 244.6875 228.137219 \r\nL 244.6875 10.697219 \r\n\" style=\"fill:none;stroke:#000000;stroke-linecap:square;stroke-linejoin:miter;stroke-width:0.8;\"/>\r\n   </g>\r\n   <g id=\"patch_5\">\r\n    <path d=\"M 33.2875 228.137219 \r\nL 244.6875 228.137219 \r\n\" style=\"fill:none;stroke:#000000;stroke-linecap:square;stroke-linejoin:miter;stroke-width:0.8;\"/>\r\n   </g>\r\n   <g id=\"patch_6\">\r\n    <path d=\"M 33.2875 10.697219 \r\nL 244.6875 10.697219 \r\n\" style=\"fill:none;stroke:#000000;stroke-linecap:square;stroke-linejoin:miter;stroke-width:0.8;\"/>\r\n   </g>\r\n  </g>\r\n </g>\r\n <defs>\r\n  <clipPath id=\"p6cd0f650d0\">\r\n   <rect height=\"217.44\" width=\"211.4\" x=\"33.2875\" y=\"10.697219\"/>\r\n  </clipPath>\r\n </defs>\r\n</svg>\r\n",
      "image/png": "[encoded data removed]"
     },
     "metadata": {
      "needs_background": "light"
     }
    }
   ],
   "source": [
    "\n",
    "import cv2\n",
    "import numpy as np\n",
    "import matplotlib.pyplot as plt\n",
    "t_image = image.copy()\n",
    "for i in cntr:\n",
    "    t_image[i] == (0,0,255)\n",
    "\n",
    "plt.imshow(cv2.cvtColor(t_image, cv2.COLOR_BGR2RGB))\n"
   ]
  },
  {
   "cell_type": "code",
   "execution_count": 28,
   "metadata": {},
   "outputs": [
    {
     "output_type": "error",
     "ename": "TypeError",
     "evalue": "imshow() missing required argument 'mat' (pos 2)",
     "traceback": [
      "\u001b[1;31m---------------------------------------------------------------------------\u001b[0m",
      "\u001b[1;31mTypeError\u001b[0m                                 Traceback (most recent call last)",
      "\u001b[1;32m<ipython-input-28-ce199d57ce56>\u001b[0m in \u001b[0;36m<module>\u001b[1;34m\u001b[0m\n\u001b[1;32m----> 1\u001b[1;33m \u001b[0mcv2\u001b[0m\u001b[1;33m.\u001b[0m\u001b[0mimshow\u001b[0m\u001b[1;33m(\u001b[0m\u001b[0mt_image\u001b[0m\u001b[1;33m)\u001b[0m\u001b[1;33m\u001b[0m\u001b[1;33m\u001b[0m\u001b[0m\n\u001b[0m",
      "\u001b[1;31mTypeError\u001b[0m: imshow() missing required argument 'mat' (pos 2)"
     ]
    }
   ],
   "source": [
    "cv2.imshow(t_image)"
   ]
  },
  {
   "cell_type": "code",
   "execution_count": 31,
   "metadata": {},
   "outputs": [
    {
     "output_type": "execute_result",
     "data": {
      "text/plain": [
       "<matplotlib.image.AxesImage at 0x2215adccc88>"
      ]
     },
     "metadata": {},
     "execution_count": 31
    },
    {
     "output_type": "display_data",
     "data": {
      "text/plain": "<Figure size 432x288 with 1 Axes>",
      "image/svg+xml": "<?xml version=\"1.0\" encoding=\"utf-8\" standalone=\"no\"?>\r\n<!DOCTYPE svg PUBLIC \"-//W3C//DTD SVG 1.1//EN\"\r\n  \"http://www.w3.org/Graphics/SVG/1.1/DTD/svg11.dtd\">\r\n<!-- Created with matplotlib (https://matplotlib.org/) -->\r\n<svg height=\"252.015344pt\" version=\"1.1\" viewBox=\"0 0 251.8875 252.015344\" width=\"251.8875pt\" xmlns=\"http://www.w3.org/2000/svg\" xmlns:xlink=\"http://www.w3.org/1999/xlink\">\r\n <defs>\r\n  <style type=\"text/css\">\r\n*{stroke-linecap:butt;stroke-linejoin:round;}\r\n  </style>\r\n </defs>\r\n <g id=\"figure_1\">\r\n  <g id=\"patch_1\">\r\n   <path d=\"M 0 252.015344 \r\nL 251.8875 252.015344 \r\nL 251.8875 0 \r\nL 0 0 \r\nz\r\n\" style=\"fill:none;\"/>\r\n  </g>\r\n  <g id=\"axes_1\">\r\n   <g id=\"patch_2\">\r\n    <path d=\"M 33.2875 228.137219 \r\nL 244.6875 228.137219 \r\nL 244.6875 10.697219 \r\nL 33.2875 10.697219 \r\nz\r\n\" style=\"fill:#ffffff;\"/>\r\n   </g>\r\n   <g clip-path=\"url(#p72ea081127)\">\r\n    <image height=\"218\" id=\"image79cfd98956\" transform=\"scale(1 -1)translate(0 -218)\" width=\"212\" x=\"33.2875\" xlink:href=\"data:image/png;base64,\r\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\" y=\"-10.137219\"/>\r\n   </g>\r\n   <g id=\"matplotlib.axis_1\">\r\n    <g id=\"xtick_1\">\r\n     <g id=\"line2d_1\">\r\n      <defs>\r\n       <path d=\"M 0 0 \r\nL 0 3.5 \r\n\" id=\"mefb9dab047\" style=\"stroke:#000000;stroke-width:0.8;\"/>\r\n      </defs>\r\n      <g>\r\n       <use style=\"stroke:#000000;stroke-width:0.8;\" x=\"33.5895\" xlink:href=\"#mefb9dab047\" y=\"228.137219\"/>\r\n      </g>\r\n     </g>\r\n     <g id=\"text_1\">\r\n      <!-- 0 -->\r\n      <defs>\r\n       <path d=\"M 31.78125 66.40625 \r\nQ 24.171875 66.40625 20.328125 58.90625 \r\nQ 16.5 51.421875 16.5 36.375 \r\nQ 16.5 21.390625 20.328125 13.890625 \r\nQ 24.171875 6.390625 31.78125 6.390625 \r\nQ 39.453125 6.390625 43.28125 13.890625 \r\nQ 47.125 21.390625 47.125 36.375 \r\nQ 47.125 51.421875 43.28125 58.90625 \r\nQ 39.453125 66.40625 31.78125 66.40625 \r\nz\r\nM 31.78125 74.21875 \r\nQ 44.046875 74.21875 50.515625 64.515625 \r\nQ 56.984375 54.828125 56.984375 36.375 \r\nQ 56.984375 17.96875 50.515625 8.265625 \r\nQ 44.046875 -1.421875 31.78125 -1.421875 \r\nQ 19.53125 -1.421875 13.0625 8.265625 \r\nQ 6.59375 17.96875 6.59375 36.375 \r\nQ 6.59375 54.828125 13.0625 64.515625 \r\nQ 19.53125 74.21875 31.78125 74.21875 \r\nz\r\n\" id=\"DejaVuSans-48\"/>\r\n      </defs>\r\n      <g transform=\"translate(30.40825 242.735656)scale(0.1 -0.1)\">\r\n       <use xlink:href=\"#DejaVuSans-48\"/>\r\n      </g>\r\n     </g>\r\n    </g>\r\n    <g id=\"xtick_2\">\r\n     <g id=\"line2d_2\">\r\n      <g>\r\n       <use style=\"stroke:#000000;stroke-width:0.8;\" x=\"63.7895\" xlink:href=\"#mefb9dab047\" y=\"228.137219\"/>\r\n      </g>\r\n     </g>\r\n     <g id=\"text_2\">\r\n      <!-- 50 -->\r\n      <defs>\r\n       <path d=\"M 10.796875 72.90625 \r\nL 49.515625 72.90625 \r\nL 49.515625 64.59375 \r\nL 19.828125 64.59375 \r\nL 19.828125 46.734375 \r\nQ 21.96875 47.46875 24.109375 47.828125 \r\nQ 26.265625 48.1875 28.421875 48.1875 \r\nQ 40.625 48.1875 47.75 41.5 \r\nQ 54.890625 34.8125 54.890625 23.390625 \r\nQ 54.890625 11.625 47.5625 5.09375 \r\nQ 40.234375 -1.421875 26.90625 -1.421875 \r\nQ 22.3125 -1.421875 17.546875 -0.640625 \r\nQ 12.796875 0.140625 7.71875 1.703125 \r\nL 7.71875 11.625 \r\nQ 12.109375 9.234375 16.796875 8.0625 \r\nQ 21.484375 6.890625 26.703125 6.890625 \r\nQ 35.15625 6.890625 40.078125 11.328125 \r\nQ 45.015625 15.765625 45.015625 23.390625 \r\nQ 45.015625 31 40.078125 35.4375 \r\nQ 35.15625 39.890625 26.703125 39.890625 \r\nQ 22.75 39.890625 18.8125 39.015625 \r\nQ 14.890625 38.140625 10.796875 36.28125 \r\nz\r\n\" id=\"DejaVuSans-53\"/>\r\n      </defs>\r\n      <g transform=\"translate(57.427 242.735656)scale(0.1 -0.1)\">\r\n       <use xlink:href=\"#DejaVuSans-53\"/>\r\n       <use x=\"63.623047\" xlink:href=\"#DejaVuSans-48\"/>\r\n      </g>\r\n     </g>\r\n    </g>\r\n    <g id=\"xtick_3\">\r\n     <g id=\"line2d_3\">\r\n      <g>\r\n       <use style=\"stroke:#000000;stroke-width:0.8;\" x=\"93.9895\" xlink:href=\"#mefb9dab047\" y=\"228.137219\"/>\r\n      </g>\r\n     </g>\r\n     <g id=\"text_3\">\r\n      <!-- 100 -->\r\n      <defs>\r\n       <path d=\"M 12.40625 8.296875 \r\nL 28.515625 8.296875 \r\nL 28.515625 63.921875 \r\nL 10.984375 60.40625 \r\nL 10.984375 69.390625 \r\nL 28.421875 72.90625 \r\nL 38.28125 72.90625 \r\nL 38.28125 8.296875 \r\nL 54.390625 8.296875 \r\nL 54.390625 0 \r\nL 12.40625 0 \r\nz\r\n\" id=\"DejaVuSans-49\"/>\r\n      </defs>\r\n      <g transform=\"translate(84.44575 242.735656)scale(0.1 -0.1)\">\r\n       <use xlink:href=\"#DejaVuSans-49\"/>\r\n       <use x=\"63.623047\" xlink:href=\"#DejaVuSans-48\"/>\r\n       <use x=\"127.246094\" xlink:href=\"#DejaVuSans-48\"/>\r\n      </g>\r\n     </g>\r\n    </g>\r\n    <g id=\"xtick_4\">\r\n     <g id=\"line2d_4\">\r\n      <g>\r\n       <use style=\"stroke:#000000;stroke-width:0.8;\" x=\"124.1895\" xlink:href=\"#mefb9dab047\" y=\"228.137219\"/>\r\n      </g>\r\n     </g>\r\n     <g id=\"text_4\">\r\n      <!-- 150 -->\r\n      <g transform=\"translate(114.64575 242.735656)scale(0.1 -0.1)\">\r\n       <use xlink:href=\"#DejaVuSans-49\"/>\r\n       <use x=\"63.623047\" xlink:href=\"#DejaVuSans-53\"/>\r\n       <use x=\"127.246094\" xlink:href=\"#DejaVuSans-48\"/>\r\n      </g>\r\n     </g>\r\n    </g>\r\n    <g id=\"xtick_5\">\r\n     <g id=\"line2d_5\">\r\n      <g>\r\n       <use style=\"stroke:#000000;stroke-width:0.8;\" x=\"154.3895\" xlink:href=\"#mefb9dab047\" y=\"228.137219\"/>\r\n      </g>\r\n     </g>\r\n     <g id=\"text_5\">\r\n      <!-- 200 -->\r\n      <defs>\r\n       <path d=\"M 19.1875 8.296875 \r\nL 53.609375 8.296875 \r\nL 53.609375 0 \r\nL 7.328125 0 \r\nL 7.328125 8.296875 \r\nQ 12.9375 14.109375 22.625 23.890625 \r\nQ 32.328125 33.6875 34.8125 36.53125 \r\nQ 39.546875 41.84375 41.421875 45.53125 \r\nQ 43.3125 49.21875 43.3125 52.78125 \r\nQ 43.3125 58.59375 39.234375 62.25 \r\nQ 35.15625 65.921875 28.609375 65.921875 \r\nQ 23.96875 65.921875 18.8125 64.3125 \r\nQ 13.671875 62.703125 7.8125 59.421875 \r\nL 7.8125 69.390625 \r\nQ 13.765625 71.78125 18.9375 73 \r\nQ 24.125 74.21875 28.421875 74.21875 \r\nQ 39.75 74.21875 46.484375 68.546875 \r\nQ 53.21875 62.890625 53.21875 53.421875 \r\nQ 53.21875 48.921875 51.53125 44.890625 \r\nQ 49.859375 40.875 45.40625 35.40625 \r\nQ 44.1875 33.984375 37.640625 27.21875 \r\nQ 31.109375 20.453125 19.1875 8.296875 \r\nz\r\n\" id=\"DejaVuSans-50\"/>\r\n      </defs>\r\n      <g transform=\"translate(144.84575 242.735656)scale(0.1 -0.1)\">\r\n       <use xlink:href=\"#DejaVuSans-50\"/>\r\n       <use x=\"63.623047\" xlink:href=\"#DejaVuSans-48\"/>\r\n       <use x=\"127.246094\" xlink:href=\"#DejaVuSans-48\"/>\r\n      </g>\r\n     </g>\r\n    </g>\r\n    <g id=\"xtick_6\">\r\n     <g id=\"line2d_6\">\r\n      <g>\r\n       <use style=\"stroke:#000000;stroke-width:0.8;\" x=\"184.5895\" xlink:href=\"#mefb9dab047\" y=\"228.137219\"/>\r\n      </g>\r\n     </g>\r\n     <g id=\"text_6\">\r\n      <!-- 250 -->\r\n      <g transform=\"translate(175.04575 242.735656)scale(0.1 -0.1)\">\r\n       <use xlink:href=\"#DejaVuSans-50\"/>\r\n       <use x=\"63.623047\" xlink:href=\"#DejaVuSans-53\"/>\r\n       <use x=\"127.246094\" xlink:href=\"#DejaVuSans-48\"/>\r\n      </g>\r\n     </g>\r\n    </g>\r\n    <g id=\"xtick_7\">\r\n     <g id=\"line2d_7\">\r\n      <g>\r\n       <use style=\"stroke:#000000;stroke-width:0.8;\" x=\"214.7895\" xlink:href=\"#mefb9dab047\" y=\"228.137219\"/>\r\n      </g>\r\n     </g>\r\n     <g id=\"text_7\">\r\n      <!-- 300 -->\r\n      <defs>\r\n       <path d=\"M 40.578125 39.3125 \r\nQ 47.65625 37.796875 51.625 33 \r\nQ 55.609375 28.21875 55.609375 21.1875 \r\nQ 55.609375 10.40625 48.1875 4.484375 \r\nQ 40.765625 -1.421875 27.09375 -1.421875 \r\nQ 22.515625 -1.421875 17.65625 -0.515625 \r\nQ 12.796875 0.390625 7.625 2.203125 \r\nL 7.625 11.71875 \r\nQ 11.71875 9.328125 16.59375 8.109375 \r\nQ 21.484375 6.890625 26.8125 6.890625 \r\nQ 36.078125 6.890625 40.9375 10.546875 \r\nQ 45.796875 14.203125 45.796875 21.1875 \r\nQ 45.796875 27.640625 41.28125 31.265625 \r\nQ 36.765625 34.90625 28.71875 34.90625 \r\nL 20.21875 34.90625 \r\nL 20.21875 43.015625 \r\nL 29.109375 43.015625 \r\nQ 36.375 43.015625 40.234375 45.921875 \r\nQ 44.09375 48.828125 44.09375 54.296875 \r\nQ 44.09375 59.90625 40.109375 62.90625 \r\nQ 36.140625 65.921875 28.71875 65.921875 \r\nQ 24.65625 65.921875 20.015625 65.03125 \r\nQ 15.375 64.15625 9.8125 62.3125 \r\nL 9.8125 71.09375 \r\nQ 15.4375 72.65625 20.34375 73.4375 \r\nQ 25.25 74.21875 29.59375 74.21875 \r\nQ 40.828125 74.21875 47.359375 69.109375 \r\nQ 53.90625 64.015625 53.90625 55.328125 \r\nQ 53.90625 49.265625 50.4375 45.09375 \r\nQ 46.96875 40.921875 40.578125 39.3125 \r\nz\r\n\" id=\"DejaVuSans-51\"/>\r\n      </defs>\r\n      <g transform=\"translate(205.24575 242.735656)scale(0.1 -0.1)\">\r\n       <use xlink:href=\"#DejaVuSans-51\"/>\r\n       <use x=\"63.623047\" xlink:href=\"#DejaVuSans-48\"/>\r\n       <use x=\"127.246094\" xlink:href=\"#DejaVuSans-48\"/>\r\n      </g>\r\n     </g>\r\n    </g>\r\n   </g>\r\n   <g id=\"matplotlib.axis_2\">\r\n    <g id=\"ytick_1\">\r\n     <g id=\"line2d_8\">\r\n      <defs>\r\n       <path d=\"M 0 0 \r\nL -3.5 0 \r\n\" id=\"mbbf9924841\" style=\"stroke:#000000;stroke-width:0.8;\"/>\r\n      </defs>\r\n      <g>\r\n       <use style=\"stroke:#000000;stroke-width:0.8;\" x=\"33.2875\" xlink:href=\"#mbbf9924841\" y=\"10.999219\"/>\r\n      </g>\r\n     </g>\r\n     <g id=\"text_8\">\r\n      <!-- 0 -->\r\n      <g transform=\"translate(19.925 14.798437)scale(0.1 -0.1)\">\r\n       <use xlink:href=\"#DejaVuSans-48\"/>\r\n      </g>\r\n     </g>\r\n    </g>\r\n    <g id=\"ytick_2\">\r\n     <g id=\"line2d_9\">\r\n      <g>\r\n       <use style=\"stroke:#000000;stroke-width:0.8;\" x=\"33.2875\" xlink:href=\"#mbbf9924841\" y=\"41.199219\"/>\r\n      </g>\r\n     </g>\r\n     <g id=\"text_9\">\r\n      <!-- 50 -->\r\n      <g transform=\"translate(13.5625 44.998437)scale(0.1 -0.1)\">\r\n       <use xlink:href=\"#DejaVuSans-53\"/>\r\n       <use x=\"63.623047\" xlink:href=\"#DejaVuSans-48\"/>\r\n      </g>\r\n     </g>\r\n    </g>\r\n    <g id=\"ytick_3\">\r\n     <g id=\"line2d_10\">\r\n      <g>\r\n       <use style=\"stroke:#000000;stroke-width:0.8;\" x=\"33.2875\" xlink:href=\"#mbbf9924841\" y=\"71.399219\"/>\r\n      </g>\r\n     </g>\r\n     <g id=\"text_10\">\r\n      <!-- 100 -->\r\n      <g transform=\"translate(7.2 75.198437)scale(0.1 -0.1)\">\r\n       <use xlink:href=\"#DejaVuSans-49\"/>\r\n       <use x=\"63.623047\" xlink:href=\"#DejaVuSans-48\"/>\r\n       <use x=\"127.246094\" xlink:href=\"#DejaVuSans-48\"/>\r\n      </g>\r\n     </g>\r\n    </g>\r\n    <g id=\"ytick_4\">\r\n     <g id=\"line2d_11\">\r\n      <g>\r\n       <use style=\"stroke:#000000;stroke-width:0.8;\" x=\"33.2875\" xlink:href=\"#mbbf9924841\" y=\"101.599219\"/>\r\n      </g>\r\n     </g>\r\n     <g id=\"text_11\">\r\n      <!-- 150 -->\r\n      <g transform=\"translate(7.2 105.398437)scale(0.1 -0.1)\">\r\n       <use xlink:href=\"#DejaVuSans-49\"/>\r\n       <use x=\"63.623047\" xlink:href=\"#DejaVuSans-53\"/>\r\n       <use x=\"127.246094\" xlink:href=\"#DejaVuSans-48\"/>\r\n      </g>\r\n     </g>\r\n    </g>\r\n    <g id=\"ytick_5\">\r\n     <g id=\"line2d_12\">\r\n      <g>\r\n       <use style=\"stroke:#000000;stroke-width:0.8;\" x=\"33.2875\" xlink:href=\"#mbbf9924841\" y=\"131.799219\"/>\r\n      </g>\r\n     </g>\r\n     <g id=\"text_12\">\r\n      <!-- 200 -->\r\n      <g transform=\"translate(7.2 135.598437)scale(0.1 -0.1)\">\r\n       <use xlink:href=\"#DejaVuSans-50\"/>\r\n       <use x=\"63.623047\" xlink:href=\"#DejaVuSans-48\"/>\r\n       <use x=\"127.246094\" xlink:href=\"#DejaVuSans-48\"/>\r\n      </g>\r\n     </g>\r\n    </g>\r\n    <g id=\"ytick_6\">\r\n     <g id=\"line2d_13\">\r\n      <g>\r\n       <use style=\"stroke:#000000;stroke-width:0.8;\" x=\"33.2875\" xlink:href=\"#mbbf9924841\" y=\"161.999219\"/>\r\n      </g>\r\n     </g>\r\n     <g id=\"text_13\">\r\n      <!-- 250 -->\r\n      <g transform=\"translate(7.2 165.798437)scale(0.1 -0.1)\">\r\n       <use xlink:href=\"#DejaVuSans-50\"/>\r\n       <use x=\"63.623047\" xlink:href=\"#DejaVuSans-53\"/>\r\n       <use x=\"127.246094\" xlink:href=\"#DejaVuSans-48\"/>\r\n      </g>\r\n     </g>\r\n    </g>\r\n    <g id=\"ytick_7\">\r\n     <g id=\"line2d_14\">\r\n      <g>\r\n       <use style=\"stroke:#000000;stroke-width:0.8;\" x=\"33.2875\" xlink:href=\"#mbbf9924841\" y=\"192.199219\"/>\r\n      </g>\r\n     </g>\r\n     <g id=\"text_14\">\r\n      <!-- 300 -->\r\n      <g transform=\"translate(7.2 195.998437)scale(0.1 -0.1)\">\r\n       <use xlink:href=\"#DejaVuSans-51\"/>\r\n       <use x=\"63.623047\" xlink:href=\"#DejaVuSans-48\"/>\r\n       <use x=\"127.246094\" xlink:href=\"#DejaVuSans-48\"/>\r\n      </g>\r\n     </g>\r\n    </g>\r\n    <g id=\"ytick_8\">\r\n     <g id=\"line2d_15\">\r\n      <g>\r\n       <use style=\"stroke:#000000;stroke-width:0.8;\" x=\"33.2875\" xlink:href=\"#mbbf9924841\" y=\"222.399219\"/>\r\n      </g>\r\n     </g>\r\n     <g id=\"text_15\">\r\n      <!-- 350 -->\r\n      <g transform=\"translate(7.2 226.198437)scale(0.1 -0.1)\">\r\n       <use xlink:href=\"#DejaVuSans-51\"/>\r\n       <use x=\"63.623047\" xlink:href=\"#DejaVuSans-53\"/>\r\n       <use x=\"127.246094\" xlink:href=\"#DejaVuSans-48\"/>\r\n      </g>\r\n     </g>\r\n    </g>\r\n   </g>\r\n   <g id=\"patch_3\">\r\n    <path d=\"M 33.2875 228.137219 \r\nL 33.2875 10.697219 \r\n\" style=\"fill:none;stroke:#000000;stroke-linecap:square;stroke-linejoin:miter;stroke-width:0.8;\"/>\r\n   </g>\r\n   <g id=\"patch_4\">\r\n    <path d=\"M 244.6875 228.137219 \r\nL 244.6875 10.697219 \r\n\" style=\"fill:none;stroke:#000000;stroke-linecap:square;stroke-linejoin:miter;stroke-width:0.8;\"/>\r\n   </g>\r\n   <g id=\"patch_5\">\r\n    <path d=\"M 33.2875 228.137219 \r\nL 244.6875 228.137219 \r\n\" style=\"fill:none;stroke:#000000;stroke-linecap:square;stroke-linejoin:miter;stroke-width:0.8;\"/>\r\n   </g>\r\n   <g id=\"patch_6\">\r\n    <path d=\"M 33.2875 10.697219 \r\nL 244.6875 10.697219 \r\n\" style=\"fill:none;stroke:#000000;stroke-linecap:square;stroke-linejoin:miter;stroke-width:0.8;\"/>\r\n   </g>\r\n  </g>\r\n </g>\r\n <defs>\r\n  <clipPath id=\"p72ea081127\">\r\n   <rect height=\"217.44\" width=\"211.4\" x=\"33.2875\" y=\"10.697219\"/>\r\n  </clipPath>\r\n </defs>\r\n</svg>\r\n",
      "image/png": "[encoded data removed]"
     },
     "metadata": {
      "needs_background": "light"
     }
    }
   ],
   "source": [
    "t_image[50,50] = (0, 0, 0)\n",
    "plt.imshow(cv2.cvtColor(t_image, cv2.COLOR_BGR2RGB))"
   ]
  },
  {
   "cell_type": "code",
   "execution_count": 41,
   "metadata": {},
   "outputs": [
    {
     "output_type": "execute_result",
     "data": {
      "text/plain": [
       "<matplotlib.image.AxesImage at 0x2215b0e5908>"
      ]
     },
     "metadata": {},
     "execution_count": 41
    },
    {
     "output_type": "display_data",
     "data": {
      "text/plain": "<Figure size 432x288 with 1 Axes>",
      "image/svg+xml": "<?xml version=\"1.0\" encoding=\"utf-8\" standalone=\"no\"?>\r\n<!DOCTYPE svg PUBLIC \"-//W3C//DTD SVG 1.1//EN\"\r\n  \"http://www.w3.org/Graphics/SVG/1.1/DTD/svg11.dtd\">\r\n<!-- Created with matplotlib (https://matplotlib.org/) -->\r\n<svg height=\"252.015344pt\" version=\"1.1\" viewBox=\"0 0 251.8875 252.015344\" width=\"251.8875pt\" xmlns=\"http://www.w3.org/2000/svg\" xmlns:xlink=\"http://www.w3.org/1999/xlink\">\r\n <defs>\r\n  <style type=\"text/css\">\r\n*{stroke-linecap:butt;stroke-linejoin:round;}\r\n  </style>\r\n </defs>\r\n <g id=\"figure_1\">\r\n  <g id=\"patch_1\">\r\n   <path d=\"M 0 252.015344 \r\nL 251.8875 252.015344 \r\nL 251.8875 0 \r\nL 0 0 \r\nz\r\n\" style=\"fill:none;\"/>\r\n  </g>\r\n  <g id=\"axes_1\">\r\n   <g id=\"patch_2\">\r\n    <path d=\"M 33.2875 228.137219 \r\nL 244.6875 228.137219 \r\nL 244.6875 10.697219 \r\nL 33.2875 10.697219 \r\nz\r\n\" style=\"fill:#ffffff;\"/>\r\n   </g>\r\n   <g clip-path=\"url(#p5021da4f33)\">\r\n    <image height=\"218\" id=\"imagee56175b51d\" transform=\"scale(1 -1)translate(0 -218)\" width=\"212\" x=\"33.2875\" xlink:href=\"data:image/png;base64,\r\niVBORw0KGgoAAAANSUhEUgAAANQAAADaCAYAAADe1GxoAAAABHNCSVQICAgIfAhkiAAAAo1JREFUeJzt1TENgFAUBMEHNKjDvxuwQLHJD2RGwTWb22bmHiCxrx4AfyIoCAkKQoKCkKAgJCgICQpCgoKQoCAkKAgJCkKCgpCgICQoCAkKQoKCkKAgJCgICQpCgoKQoCAkKAgJCkKCgpCgICQoCAkKQoKCkKAgJCgICQpCgoKQoCAkKAgJCkKCgpCgICQoCAkKQoKCkKAgJCgICQpCgoKQoCAkKAgJCkKCgpCgICQoCAkKQoKCkKAgJCgICQpCgoKQoCAkKAgJCkKCgpCgICQoCAkKQoKCkKAgJCgICQpCgoKQoCAkKAgJCkKCgpCgICQoCAkKQoKCkKAgJCgICQpCgoKQoCAkKAgJCkKCgpCgICQoCAkKQoKCkKAgJCgICQpCgoKQoCAkKAgJCkKCgpCgICQoCAkKQoKCkKAgJCgICQpCgoKQoCAkKAgJCkKCgpCgICQoCAkKQoKCkKAgJCgICQpCgoKQoCAkKAgJCkKCgpCgICQoCAkKQoKCkKAgJCgICQpCgoKQoCAkKAgJCkKCgpCgICQoCAkKQoKCkKA+4Vg9gJcE9QnXzJyrR/DCNjP36hHwFx4KQoKCkKAgJCgICQpCgoKQoCAkKAgJCkKCgpCgICQoCAkKQoKCkKAgJCgICQpCgoKQoCAkKAgJCkKCgpCgICQoCAkKQoKCkKAgJCgICQpCgoKQoCAkKAgJCkKCgpCgICQoCAkKQoKCkKAgJCgICQpCgoKQoCAkKAgJCkKCgpCgICQoCAkKQoKCkKAgJCgICQpCgoKQoCAkKAgJCkKCgpCgICQoCAkKQoKCkKAgJCgICQpCgoKQoCAkKAgJCkKCgpCgICQoCAkKQoKCkKAgJCgICQpCgoLQA6SIBAr13KndAAAAAElFTkSuQmCC\" y=\"-10.137219\"/>\r\n   </g>\r\n   <g id=\"matplotlib.axis_1\">\r\n    <g id=\"xtick_1\">\r\n     <g id=\"line2d_1\">\r\n      <defs>\r\n       <path d=\"M 0 0 \r\nL 0 3.5 \r\n\" id=\"m6263ff9a88\" style=\"stroke:#000000;stroke-width:0.8;\"/>\r\n      </defs>\r\n      <g>\r\n       <use style=\"stroke:#000000;stroke-width:0.8;\" x=\"33.5895\" xlink:href=\"#m6263ff9a88\" y=\"228.137219\"/>\r\n      </g>\r\n     </g>\r\n     <g id=\"text_1\">\r\n      <!-- 0 -->\r\n      <defs>\r\n       <path d=\"M 31.78125 66.40625 \r\nQ 24.171875 66.40625 20.328125 58.90625 \r\nQ 16.5 51.421875 16.5 36.375 \r\nQ 16.5 21.390625 20.328125 13.890625 \r\nQ 24.171875 6.390625 31.78125 6.390625 \r\nQ 39.453125 6.390625 43.28125 13.890625 \r\nQ 47.125 21.390625 47.125 36.375 \r\nQ 47.125 51.421875 43.28125 58.90625 \r\nQ 39.453125 66.40625 31.78125 66.40625 \r\nz\r\nM 31.78125 74.21875 \r\nQ 44.046875 74.21875 50.515625 64.515625 \r\nQ 56.984375 54.828125 56.984375 36.375 \r\nQ 56.984375 17.96875 50.515625 8.265625 \r\nQ 44.046875 -1.421875 31.78125 -1.421875 \r\nQ 19.53125 -1.421875 13.0625 8.265625 \r\nQ 6.59375 17.96875 6.59375 36.375 \r\nQ 6.59375 54.828125 13.0625 64.515625 \r\nQ 19.53125 74.21875 31.78125 74.21875 \r\nz\r\n\" id=\"DejaVuSans-48\"/>\r\n      </defs>\r\n      <g transform=\"translate(30.40825 242.735656)scale(0.1 -0.1)\">\r\n       <use xlink:href=\"#DejaVuSans-48\"/>\r\n      </g>\r\n     </g>\r\n    </g>\r\n    <g id=\"xtick_2\">\r\n     <g id=\"line2d_2\">\r\n      <g>\r\n       <use style=\"stroke:#000000;stroke-width:0.8;\" x=\"63.7895\" xlink:href=\"#m6263ff9a88\" y=\"228.137219\"/>\r\n      </g>\r\n     </g>\r\n     <g id=\"text_2\">\r\n      <!-- 50 -->\r\n      <defs>\r\n       <path d=\"M 10.796875 72.90625 \r\nL 49.515625 72.90625 \r\nL 49.515625 64.59375 \r\nL 19.828125 64.59375 \r\nL 19.828125 46.734375 \r\nQ 21.96875 47.46875 24.109375 47.828125 \r\nQ 26.265625 48.1875 28.421875 48.1875 \r\nQ 40.625 48.1875 47.75 41.5 \r\nQ 54.890625 34.8125 54.890625 23.390625 \r\nQ 54.890625 11.625 47.5625 5.09375 \r\nQ 40.234375 -1.421875 26.90625 -1.421875 \r\nQ 22.3125 -1.421875 17.546875 -0.640625 \r\nQ 12.796875 0.140625 7.71875 1.703125 \r\nL 7.71875 11.625 \r\nQ 12.109375 9.234375 16.796875 8.0625 \r\nQ 21.484375 6.890625 26.703125 6.890625 \r\nQ 35.15625 6.890625 40.078125 11.328125 \r\nQ 45.015625 15.765625 45.015625 23.390625 \r\nQ 45.015625 31 40.078125 35.4375 \r\nQ 35.15625 39.890625 26.703125 39.890625 \r\nQ 22.75 39.890625 18.8125 39.015625 \r\nQ 14.890625 38.140625 10.796875 36.28125 \r\nz\r\n\" id=\"DejaVuSans-53\"/>\r\n      </defs>\r\n      <g transform=\"translate(57.427 242.735656)scale(0.1 -0.1)\">\r\n       <use xlink:href=\"#DejaVuSans-53\"/>\r\n       <use x=\"63.623047\" xlink:href=\"#DejaVuSans-48\"/>\r\n      </g>\r\n     </g>\r\n    </g>\r\n    <g id=\"xtick_3\">\r\n     <g id=\"line2d_3\">\r\n      <g>\r\n       <use style=\"stroke:#000000;stroke-width:0.8;\" x=\"93.9895\" xlink:href=\"#m6263ff9a88\" y=\"228.137219\"/>\r\n      </g>\r\n     </g>\r\n     <g id=\"text_3\">\r\n      <!-- 100 -->\r\n      <defs>\r\n       <path d=\"M 12.40625 8.296875 \r\nL 28.515625 8.296875 \r\nL 28.515625 63.921875 \r\nL 10.984375 60.40625 \r\nL 10.984375 69.390625 \r\nL 28.421875 72.90625 \r\nL 38.28125 72.90625 \r\nL 38.28125 8.296875 \r\nL 54.390625 8.296875 \r\nL 54.390625 0 \r\nL 12.40625 0 \r\nz\r\n\" id=\"DejaVuSans-49\"/>\r\n      </defs>\r\n      <g transform=\"translate(84.44575 242.735656)scale(0.1 -0.1)\">\r\n       <use xlink:href=\"#DejaVuSans-49\"/>\r\n       <use x=\"63.623047\" xlink:href=\"#DejaVuSans-48\"/>\r\n       <use x=\"127.246094\" xlink:href=\"#DejaVuSans-48\"/>\r\n      </g>\r\n     </g>\r\n    </g>\r\n    <g id=\"xtick_4\">\r\n     <g id=\"line2d_4\">\r\n      <g>\r\n       <use style=\"stroke:#000000;stroke-width:0.8;\" x=\"124.1895\" xlink:href=\"#m6263ff9a88\" y=\"228.137219\"/>\r\n      </g>\r\n     </g>\r\n     <g id=\"text_4\">\r\n      <!-- 150 -->\r\n      <g transform=\"translate(114.64575 242.735656)scale(0.1 -0.1)\">\r\n       <use xlink:href=\"#DejaVuSans-49\"/>\r\n       <use x=\"63.623047\" xlink:href=\"#DejaVuSans-53\"/>\r\n       <use x=\"127.246094\" xlink:href=\"#DejaVuSans-48\"/>\r\n      </g>\r\n     </g>\r\n    </g>\r\n    <g id=\"xtick_5\">\r\n     <g id=\"line2d_5\">\r\n      <g>\r\n       <use style=\"stroke:#000000;stroke-width:0.8;\" x=\"154.3895\" xlink:href=\"#m6263ff9a88\" y=\"228.137219\"/>\r\n      </g>\r\n     </g>\r\n     <g id=\"text_5\">\r\n      <!-- 200 -->\r\n      <defs>\r\n       <path d=\"M 19.1875 8.296875 \r\nL 53.609375 8.296875 \r\nL 53.609375 0 \r\nL 7.328125 0 \r\nL 7.328125 8.296875 \r\nQ 12.9375 14.109375 22.625 23.890625 \r\nQ 32.328125 33.6875 34.8125 36.53125 \r\nQ 39.546875 41.84375 41.421875 45.53125 \r\nQ 43.3125 49.21875 43.3125 52.78125 \r\nQ 43.3125 58.59375 39.234375 62.25 \r\nQ 35.15625 65.921875 28.609375 65.921875 \r\nQ 23.96875 65.921875 18.8125 64.3125 \r\nQ 13.671875 62.703125 7.8125 59.421875 \r\nL 7.8125 69.390625 \r\nQ 13.765625 71.78125 18.9375 73 \r\nQ 24.125 74.21875 28.421875 74.21875 \r\nQ 39.75 74.21875 46.484375 68.546875 \r\nQ 53.21875 62.890625 53.21875 53.421875 \r\nQ 53.21875 48.921875 51.53125 44.890625 \r\nQ 49.859375 40.875 45.40625 35.40625 \r\nQ 44.1875 33.984375 37.640625 27.21875 \r\nQ 31.109375 20.453125 19.1875 8.296875 \r\nz\r\n\" id=\"DejaVuSans-50\"/>\r\n      </defs>\r\n      <g transform=\"translate(144.84575 242.735656)scale(0.1 -0.1)\">\r\n       <use xlink:href=\"#DejaVuSans-50\"/>\r\n       <use x=\"63.623047\" xlink:href=\"#DejaVuSans-48\"/>\r\n       <use x=\"127.246094\" xlink:href=\"#DejaVuSans-48\"/>\r\n      </g>\r\n     </g>\r\n    </g>\r\n    <g id=\"xtick_6\">\r\n     <g id=\"line2d_6\">\r\n      <g>\r\n       <use style=\"stroke:#000000;stroke-width:0.8;\" x=\"184.5895\" xlink:href=\"#m6263ff9a88\" y=\"228.137219\"/>\r\n      </g>\r\n     </g>\r\n     <g id=\"text_6\">\r\n      <!-- 250 -->\r\n      <g transform=\"translate(175.04575 242.735656)scale(0.1 -0.1)\">\r\n       <use xlink:href=\"#DejaVuSans-50\"/>\r\n       <use x=\"63.623047\" xlink:href=\"#DejaVuSans-53\"/>\r\n       <use x=\"127.246094\" xlink:href=\"#DejaVuSans-48\"/>\r\n      </g>\r\n     </g>\r\n    </g>\r\n    <g id=\"xtick_7\">\r\n     <g id=\"line2d_7\">\r\n      <g>\r\n       <use style=\"stroke:#000000;stroke-width:0.8;\" x=\"214.7895\" xlink:href=\"#m6263ff9a88\" y=\"228.137219\"/>\r\n      </g>\r\n     </g>\r\n     <g id=\"text_7\">\r\n      <!-- 300 -->\r\n      <defs>\r\n       <path d=\"M 40.578125 39.3125 \r\nQ 47.65625 37.796875 51.625 33 \r\nQ 55.609375 28.21875 55.609375 21.1875 \r\nQ 55.609375 10.40625 48.1875 4.484375 \r\nQ 40.765625 -1.421875 27.09375 -1.421875 \r\nQ 22.515625 -1.421875 17.65625 -0.515625 \r\nQ 12.796875 0.390625 7.625 2.203125 \r\nL 7.625 11.71875 \r\nQ 11.71875 9.328125 16.59375 8.109375 \r\nQ 21.484375 6.890625 26.8125 6.890625 \r\nQ 36.078125 6.890625 40.9375 10.546875 \r\nQ 45.796875 14.203125 45.796875 21.1875 \r\nQ 45.796875 27.640625 41.28125 31.265625 \r\nQ 36.765625 34.90625 28.71875 34.90625 \r\nL 20.21875 34.90625 \r\nL 20.21875 43.015625 \r\nL 29.109375 43.015625 \r\nQ 36.375 43.015625 40.234375 45.921875 \r\nQ 44.09375 48.828125 44.09375 54.296875 \r\nQ 44.09375 59.90625 40.109375 62.90625 \r\nQ 36.140625 65.921875 28.71875 65.921875 \r\nQ 24.65625 65.921875 20.015625 65.03125 \r\nQ 15.375 64.15625 9.8125 62.3125 \r\nL 9.8125 71.09375 \r\nQ 15.4375 72.65625 20.34375 73.4375 \r\nQ 25.25 74.21875 29.59375 74.21875 \r\nQ 40.828125 74.21875 47.359375 69.109375 \r\nQ 53.90625 64.015625 53.90625 55.328125 \r\nQ 53.90625 49.265625 50.4375 45.09375 \r\nQ 46.96875 40.921875 40.578125 39.3125 \r\nz\r\n\" id=\"DejaVuSans-51\"/>\r\n      </defs>\r\n      <g transform=\"translate(205.24575 242.735656)scale(0.1 -0.1)\">\r\n       <use xlink:href=\"#DejaVuSans-51\"/>\r\n       <use x=\"63.623047\" xlink:href=\"#DejaVuSans-48\"/>\r\n       <use x=\"127.246094\" xlink:href=\"#DejaVuSans-48\"/>\r\n      </g>\r\n     </g>\r\n    </g>\r\n   </g>\r\n   <g id=\"matplotlib.axis_2\">\r\n    <g id=\"ytick_1\">\r\n     <g id=\"line2d_8\">\r\n      <defs>\r\n       <path d=\"M 0 0 \r\nL -3.5 0 \r\n\" id=\"mb263e4766a\" style=\"stroke:#000000;stroke-width:0.8;\"/>\r\n      </defs>\r\n      <g>\r\n       <use style=\"stroke:#000000;stroke-width:0.8;\" x=\"33.2875\" xlink:href=\"#mb263e4766a\" y=\"10.999219\"/>\r\n      </g>\r\n     </g>\r\n     <g id=\"text_8\">\r\n      <!-- 0 -->\r\n      <g transform=\"translate(19.925 14.798437)scale(0.1 -0.1)\">\r\n       <use xlink:href=\"#DejaVuSans-48\"/>\r\n      </g>\r\n     </g>\r\n    </g>\r\n    <g id=\"ytick_2\">\r\n     <g id=\"line2d_9\">\r\n      <g>\r\n       <use style=\"stroke:#000000;stroke-width:0.8;\" x=\"33.2875\" xlink:href=\"#mb263e4766a\" y=\"41.199219\"/>\r\n      </g>\r\n     </g>\r\n     <g id=\"text_9\">\r\n      <!-- 50 -->\r\n      <g transform=\"translate(13.5625 44.998437)scale(0.1 -0.1)\">\r\n       <use xlink:href=\"#DejaVuSans-53\"/>\r\n       <use x=\"63.623047\" xlink:href=\"#DejaVuSans-48\"/>\r\n      </g>\r\n     </g>\r\n    </g>\r\n    <g id=\"ytick_3\">\r\n     <g id=\"line2d_10\">\r\n      <g>\r\n       <use style=\"stroke:#000000;stroke-width:0.8;\" x=\"33.2875\" xlink:href=\"#mb263e4766a\" y=\"71.399219\"/>\r\n      </g>\r\n     </g>\r\n     <g id=\"text_10\">\r\n      <!-- 100 -->\r\n      <g transform=\"translate(7.2 75.198437)scale(0.1 -0.1)\">\r\n       <use xlink:href=\"#DejaVuSans-49\"/>\r\n       <use x=\"63.623047\" xlink:href=\"#DejaVuSans-48\"/>\r\n       <use x=\"127.246094\" xlink:href=\"#DejaVuSans-48\"/>\r\n      </g>\r\n     </g>\r\n    </g>\r\n    <g id=\"ytick_4\">\r\n     <g id=\"line2d_11\">\r\n      <g>\r\n       <use style=\"stroke:#000000;stroke-width:0.8;\" x=\"33.2875\" xlink:href=\"#mb263e4766a\" y=\"101.599219\"/>\r\n      </g>\r\n     </g>\r\n     <g id=\"text_11\">\r\n      <!-- 150 -->\r\n      <g transform=\"translate(7.2 105.398437)scale(0.1 -0.1)\">\r\n       <use xlink:href=\"#DejaVuSans-49\"/>\r\n       <use x=\"63.623047\" xlink:href=\"#DejaVuSans-53\"/>\r\n       <use x=\"127.246094\" xlink:href=\"#DejaVuSans-48\"/>\r\n      </g>\r\n     </g>\r\n    </g>\r\n    <g id=\"ytick_5\">\r\n     <g id=\"line2d_12\">\r\n      <g>\r\n       <use style=\"stroke:#000000;stroke-width:0.8;\" x=\"33.2875\" xlink:href=\"#mb263e4766a\" y=\"131.799219\"/>\r\n      </g>\r\n     </g>\r\n     <g id=\"text_12\">\r\n      <!-- 200 -->\r\n      <g transform=\"translate(7.2 135.598437)scale(0.1 -0.1)\">\r\n       <use xlink:href=\"#DejaVuSans-50\"/>\r\n       <use x=\"63.623047\" xlink:href=\"#DejaVuSans-48\"/>\r\n       <use x=\"127.246094\" xlink:href=\"#DejaVuSans-48\"/>\r\n      </g>\r\n     </g>\r\n    </g>\r\n    <g id=\"ytick_6\">\r\n     <g id=\"line2d_13\">\r\n      <g>\r\n       <use style=\"stroke:#000000;stroke-width:0.8;\" x=\"33.2875\" xlink:href=\"#mb263e4766a\" y=\"161.999219\"/>\r\n      </g>\r\n     </g>\r\n     <g id=\"text_13\">\r\n      <!-- 250 -->\r\n      <g transform=\"translate(7.2 165.798437)scale(0.1 -0.1)\">\r\n       <use xlink:href=\"#DejaVuSans-50\"/>\r\n       <use x=\"63.623047\" xlink:href=\"#DejaVuSans-53\"/>\r\n       <use x=\"127.246094\" xlink:href=\"#DejaVuSans-48\"/>\r\n      </g>\r\n     </g>\r\n    </g>\r\n    <g id=\"ytick_7\">\r\n     <g id=\"line2d_14\">\r\n      <g>\r\n       <use style=\"stroke:#000000;stroke-width:0.8;\" x=\"33.2875\" xlink:href=\"#mb263e4766a\" y=\"192.199219\"/>\r\n      </g>\r\n     </g>\r\n     <g id=\"text_14\">\r\n      <!-- 300 -->\r\n      <g transform=\"translate(7.2 195.998437)scale(0.1 -0.1)\">\r\n       <use xlink:href=\"#DejaVuSans-51\"/>\r\n       <use x=\"63.623047\" xlink:href=\"#DejaVuSans-48\"/>\r\n       <use x=\"127.246094\" xlink:href=\"#DejaVuSans-48\"/>\r\n      </g>\r\n     </g>\r\n    </g>\r\n    <g id=\"ytick_8\">\r\n     <g id=\"line2d_15\">\r\n      <g>\r\n       <use style=\"stroke:#000000;stroke-width:0.8;\" x=\"33.2875\" xlink:href=\"#mb263e4766a\" y=\"222.399219\"/>\r\n      </g>\r\n     </g>\r\n     <g id=\"text_15\">\r\n      <!-- 350 -->\r\n      <g transform=\"translate(7.2 226.198437)scale(0.1 -0.1)\">\r\n       <use xlink:href=\"#DejaVuSans-51\"/>\r\n       <use x=\"63.623047\" xlink:href=\"#DejaVuSans-53\"/>\r\n       <use x=\"127.246094\" xlink:href=\"#DejaVuSans-48\"/>\r\n      </g>\r\n     </g>\r\n    </g>\r\n   </g>\r\n   <g id=\"patch_3\">\r\n    <path d=\"M 33.2875 228.137219 \r\nL 33.2875 10.697219 \r\n\" style=\"fill:none;stroke:#000000;stroke-linecap:square;stroke-linejoin:miter;stroke-width:0.8;\"/>\r\n   </g>\r\n   <g id=\"patch_4\">\r\n    <path d=\"M 244.6875 228.137219 \r\nL 244.6875 10.697219 \r\n\" style=\"fill:none;stroke:#000000;stroke-linecap:square;stroke-linejoin:miter;stroke-width:0.8;\"/>\r\n   </g>\r\n   <g id=\"patch_5\">\r\n    <path d=\"M 33.2875 228.137219 \r\nL 244.6875 228.137219 \r\n\" style=\"fill:none;stroke:#000000;stroke-linecap:square;stroke-linejoin:miter;stroke-width:0.8;\"/>\r\n   </g>\r\n   <g id=\"patch_6\">\r\n    <path d=\"M 33.2875 10.697219 \r\nL 244.6875 10.697219 \r\n\" style=\"fill:none;stroke:#000000;stroke-linecap:square;stroke-linejoin:miter;stroke-width:0.8;\"/>\r\n   </g>\r\n  </g>\r\n </g>\r\n <defs>\r\n  <clipPath id=\"p5021da4f33\">\r\n   <rect height=\"217.44\" width=\"211.4\" x=\"33.2875\" y=\"10.697219\"/>\r\n  </clipPath>\r\n </defs>\r\n</svg>\r\n",
      "image/png": "[encoded data removed]"
     },
     "metadata": {
      "needs_background": "light"
     }
    }
   ],
   "source": [
    "# Initialize empty list\n",
    "lst_intensities = []\n",
    "\n",
    "# For each list of contour points...\n",
    "for i in range(len(cntr)):\n",
    "    # Create a mask image that contains the contour filled in\n",
    "    cimg = np.zeros_like(image)\n",
    "    cv2.drawContours(cimg, cntr, i, color=255, thickness=-1)\n",
    "\n",
    "    # Access the image pixels and create a 1D numpy array then add to list\n",
    "    pts = np.where(cimg == 255)\n",
    "    lst_intensities.append(image[pts[0], pts[1]])\n"
   ]
  },
  {
   "cell_type": "code",
   "execution_count": null,
   "metadata": {},
   "outputs": [],
   "source": [
    "def load_image_return_array(filepath):\n",
    "    from PIL import Image\n",
    "    from numpy import asarray \n",
    "    \n",
    "    # load the image as Pillow object\n",
    "    img = Image.open(filepath)\n",
    "\n",
    "    # summarize image details\n",
    "    print(\"image details:\\n\")\n",
    "    print(img.format)\n",
    "    print(img.mode)\n",
    "    print(img.size)\n",
    "\n",
    "    # convert to numpy array\n",
    "    img_data = asarray(img)\n",
    "    return(img_data)\n",
    "\n",
    "\n",
    "\n",
    "\n",
    "\n"
   ]
  },
  {
   "cell_type": "code",
   "execution_count": 16,
   "metadata": {},
   "outputs": [
    {
     "output_type": "stream",
     "name": "stdout",
     "text": [
      "image details:\n\nPNG\nRGB\n(350, 360)\n[[[  0 162 232]\n  [  0 162 232]\n  [  0 162 232]\n  ...\n  [  0 162 232]\n  [  0 162 232]\n  [  0 162 232]]\n\n [[  0 162 232]\n  [  0 162 232]\n  [  0 162 232]\n  ...\n  [  0 162 232]\n  [  0 162 232]\n  [  0 162 232]]\n\n [[  0 162 232]\n  [  0 162 232]\n  [  0 162 232]\n  ...\n  [  0 162 232]\n  [  0 162 232]\n  [  0 162 232]]\n\n ...\n\n [[  0 162 232]\n  [  0 162 232]\n  [  0 162 232]\n  ...\n  [  0 162 232]\n  [  0 162 232]\n  [  0 162 232]]\n\n [[  0 162 232]\n  [  0 162 232]\n  [  0 162 232]\n  ...\n  [  0 162 232]\n  [  0 162 232]\n  [  0 162 232]]\n\n [[  0 162 232]\n  [  0 162 232]\n  [  0 162 232]\n  ...\n  [  0 162 232]\n  [  0 162 232]\n  [  0 162 232]]]\n"
     ]
    }
   ],
   "source": [
    "from  fill_hole_funcs import img_holes\n",
    "filepath = \"test_hole.png\"\n",
    "imgData = img_holes(filepath).load_image_return_array()\n",
    "print(imgData)"
   ]
  },
  {
   "cell_type": "code",
   "execution_count": null,
   "metadata": {},
   "outputs": [],
   "source": []
  }
 ]
}