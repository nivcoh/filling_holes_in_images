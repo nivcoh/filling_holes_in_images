{
 "cells": [
  {
   "cell_type": "code",
   "execution_count": 1,
   "metadata": {},
   "outputs": [],
   "source": [
    "from PIL import Image\n",
    "import matplotlib.pyplot as plt\n",
    "import matplotlib.image as mpimg\n",
    "from numpy import asarray "
   ]
  },
  {
   "cell_type": "code",
   "execution_count": null,
   "metadata": {},
   "outputs": [],
   "source": [
    "# load the image as pixel array\n",
    "filepath = \"test_hole.png\"\n",
    "img = Image.open(filepath)\n",
    "\n",
    "\n",
    "# summarize image details\n",
    "print(img.format)\n",
    "print(img.mode)\n",
    "print(img.size)\n",
    "asarray(img)"
   ]
  },
  {
   "cell_type": "code",
   "execution_count": 10,
   "metadata": {},
   "outputs": [
    {
     "data": {
      "text/plain": [
       "[1, 2]"
      ]
     },
     "execution_count": 10,
     "metadata": {},
     "output_type": "execute_result"
    }
   ],
   "source": [
    "list1 = [1, 2, 4]\n",
    "list2 = [4, 5, 6]\n",
    "\n",
    "\n",
    "dd = [i for i, item in enumerate(list1) if item not in set(list2)]\n",
    "c = [list1[i] for i in dd]\n",
    "c"
   ]
  },
  {
   "cell_type": "code",
   "execution_count": null,
   "metadata": {},
   "outputs": [],
   "source": []
  },
  {
   "cell_type": "code",
   "execution_count": null,
   "metadata": {},
   "outputs": [],
   "source": [
    "import cv2 # Import the OpenCV library\n",
    "import numpy as np\n",
    "\n",
    "filepath = \"test_hole.png\"\n",
    "image = cv2.imread(filepath)\n",
    "image_mark = image.copy()\n",
    "# define range of white color in HSV\n",
    "lower_white = np.array([0,0,255])\n",
    "upper_white = np.array([255,255,255])\n",
    "\n",
    "# Create the mask\n",
    "mask = cv2.inRange(image_mark, lower_white, upper_white)\n",
    "\n",
    "# Create the inverted mask\n",
    "mask_inv = cv2.bitwise_not(mask)\n",
    "\n",
    "# Convert to grayscale image\n",
    "gray = cv2.cvtColor(image, cv2.COLOR_BGR2GRAY)\n",
    "\n",
    "# Extract the dimensions of the original image\n",
    "rows, cols, channels = image.shape\n",
    "image = image[0:rows, 0:cols]\n",
    "\n",
    "# Bitwise-OR mask and original image\n",
    "colored_portion = cv2.bitwise_or(image, image, mask = mask)\n",
    "colored_portion = colored_portion[0:rows, 0:cols]\n",
    "\n",
    "# Bitwise-OR inverse mask and grayscale image\n",
    "gray_portion = cv2.bitwise_or(gray, gray, mask = mask_inv)\n",
    "gray_portion = np.stack((gray_portion,)*3, axis=-1)\n",
    "\n",
    "# Combine the two images\n",
    "output = colored_portion + gray_portion\n",
    "\n",
    "# Save the image\n",
    "OUTPUT_IMAGE = \"test_hole_mask.jpg\"\n",
    "cv2.imwrite(OUTPUT_IMAGE, output)"
   ]
  },
  {
   "cell_type": "code",
   "execution_count": 26,
   "metadata": {},
   "outputs": [
    {
     "data": {
      "text/plain": [
       "('test_hole_mask', '.jpg')"
      ]
     },
     "execution_count": 26,
     "metadata": {},
     "output_type": "execute_result"
    }
   ],
   "source": [
    "OUTPUT_IMAGE = \"test_hole_mask.jpg\"\n",
    "os.path.splitext(OUTPUT_IMAGE)"
   ]
  },
  {
   "cell_type": "code",
   "execution_count": 28,
   "metadata": {},
   "outputs": [
    {
     "name": "stdout",
     "output_type": "stream",
     "text": [
      "['blue_blob_contour', 'blue_blob_thresh', 'Exercise_-_ML_Engineer_-_Hole_Filling', 'fill_hole_funcs', 'testim', 'testim2', 'test_hole', 'test_hole_mask', '__pycache__']\n"
     ]
    }
   ],
   "source": [
    "l=os.listdir(os.getcwd())\n",
    "li=[x.split('.')[0] for x in l]\n",
    "print(li)"
   ]
  },
  {
   "cell_type": "code",
   "execution_count": 29,
   "metadata": {},
   "outputs": [
    {
     "data": {
      "text/plain": [
       "['blue_blob_contour.png',\n",
       " 'blue_blob_thresh.png',\n",
       " 'Exercise_-_ML_Engineer_-_Hole_Filling.pdf',\n",
       " 'fill_hole_funcs.py',\n",
       " 'testim.ipynb',\n",
       " 'testim2.ipynb',\n",
       " 'test_hole.png',\n",
       " 'test_hole_mask.jpg',\n",
       " '__pycache__']"
      ]
     },
     "execution_count": 29,
     "metadata": {},
     "output_type": "execute_result"
    }
   ],
   "source": [
    "l"
   ]
  },
  {
   "cell_type": "code",
   "execution_count": 54,
   "metadata": {},
   "outputs": [],
   "source": [
    "def list_files( path=os.getcwd()):\n",
    "    \"\"\"\n",
    "    get a path and list all the git/png/jpg files\n",
    "    input: \n",
    "    path - full path to directory (default is current directory)\n",
    "    output:\n",
    "    files_list - list of all the relevant files with their full paths\n",
    "    fileNames_list - list of all the file names without extensions\n",
    "    \"\"\"\n",
    "    from glob import glob\n",
    "    import os\n",
    "\n",
    "    # test if the path input is a file or directory\n",
    "    if os.path.isdir(path) == True:\n",
    "        files_list = glob(path +'/*.gif')\n",
    "        files_list.extend(glob(path +'/*.png'))\n",
    "        files_list.extend(glob(path +'/*.jpg'))\n",
    "        fileNames_list=[os.path.basename(x).split('.')[0] for x in files_list]\n",
    "        return(files_list, fileNames_list)\n",
    "\n",
    "    elif os.path.isfile(path) == True:\n",
    "        filename = os.path.basename(path)\n",
    "        return(path, filename)\n",
    "\n",
    "    else:\n",
    "        raise Exception(\"File or path were not provided corectly!\")"
   ]
  },
  {
   "cell_type": "code",
   "execution_count": 55,
   "metadata": {},
   "outputs": [
    {
     "data": {
      "text/plain": [
       "('c:\\\\gitHub\\\\Learning_and_Training\\\\filling_holes_in_images\\\\blue_blob_contour.png',\n",
       " 'blue_blob_contour.png')"
      ]
     },
     "execution_count": 55,
     "metadata": {},
     "output_type": "execute_result"
    }
   ],
   "source": [
    "list_files('c:\\\\gitHub\\\\Learning_and_Training\\\\filling_holes_in_images\\\\blue_blob_contour.png')"
   ]
  },
  {
   "cell_type": "code",
   "execution_count": 57,
   "metadata": {},
   "outputs": [
    {
     "data": {
      "text/plain": [
       "(['c:\\\\gitHub\\\\Learning_and_Training\\\\filling_holes_in_images\\\\blue_blob_contour.png',\n",
       "  'c:\\\\gitHub\\\\Learning_and_Training\\\\filling_holes_in_images\\\\blue_blob_thresh.png',\n",
       "  'c:\\\\gitHub\\\\Learning_and_Training\\\\filling_holes_in_images\\\\test_hole.png',\n",
       "  'c:\\\\gitHub\\\\Learning_and_Training\\\\filling_holes_in_images\\\\mask_test_hole.jpg',\n",
       "  'c:\\\\gitHub\\\\Learning_and_Training\\\\filling_holes_in_images\\\\test_hole_mask.jpg'],\n",
       " ['blue_blob_contour',\n",
       "  'blue_blob_thresh',\n",
       "  'test_hole',\n",
       "  'mask_test_hole',\n",
       "  'test_hole_mask'])"
      ]
     },
     "execution_count": 57,
     "metadata": {},
     "output_type": "execute_result"
    }
   ],
   "source": [
    "list_files()\n"
   ]
  },
  {
   "cell_type": "code",
   "execution_count": 67,
   "metadata": {},
   "outputs": [],
   "source": [
    "def getMaskFile(org_filepath, maskPath=None):\n",
    "    \"\"\"\n",
    "    load the mask image under the assumption the name of the mask image is the same with additional prefix of \"mask_imgName\"\n",
    "    input:\n",
    "    - maskPath - (optional) - unique path to mask file directory\n",
    "    \"\"\"\n",
    "    import cv2 # Import the OpenCV library\n",
    "\n",
    "    org_path, org_fileName = list_files(path=org_filepath) # get the original image file name \n",
    "    mask_fileName = 'mask_'+ org_fileName.split('.')[0] # remove extension from file name and modify for mask version\n",
    "    \n",
    "    # when maskPath provided:\n",
    "    if maskPath != None: \n",
    "        if os.path.isdir(maskPath) == True:\n",
    "            files_paths, namesList = list_files(path=maskPath) # list files on the mask path \n",
    "            x = namesList.index(mask_fileName)\n",
    "            maskFile = files_paths[x]\n",
    "            mask = cv2.imread(maskFile, 0) # loading as grayscale image\n",
    "            print(\"the file {0} was loaded\".format(maskFile))\n",
    "            return(mask)\n",
    "        elif os.path.isfile(maskPath) == True:\n",
    "            mask = cv2.imread(maskPath, 0) # direct loading as grayscale image\n",
    "            return(mask)\n",
    "        else:\n",
    "            raise Exception(\"Maskpath parameters was not defined corectly\")\n",
    "\n",
    "    # when all masks files are stored together with original images     \n",
    "    else: \n",
    "        files_paths, namesList = list_files(os.path.dirname(org_filepath))\n",
    "        x = namesList.index(mask_fileName)\n",
    "        maskFile = files_paths[x]\n",
    "        mask = cv2.imread(maskFile, 0) # loading as grayscale image\n",
    "        print(\"the file {0} was loaded\".format(maskFile))\n",
    "        return(mask)"
   ]
  },
  {
   "cell_type": "code",
   "execution_count": 68,
   "metadata": {},
   "outputs": [
    {
     "name": "stdout",
     "output_type": "stream",
     "text": [
      "the file c:\\gitHub\\Learning_and_Training\\filling_holes_in_images\\masks\\mask_test_hole.jpg was loaded\n"
     ]
    }
   ],
   "source": [
    "myfile = 'c:\\\\gitHub\\\\Learning_and_Training\\\\filling_holes_in_images\\\\test_hole.png'\n",
    "maskspath = 'c:\\\\gitHub\\\\Learning_and_Training\\\\filling_holes_in_images\\\\masks'\n",
    "mymaskImage = getMaskFile(myfile, maskspath)"
   ]
  },
  {
   "cell_type": "code",
   "execution_count": 69,
   "metadata": {},
   "outputs": [
    {
     "data": {
      "text/plain": [
       "<matplotlib.image.AxesImage at 0x23f5e1e3f08>"
      ]
     },
     "execution_count": 69,
     "metadata": {},
     "output_type": "execute_result"
    },
    {
     "data": {
      "image/png": "[encoded data removed]",
      "image/svg+xml": "<?xml version=\"1.0\" encoding=\"utf-8\" standalone=\"no\"?>\r\n<!DOCTYPE svg PUBLIC \"-//W3C//DTD SVG 1.1//EN\"\r\n  \"http://www.w3.org/Graphics/SVG/1.1/DTD/svg11.dtd\">\r\n<!-- Created with matplotlib (https://matplotlib.org/) -->\r\n<svg height=\"252.015344pt\" version=\"1.1\" viewBox=\"0 0 251.8875 252.015344\" width=\"251.8875pt\" xmlns=\"http://www.w3.org/2000/svg\" xmlns:xlink=\"http://www.w3.org/1999/xlink\">\r\n <defs>\r\n  <style type=\"text/css\">\r\n*{stroke-linecap:butt;stroke-linejoin:round;}\r\n  </style>\r\n </defs>\r\n <g id=\"figure_1\">\r\n  <g id=\"patch_1\">\r\n   <path d=\"M 0 252.015344 \r\nL 251.8875 252.015344 \r\nL 251.8875 0 \r\nL 0 0 \r\nz\r\n\" style=\"fill:none;\"/>\r\n  </g>\r\n  <g id=\"axes_1\">\r\n   <g id=\"patch_2\">\r\n    <path d=\"M 33.2875 228.137219 \r\nL 244.6875 228.137219 \r\nL 244.6875 10.697219 \r\nL 33.2875 10.697219 \r\nz\r\n\" style=\"fill:#ffffff;\"/>\r\n   </g>\r\n   <g clip-path=\"url(#p9dedcbc9db)\">\r\n    <image height=\"218\" id=\"image0fe79decdb\" transform=\"scale(1 -1)translate(0 -218)\" width=\"212\" x=\"33.2875\" xlink:href=\"data:image/png;base64,\r\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\" y=\"-10.137219\"/>\r\n   </g>\r\n   <g id=\"matplotlib.axis_1\">\r\n    <g id=\"xtick_1\">\r\n     <g id=\"line2d_1\">\r\n      <defs>\r\n       <path d=\"M 0 0 \r\nL 0 3.5 \r\n\" id=\"m3fc2b9b91c\" style=\"stroke:#000000;stroke-width:0.8;\"/>\r\n      </defs>\r\n      <g>\r\n       <use style=\"stroke:#000000;stroke-width:0.8;\" x=\"33.5895\" xlink:href=\"#m3fc2b9b91c\" y=\"228.137219\"/>\r\n      </g>\r\n     </g>\r\n     <g id=\"text_1\">\r\n      <!-- 0 -->\r\n      <defs>\r\n       <path d=\"M 31.78125 66.40625 \r\nQ 24.171875 66.40625 20.328125 58.90625 \r\nQ 16.5 51.421875 16.5 36.375 \r\nQ 16.5 21.390625 20.328125 13.890625 \r\nQ 24.171875 6.390625 31.78125 6.390625 \r\nQ 39.453125 6.390625 43.28125 13.890625 \r\nQ 47.125 21.390625 47.125 36.375 \r\nQ 47.125 51.421875 43.28125 58.90625 \r\nQ 39.453125 66.40625 31.78125 66.40625 \r\nz\r\nM 31.78125 74.21875 \r\nQ 44.046875 74.21875 50.515625 64.515625 \r\nQ 56.984375 54.828125 56.984375 36.375 \r\nQ 56.984375 17.96875 50.515625 8.265625 \r\nQ 44.046875 -1.421875 31.78125 -1.421875 \r\nQ 19.53125 -1.421875 13.0625 8.265625 \r\nQ 6.59375 17.96875 6.59375 36.375 \r\nQ 6.59375 54.828125 13.0625 64.515625 \r\nQ 19.53125 74.21875 31.78125 74.21875 \r\nz\r\n\" id=\"DejaVuSans-48\"/>\r\n      </defs>\r\n      <g transform=\"translate(30.40825 242.735656)scale(0.1 -0.1)\">\r\n       <use xlink:href=\"#DejaVuSans-48\"/>\r\n      </g>\r\n     </g>\r\n    </g>\r\n    <g id=\"xtick_2\">\r\n     <g id=\"line2d_2\">\r\n      <g>\r\n       <use style=\"stroke:#000000;stroke-width:0.8;\" x=\"63.7895\" xlink:href=\"#m3fc2b9b91c\" y=\"228.137219\"/>\r\n      </g>\r\n     </g>\r\n     <g id=\"text_2\">\r\n      <!-- 50 -->\r\n      <defs>\r\n       <path d=\"M 10.796875 72.90625 \r\nL 49.515625 72.90625 \r\nL 49.515625 64.59375 \r\nL 19.828125 64.59375 \r\nL 19.828125 46.734375 \r\nQ 21.96875 47.46875 24.109375 47.828125 \r\nQ 26.265625 48.1875 28.421875 48.1875 \r\nQ 40.625 48.1875 47.75 41.5 \r\nQ 54.890625 34.8125 54.890625 23.390625 \r\nQ 54.890625 11.625 47.5625 5.09375 \r\nQ 40.234375 -1.421875 26.90625 -1.421875 \r\nQ 22.3125 -1.421875 17.546875 -0.640625 \r\nQ 12.796875 0.140625 7.71875 1.703125 \r\nL 7.71875 11.625 \r\nQ 12.109375 9.234375 16.796875 8.0625 \r\nQ 21.484375 6.890625 26.703125 6.890625 \r\nQ 35.15625 6.890625 40.078125 11.328125 \r\nQ 45.015625 15.765625 45.015625 23.390625 \r\nQ 45.015625 31 40.078125 35.4375 \r\nQ 35.15625 39.890625 26.703125 39.890625 \r\nQ 22.75 39.890625 18.8125 39.015625 \r\nQ 14.890625 38.140625 10.796875 36.28125 \r\nz\r\n\" id=\"DejaVuSans-53\"/>\r\n      </defs>\r\n      <g transform=\"translate(57.427 242.735656)scale(0.1 -0.1)\">\r\n       <use xlink:href=\"#DejaVuSans-53\"/>\r\n       <use x=\"63.623047\" xlink:href=\"#DejaVuSans-48\"/>\r\n      </g>\r\n     </g>\r\n    </g>\r\n    <g id=\"xtick_3\">\r\n     <g id=\"line2d_3\">\r\n      <g>\r\n       <use style=\"stroke:#000000;stroke-width:0.8;\" x=\"93.9895\" xlink:href=\"#m3fc2b9b91c\" y=\"228.137219\"/>\r\n      </g>\r\n     </g>\r\n     <g id=\"text_3\">\r\n      <!-- 100 -->\r\n      <defs>\r\n       <path d=\"M 12.40625 8.296875 \r\nL 28.515625 8.296875 \r\nL 28.515625 63.921875 \r\nL 10.984375 60.40625 \r\nL 10.984375 69.390625 \r\nL 28.421875 72.90625 \r\nL 38.28125 72.90625 \r\nL 38.28125 8.296875 \r\nL 54.390625 8.296875 \r\nL 54.390625 0 \r\nL 12.40625 0 \r\nz\r\n\" id=\"DejaVuSans-49\"/>\r\n      </defs>\r\n      <g transform=\"translate(84.44575 242.735656)scale(0.1 -0.1)\">\r\n       <use xlink:href=\"#DejaVuSans-49\"/>\r\n       <use x=\"63.623047\" xlink:href=\"#DejaVuSans-48\"/>\r\n       <use x=\"127.246094\" xlink:href=\"#DejaVuSans-48\"/>\r\n      </g>\r\n     </g>\r\n    </g>\r\n    <g id=\"xtick_4\">\r\n     <g id=\"line2d_4\">\r\n      <g>\r\n       <use style=\"stroke:#000000;stroke-width:0.8;\" x=\"124.1895\" xlink:href=\"#m3fc2b9b91c\" y=\"228.137219\"/>\r\n      </g>\r\n     </g>\r\n     <g id=\"text_4\">\r\n      <!-- 150 -->\r\n      <g transform=\"translate(114.64575 242.735656)scale(0.1 -0.1)\">\r\n       <use xlink:href=\"#DejaVuSans-49\"/>\r\n       <use x=\"63.623047\" xlink:href=\"#DejaVuSans-53\"/>\r\n       <use x=\"127.246094\" xlink:href=\"#DejaVuSans-48\"/>\r\n      </g>\r\n     </g>\r\n    </g>\r\n    <g id=\"xtick_5\">\r\n     <g id=\"line2d_5\">\r\n      <g>\r\n       <use style=\"stroke:#000000;stroke-width:0.8;\" x=\"154.3895\" xlink:href=\"#m3fc2b9b91c\" y=\"228.137219\"/>\r\n      </g>\r\n     </g>\r\n     <g id=\"text_5\">\r\n      <!-- 200 -->\r\n      <defs>\r\n       <path d=\"M 19.1875 8.296875 \r\nL 53.609375 8.296875 \r\nL 53.609375 0 \r\nL 7.328125 0 \r\nL 7.328125 8.296875 \r\nQ 12.9375 14.109375 22.625 23.890625 \r\nQ 32.328125 33.6875 34.8125 36.53125 \r\nQ 39.546875 41.84375 41.421875 45.53125 \r\nQ 43.3125 49.21875 43.3125 52.78125 \r\nQ 43.3125 58.59375 39.234375 62.25 \r\nQ 35.15625 65.921875 28.609375 65.921875 \r\nQ 23.96875 65.921875 18.8125 64.3125 \r\nQ 13.671875 62.703125 7.8125 59.421875 \r\nL 7.8125 69.390625 \r\nQ 13.765625 71.78125 18.9375 73 \r\nQ 24.125 74.21875 28.421875 74.21875 \r\nQ 39.75 74.21875 46.484375 68.546875 \r\nQ 53.21875 62.890625 53.21875 53.421875 \r\nQ 53.21875 48.921875 51.53125 44.890625 \r\nQ 49.859375 40.875 45.40625 35.40625 \r\nQ 44.1875 33.984375 37.640625 27.21875 \r\nQ 31.109375 20.453125 19.1875 8.296875 \r\nz\r\n\" id=\"DejaVuSans-50\"/>\r\n      </defs>\r\n      <g transform=\"translate(144.84575 242.735656)scale(0.1 -0.1)\">\r\n       <use xlink:href=\"#DejaVuSans-50\"/>\r\n       <use x=\"63.623047\" xlink:href=\"#DejaVuSans-48\"/>\r\n       <use x=\"127.246094\" xlink:href=\"#DejaVuSans-48\"/>\r\n      </g>\r\n     </g>\r\n    </g>\r\n    <g id=\"xtick_6\">\r\n     <g id=\"line2d_6\">\r\n      <g>\r\n       <use style=\"stroke:#000000;stroke-width:0.8;\" x=\"184.5895\" xlink:href=\"#m3fc2b9b91c\" y=\"228.137219\"/>\r\n      </g>\r\n     </g>\r\n     <g id=\"text_6\">\r\n      <!-- 250 -->\r\n      <g transform=\"translate(175.04575 242.735656)scale(0.1 -0.1)\">\r\n       <use xlink:href=\"#DejaVuSans-50\"/>\r\n       <use x=\"63.623047\" xlink:href=\"#DejaVuSans-53\"/>\r\n       <use x=\"127.246094\" xlink:href=\"#DejaVuSans-48\"/>\r\n      </g>\r\n     </g>\r\n    </g>\r\n    <g id=\"xtick_7\">\r\n     <g id=\"line2d_7\">\r\n      <g>\r\n       <use style=\"stroke:#000000;stroke-width:0.8;\" x=\"214.7895\" xlink:href=\"#m3fc2b9b91c\" y=\"228.137219\"/>\r\n      </g>\r\n     </g>\r\n     <g id=\"text_7\">\r\n      <!-- 300 -->\r\n      <defs>\r\n       <path d=\"M 40.578125 39.3125 \r\nQ 47.65625 37.796875 51.625 33 \r\nQ 55.609375 28.21875 55.609375 21.1875 \r\nQ 55.609375 10.40625 48.1875 4.484375 \r\nQ 40.765625 -1.421875 27.09375 -1.421875 \r\nQ 22.515625 -1.421875 17.65625 -0.515625 \r\nQ 12.796875 0.390625 7.625 2.203125 \r\nL 7.625 11.71875 \r\nQ 11.71875 9.328125 16.59375 8.109375 \r\nQ 21.484375 6.890625 26.8125 6.890625 \r\nQ 36.078125 6.890625 40.9375 10.546875 \r\nQ 45.796875 14.203125 45.796875 21.1875 \r\nQ 45.796875 27.640625 41.28125 31.265625 \r\nQ 36.765625 34.90625 28.71875 34.90625 \r\nL 20.21875 34.90625 \r\nL 20.21875 43.015625 \r\nL 29.109375 43.015625 \r\nQ 36.375 43.015625 40.234375 45.921875 \r\nQ 44.09375 48.828125 44.09375 54.296875 \r\nQ 44.09375 59.90625 40.109375 62.90625 \r\nQ 36.140625 65.921875 28.71875 65.921875 \r\nQ 24.65625 65.921875 20.015625 65.03125 \r\nQ 15.375 64.15625 9.8125 62.3125 \r\nL 9.8125 71.09375 \r\nQ 15.4375 72.65625 20.34375 73.4375 \r\nQ 25.25 74.21875 29.59375 74.21875 \r\nQ 40.828125 74.21875 47.359375 69.109375 \r\nQ 53.90625 64.015625 53.90625 55.328125 \r\nQ 53.90625 49.265625 50.4375 45.09375 \r\nQ 46.96875 40.921875 40.578125 39.3125 \r\nz\r\n\" id=\"DejaVuSans-51\"/>\r\n      </defs>\r\n      <g transform=\"translate(205.24575 242.735656)scale(0.1 -0.1)\">\r\n       <use xlink:href=\"#DejaVuSans-51\"/>\r\n       <use x=\"63.623047\" xlink:href=\"#DejaVuSans-48\"/>\r\n       <use x=\"127.246094\" xlink:href=\"#DejaVuSans-48\"/>\r\n      </g>\r\n     </g>\r\n    </g>\r\n   </g>\r\n   <g id=\"matplotlib.axis_2\">\r\n    <g id=\"ytick_1\">\r\n     <g id=\"line2d_8\">\r\n      <defs>\r\n       <path d=\"M 0 0 \r\nL -3.5 0 \r\n\" id=\"m5693927799\" style=\"stroke:#000000;stroke-width:0.8;\"/>\r\n      </defs>\r\n      <g>\r\n       <use style=\"stroke:#000000;stroke-width:0.8;\" x=\"33.2875\" xlink:href=\"#m5693927799\" y=\"10.999219\"/>\r\n      </g>\r\n     </g>\r\n     <g id=\"text_8\">\r\n      <!-- 0 -->\r\n      <g transform=\"translate(19.925 14.798437)scale(0.1 -0.1)\">\r\n       <use xlink:href=\"#DejaVuSans-48\"/>\r\n      </g>\r\n     </g>\r\n    </g>\r\n    <g id=\"ytick_2\">\r\n     <g id=\"line2d_9\">\r\n      <g>\r\n       <use style=\"stroke:#000000;stroke-width:0.8;\" x=\"33.2875\" xlink:href=\"#m5693927799\" y=\"41.199219\"/>\r\n      </g>\r\n     </g>\r\n     <g id=\"text_9\">\r\n      <!-- 50 -->\r\n      <g transform=\"translate(13.5625 44.998437)scale(0.1 -0.1)\">\r\n       <use xlink:href=\"#DejaVuSans-53\"/>\r\n       <use x=\"63.623047\" xlink:href=\"#DejaVuSans-48\"/>\r\n      </g>\r\n     </g>\r\n    </g>\r\n    <g id=\"ytick_3\">\r\n     <g id=\"line2d_10\">\r\n      <g>\r\n       <use style=\"stroke:#000000;stroke-width:0.8;\" x=\"33.2875\" xlink:href=\"#m5693927799\" y=\"71.399219\"/>\r\n      </g>\r\n     </g>\r\n     <g id=\"text_10\">\r\n      <!-- 100 -->\r\n      <g transform=\"translate(7.2 75.198437)scale(0.1 -0.1)\">\r\n       <use xlink:href=\"#DejaVuSans-49\"/>\r\n       <use x=\"63.623047\" xlink:href=\"#DejaVuSans-48\"/>\r\n       <use x=\"127.246094\" xlink:href=\"#DejaVuSans-48\"/>\r\n      </g>\r\n     </g>\r\n    </g>\r\n    <g id=\"ytick_4\">\r\n     <g id=\"line2d_11\">\r\n      <g>\r\n       <use style=\"stroke:#000000;stroke-width:0.8;\" x=\"33.2875\" xlink:href=\"#m5693927799\" y=\"101.599219\"/>\r\n      </g>\r\n     </g>\r\n     <g id=\"text_11\">\r\n      <!-- 150 -->\r\n      <g transform=\"translate(7.2 105.398437)scale(0.1 -0.1)\">\r\n       <use xlink:href=\"#DejaVuSans-49\"/>\r\n       <use x=\"63.623047\" xlink:href=\"#DejaVuSans-53\"/>\r\n       <use x=\"127.246094\" xlink:href=\"#DejaVuSans-48\"/>\r\n      </g>\r\n     </g>\r\n    </g>\r\n    <g id=\"ytick_5\">\r\n     <g id=\"line2d_12\">\r\n      <g>\r\n       <use style=\"stroke:#000000;stroke-width:0.8;\" x=\"33.2875\" xlink:href=\"#m5693927799\" y=\"131.799219\"/>\r\n      </g>\r\n     </g>\r\n     <g id=\"text_12\">\r\n      <!-- 200 -->\r\n      <g transform=\"translate(7.2 135.598437)scale(0.1 -0.1)\">\r\n       <use xlink:href=\"#DejaVuSans-50\"/>\r\n       <use x=\"63.623047\" xlink:href=\"#DejaVuSans-48\"/>\r\n       <use x=\"127.246094\" xlink:href=\"#DejaVuSans-48\"/>\r\n      </g>\r\n     </g>\r\n    </g>\r\n    <g id=\"ytick_6\">\r\n     <g id=\"line2d_13\">\r\n      <g>\r\n       <use style=\"stroke:#000000;stroke-width:0.8;\" x=\"33.2875\" xlink:href=\"#m5693927799\" y=\"161.999219\"/>\r\n      </g>\r\n     </g>\r\n     <g id=\"text_13\">\r\n      <!-- 250 -->\r\n      <g transform=\"translate(7.2 165.798437)scale(0.1 -0.1)\">\r\n       <use xlink:href=\"#DejaVuSans-50\"/>\r\n       <use x=\"63.623047\" xlink:href=\"#DejaVuSans-53\"/>\r\n       <use x=\"127.246094\" xlink:href=\"#DejaVuSans-48\"/>\r\n      </g>\r\n     </g>\r\n    </g>\r\n    <g id=\"ytick_7\">\r\n     <g id=\"line2d_14\">\r\n      <g>\r\n       <use style=\"stroke:#000000;stroke-width:0.8;\" x=\"33.2875\" xlink:href=\"#m5693927799\" y=\"192.199219\"/>\r\n      </g>\r\n     </g>\r\n     <g id=\"text_14\">\r\n      <!-- 300 -->\r\n      <g transform=\"translate(7.2 195.998437)scale(0.1 -0.1)\">\r\n       <use xlink:href=\"#DejaVuSans-51\"/>\r\n       <use x=\"63.623047\" xlink:href=\"#DejaVuSans-48\"/>\r\n       <use x=\"127.246094\" xlink:href=\"#DejaVuSans-48\"/>\r\n      </g>\r\n     </g>\r\n    </g>\r\n    <g id=\"ytick_8\">\r\n     <g id=\"line2d_15\">\r\n      <g>\r\n       <use style=\"stroke:#000000;stroke-width:0.8;\" x=\"33.2875\" xlink:href=\"#m5693927799\" y=\"222.399219\"/>\r\n      </g>\r\n     </g>\r\n     <g id=\"text_15\">\r\n      <!-- 350 -->\r\n      <g transform=\"translate(7.2 226.198437)scale(0.1 -0.1)\">\r\n       <use xlink:href=\"#DejaVuSans-51\"/>\r\n       <use x=\"63.623047\" xlink:href=\"#DejaVuSans-53\"/>\r\n       <use x=\"127.246094\" xlink:href=\"#DejaVuSans-48\"/>\r\n      </g>\r\n     </g>\r\n    </g>\r\n   </g>\r\n   <g id=\"patch_3\">\r\n    <path d=\"M 33.2875 228.137219 \r\nL 33.2875 10.697219 \r\n\" style=\"fill:none;stroke:#000000;stroke-linecap:square;stroke-linejoin:miter;stroke-width:0.8;\"/>\r\n   </g>\r\n   <g id=\"patch_4\">\r\n    <path d=\"M 244.6875 228.137219 \r\nL 244.6875 10.697219 \r\n\" style=\"fill:none;stroke:#000000;stroke-linecap:square;stroke-linejoin:miter;stroke-width:0.8;\"/>\r\n   </g>\r\n   <g id=\"patch_5\">\r\n    <path d=\"M 33.2875 228.137219 \r\nL 244.6875 228.137219 \r\n\" style=\"fill:none;stroke:#000000;stroke-linecap:square;stroke-linejoin:miter;stroke-width:0.8;\"/>\r\n   </g>\r\n   <g id=\"patch_6\">\r\n    <path d=\"M 33.2875 10.697219 \r\nL 244.6875 10.697219 \r\n\" style=\"fill:none;stroke:#000000;stroke-linecap:square;stroke-linejoin:miter;stroke-width:0.8;\"/>\r\n   </g>\r\n  </g>\r\n </g>\r\n <defs>\r\n  <clipPath id=\"p9dedcbc9db\">\r\n   <rect height=\"217.44\" width=\"211.4\" x=\"33.2875\" y=\"10.697219\"/>\r\n  </clipPath>\r\n </defs>\r\n</svg>\r\n",
      "text/plain": [
       "<Figure size 432x288 with 1 Axes>"
      ]
     },
     "metadata": {
      "needs_background": "light"
     },
     "output_type": "display_data"
    }
   ],
   "source": [
    "plt.imshow(mymaskImage, cmap='gray')"
   ]
  },
  {
   "cell_type": "code",
   "execution_count": 49,
   "metadata": {},
   "outputs": [
    {
     "name": "stdout",
     "output_type": "stream",
     "text": [
      "['c:\\\\gitHub\\\\Learning_and_Training\\\\filling_holes_in_images\\\\blue_blob_contour.png', 'c:\\\\gitHub\\\\Learning_and_Training\\\\filling_holes_in_images\\\\blue_blob_thresh.png', 'c:\\\\gitHub\\\\Learning_and_Training\\\\filling_holes_in_images\\\\test_hole.png', 'c:\\\\gitHub\\\\Learning_and_Training\\\\filling_holes_in_images\\\\mask_test_hole.jpg', 'c:\\\\gitHub\\\\Learning_and_Training\\\\filling_holes_in_images\\\\test_hole_mask.jpg']\n",
      "*******************************************\n",
      "\n",
      "['blue_blob_contour', 'blue_blob_thresh', 'test_hole', 'mask_test_hole', 'test_hole_mask']\n"
     ]
    }
   ],
   "source": [
    "from glob import glob\n",
    "dir_path =o s.getcwd()\n",
    "files_list = glob(dir_path+'/*.gif')\n",
    "files_list.extend(glob(dir_path+'/*.png'))\n",
    "files_list.extend(glob(dir_path+'/*.jpg'))\n",
    "fileNames_list=[os.path.basename(x).split('.')[0] for x in files_list]\n",
    "print(files_list)\n",
    "print('*******************************************\\n')\n",
    "print(fileNames_list)"
   ]
  },
  {
   "cell_type": "code",
   "execution_count": 47,
   "metadata": {},
   "outputs": [
    {
     "data": {
      "text/plain": [
       "True"
      ]
     },
     "execution_count": 47,
     "metadata": {},
     "output_type": "execute_result"
    }
   ],
   "source": [
    "fileName='c:\\\\gitHub\\\\Learning_and_Training\\\\filling_holes_in_images'\n",
    "os.path.isdir(fileName)"
   ]
  },
  {
   "cell_type": "code",
   "execution_count": 51,
   "metadata": {},
   "outputs": [
    {
     "name": "stdout",
     "output_type": "stream",
     "text": [
      "c:\\gitHub\\Learning_and_Training\\filling_holes_in_images\n"
     ]
    }
   ],
   "source": [
    "import os\n",
    "mypath = 'c:\\\\gitHub\\\\Learning_and_Training\\\\filling_holes_in_images\\\\blue_blob_contour.png'\n",
    "print(os.path.dirname(mypath))\n"
   ]
  },
  {
   "cell_type": "code",
   "execution_count": 40,
   "metadata": {},
   "outputs": [
    {
     "name": "stdout",
     "output_type": "stream",
     "text": [
      "mask_test_hole.jpg\n"
     ]
    }
   ],
   "source": [
    "fileName='test_hole.png'\n",
    "mask_fileName = 'mask_'+fileName\n",
    "mask_fileName = mask_fileName.split('.')[0]\n",
    "x = li.index(mask_fileName)\n",
    "maskFile = files[x]\n",
    "print(maskFile)"
   ]
  },
  {
   "cell_type": "code",
   "execution_count": null,
   "metadata": {},
   "outputs": [],
   "source": [
    "# list the directory\n",
    "path = os.getcwd()\n",
    "l_dir=os.listdir(os.getcwd())\n"
   ]
  },
  {
   "cell_type": "code",
   "execution_count": null,
   "metadata": {},
   "outputs": [],
   "source": []
  },
  {
   "cell_type": "markdown",
   "metadata": {},
   "source": [
    "## Working prototype"
   ]
  },
  {
   "cell_type": "code",
   "execution_count": 70,
   "metadata": {},
   "outputs": [
    {
     "data": {
      "text/plain": [
       "<matplotlib.image.AxesImage at 0x23f5e225208>"
      ]
     },
     "execution_count": 70,
     "metadata": {},
     "output_type": "execute_result"
    },
    {
     "data": {
      "image/png": "[encoded data removed]",
      "image/svg+xml": "<?xml version=\"1.0\" encoding=\"utf-8\" standalone=\"no\"?>\r\n<!DOCTYPE svg PUBLIC \"-//W3C//DTD SVG 1.1//EN\"\r\n  \"http://www.w3.org/Graphics/SVG/1.1/DTD/svg11.dtd\">\r\n<!-- Created with matplotlib (https://matplotlib.org/) -->\r\n<svg height=\"252.015344pt\" version=\"1.1\" viewBox=\"0 0 251.8875 252.015344\" width=\"251.8875pt\" xmlns=\"http://www.w3.org/2000/svg\" xmlns:xlink=\"http://www.w3.org/1999/xlink\">\r\n <defs>\r\n  <style type=\"text/css\">\r\n*{stroke-linecap:butt;stroke-linejoin:round;}\r\n  </style>\r\n </defs>\r\n <g id=\"figure_1\">\r\n  <g id=\"patch_1\">\r\n   <path d=\"M 0 252.015344 \r\nL 251.8875 252.015344 \r\nL 251.8875 0 \r\nL 0 0 \r\nz\r\n\" style=\"fill:none;\"/>\r\n  </g>\r\n  <g id=\"axes_1\">\r\n   <g id=\"patch_2\">\r\n    <path d=\"M 33.2875 228.137219 \r\nL 244.6875 228.137219 \r\nL 244.6875 10.697219 \r\nL 33.2875 10.697219 \r\nz\r\n\" style=\"fill:#ffffff;\"/>\r\n   </g>\r\n   <g clip-path=\"url(#p5ca0491f16)\">\r\n    <image height=\"218\" id=\"image04ff3778a9\" transform=\"scale(1 -1)translate(0 -218)\" width=\"212\" x=\"33.2875\" xlink:href=\"data:image/png;base64,\r\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\" y=\"-10.137219\"/>\r\n   </g>\r\n   <g id=\"matplotlib.axis_1\">\r\n    <g id=\"xtick_1\">\r\n     <g id=\"line2d_1\">\r\n      <defs>\r\n       <path d=\"M 0 0 \r\nL 0 3.5 \r\n\" id=\"me7b8953a3e\" style=\"stroke:#000000;stroke-width:0.8;\"/>\r\n      </defs>\r\n      <g>\r\n       <use style=\"stroke:#000000;stroke-width:0.8;\" x=\"33.5895\" xlink:href=\"#me7b8953a3e\" y=\"228.137219\"/>\r\n      </g>\r\n     </g>\r\n     <g id=\"text_1\">\r\n      <!-- 0 -->\r\n      <defs>\r\n       <path d=\"M 31.78125 66.40625 \r\nQ 24.171875 66.40625 20.328125 58.90625 \r\nQ 16.5 51.421875 16.5 36.375 \r\nQ 16.5 21.390625 20.328125 13.890625 \r\nQ 24.171875 6.390625 31.78125 6.390625 \r\nQ 39.453125 6.390625 43.28125 13.890625 \r\nQ 47.125 21.390625 47.125 36.375 \r\nQ 47.125 51.421875 43.28125 58.90625 \r\nQ 39.453125 66.40625 31.78125 66.40625 \r\nz\r\nM 31.78125 74.21875 \r\nQ 44.046875 74.21875 50.515625 64.515625 \r\nQ 56.984375 54.828125 56.984375 36.375 \r\nQ 56.984375 17.96875 50.515625 8.265625 \r\nQ 44.046875 -1.421875 31.78125 -1.421875 \r\nQ 19.53125 -1.421875 13.0625 8.265625 \r\nQ 6.59375 17.96875 6.59375 36.375 \r\nQ 6.59375 54.828125 13.0625 64.515625 \r\nQ 19.53125 74.21875 31.78125 74.21875 \r\nz\r\n\" id=\"DejaVuSans-48\"/>\r\n      </defs>\r\n      <g transform=\"translate(30.40825 242.735656)scale(0.1 -0.1)\">\r\n       <use xlink:href=\"#DejaVuSans-48\"/>\r\n      </g>\r\n     </g>\r\n    </g>\r\n    <g id=\"xtick_2\">\r\n     <g id=\"line2d_2\">\r\n      <g>\r\n       <use style=\"stroke:#000000;stroke-width:0.8;\" x=\"63.7895\" xlink:href=\"#me7b8953a3e\" y=\"228.137219\"/>\r\n      </g>\r\n     </g>\r\n     <g id=\"text_2\">\r\n      <!-- 50 -->\r\n      <defs>\r\n       <path d=\"M 10.796875 72.90625 \r\nL 49.515625 72.90625 \r\nL 49.515625 64.59375 \r\nL 19.828125 64.59375 \r\nL 19.828125 46.734375 \r\nQ 21.96875 47.46875 24.109375 47.828125 \r\nQ 26.265625 48.1875 28.421875 48.1875 \r\nQ 40.625 48.1875 47.75 41.5 \r\nQ 54.890625 34.8125 54.890625 23.390625 \r\nQ 54.890625 11.625 47.5625 5.09375 \r\nQ 40.234375 -1.421875 26.90625 -1.421875 \r\nQ 22.3125 -1.421875 17.546875 -0.640625 \r\nQ 12.796875 0.140625 7.71875 1.703125 \r\nL 7.71875 11.625 \r\nQ 12.109375 9.234375 16.796875 8.0625 \r\nQ 21.484375 6.890625 26.703125 6.890625 \r\nQ 35.15625 6.890625 40.078125 11.328125 \r\nQ 45.015625 15.765625 45.015625 23.390625 \r\nQ 45.015625 31 40.078125 35.4375 \r\nQ 35.15625 39.890625 26.703125 39.890625 \r\nQ 22.75 39.890625 18.8125 39.015625 \r\nQ 14.890625 38.140625 10.796875 36.28125 \r\nz\r\n\" id=\"DejaVuSans-53\"/>\r\n      </defs>\r\n      <g transform=\"translate(57.427 242.735656)scale(0.1 -0.1)\">\r\n       <use xlink:href=\"#DejaVuSans-53\"/>\r\n       <use x=\"63.623047\" xlink:href=\"#DejaVuSans-48\"/>\r\n      </g>\r\n     </g>\r\n    </g>\r\n    <g id=\"xtick_3\">\r\n     <g id=\"line2d_3\">\r\n      <g>\r\n       <use style=\"stroke:#000000;stroke-width:0.8;\" x=\"93.9895\" xlink:href=\"#me7b8953a3e\" y=\"228.137219\"/>\r\n      </g>\r\n     </g>\r\n     <g id=\"text_3\">\r\n      <!-- 100 -->\r\n      <defs>\r\n       <path d=\"M 12.40625 8.296875 \r\nL 28.515625 8.296875 \r\nL 28.515625 63.921875 \r\nL 10.984375 60.40625 \r\nL 10.984375 69.390625 \r\nL 28.421875 72.90625 \r\nL 38.28125 72.90625 \r\nL 38.28125 8.296875 \r\nL 54.390625 8.296875 \r\nL 54.390625 0 \r\nL 12.40625 0 \r\nz\r\n\" id=\"DejaVuSans-49\"/>\r\n      </defs>\r\n      <g transform=\"translate(84.44575 242.735656)scale(0.1 -0.1)\">\r\n       <use xlink:href=\"#DejaVuSans-49\"/>\r\n       <use x=\"63.623047\" xlink:href=\"#DejaVuSans-48\"/>\r\n       <use x=\"127.246094\" xlink:href=\"#DejaVuSans-48\"/>\r\n      </g>\r\n     </g>\r\n    </g>\r\n    <g id=\"xtick_4\">\r\n     <g id=\"line2d_4\">\r\n      <g>\r\n       <use style=\"stroke:#000000;stroke-width:0.8;\" x=\"124.1895\" xlink:href=\"#me7b8953a3e\" y=\"228.137219\"/>\r\n      </g>\r\n     </g>\r\n     <g id=\"text_4\">\r\n      <!-- 150 -->\r\n      <g transform=\"translate(114.64575 242.735656)scale(0.1 -0.1)\">\r\n       <use xlink:href=\"#DejaVuSans-49\"/>\r\n       <use x=\"63.623047\" xlink:href=\"#DejaVuSans-53\"/>\r\n       <use x=\"127.246094\" xlink:href=\"#DejaVuSans-48\"/>\r\n      </g>\r\n     </g>\r\n    </g>\r\n    <g id=\"xtick_5\">\r\n     <g id=\"line2d_5\">\r\n      <g>\r\n       <use style=\"stroke:#000000;stroke-width:0.8;\" x=\"154.3895\" xlink:href=\"#me7b8953a3e\" y=\"228.137219\"/>\r\n      </g>\r\n     </g>\r\n     <g id=\"text_5\">\r\n      <!-- 200 -->\r\n      <defs>\r\n       <path d=\"M 19.1875 8.296875 \r\nL 53.609375 8.296875 \r\nL 53.609375 0 \r\nL 7.328125 0 \r\nL 7.328125 8.296875 \r\nQ 12.9375 14.109375 22.625 23.890625 \r\nQ 32.328125 33.6875 34.8125 36.53125 \r\nQ 39.546875 41.84375 41.421875 45.53125 \r\nQ 43.3125 49.21875 43.3125 52.78125 \r\nQ 43.3125 58.59375 39.234375 62.25 \r\nQ 35.15625 65.921875 28.609375 65.921875 \r\nQ 23.96875 65.921875 18.8125 64.3125 \r\nQ 13.671875 62.703125 7.8125 59.421875 \r\nL 7.8125 69.390625 \r\nQ 13.765625 71.78125 18.9375 73 \r\nQ 24.125 74.21875 28.421875 74.21875 \r\nQ 39.75 74.21875 46.484375 68.546875 \r\nQ 53.21875 62.890625 53.21875 53.421875 \r\nQ 53.21875 48.921875 51.53125 44.890625 \r\nQ 49.859375 40.875 45.40625 35.40625 \r\nQ 44.1875 33.984375 37.640625 27.21875 \r\nQ 31.109375 20.453125 19.1875 8.296875 \r\nz\r\n\" id=\"DejaVuSans-50\"/>\r\n      </defs>\r\n      <g transform=\"translate(144.84575 242.735656)scale(0.1 -0.1)\">\r\n       <use xlink:href=\"#DejaVuSans-50\"/>\r\n       <use x=\"63.623047\" xlink:href=\"#DejaVuSans-48\"/>\r\n       <use x=\"127.246094\" xlink:href=\"#DejaVuSans-48\"/>\r\n      </g>\r\n     </g>\r\n    </g>\r\n    <g id=\"xtick_6\">\r\n     <g id=\"line2d_6\">\r\n      <g>\r\n       <use style=\"stroke:#000000;stroke-width:0.8;\" x=\"184.5895\" xlink:href=\"#me7b8953a3e\" y=\"228.137219\"/>\r\n      </g>\r\n     </g>\r\n     <g id=\"text_6\">\r\n      <!-- 250 -->\r\n      <g transform=\"translate(175.04575 242.735656)scale(0.1 -0.1)\">\r\n       <use xlink:href=\"#DejaVuSans-50\"/>\r\n       <use x=\"63.623047\" xlink:href=\"#DejaVuSans-53\"/>\r\n       <use x=\"127.246094\" xlink:href=\"#DejaVuSans-48\"/>\r\n      </g>\r\n     </g>\r\n    </g>\r\n    <g id=\"xtick_7\">\r\n     <g id=\"line2d_7\">\r\n      <g>\r\n       <use style=\"stroke:#000000;stroke-width:0.8;\" x=\"214.7895\" xlink:href=\"#me7b8953a3e\" y=\"228.137219\"/>\r\n      </g>\r\n     </g>\r\n     <g id=\"text_7\">\r\n      <!-- 300 -->\r\n      <defs>\r\n       <path d=\"M 40.578125 39.3125 \r\nQ 47.65625 37.796875 51.625 33 \r\nQ 55.609375 28.21875 55.609375 21.1875 \r\nQ 55.609375 10.40625 48.1875 4.484375 \r\nQ 40.765625 -1.421875 27.09375 -1.421875 \r\nQ 22.515625 -1.421875 17.65625 -0.515625 \r\nQ 12.796875 0.390625 7.625 2.203125 \r\nL 7.625 11.71875 \r\nQ 11.71875 9.328125 16.59375 8.109375 \r\nQ 21.484375 6.890625 26.8125 6.890625 \r\nQ 36.078125 6.890625 40.9375 10.546875 \r\nQ 45.796875 14.203125 45.796875 21.1875 \r\nQ 45.796875 27.640625 41.28125 31.265625 \r\nQ 36.765625 34.90625 28.71875 34.90625 \r\nL 20.21875 34.90625 \r\nL 20.21875 43.015625 \r\nL 29.109375 43.015625 \r\nQ 36.375 43.015625 40.234375 45.921875 \r\nQ 44.09375 48.828125 44.09375 54.296875 \r\nQ 44.09375 59.90625 40.109375 62.90625 \r\nQ 36.140625 65.921875 28.71875 65.921875 \r\nQ 24.65625 65.921875 20.015625 65.03125 \r\nQ 15.375 64.15625 9.8125 62.3125 \r\nL 9.8125 71.09375 \r\nQ 15.4375 72.65625 20.34375 73.4375 \r\nQ 25.25 74.21875 29.59375 74.21875 \r\nQ 40.828125 74.21875 47.359375 69.109375 \r\nQ 53.90625 64.015625 53.90625 55.328125 \r\nQ 53.90625 49.265625 50.4375 45.09375 \r\nQ 46.96875 40.921875 40.578125 39.3125 \r\nz\r\n\" id=\"DejaVuSans-51\"/>\r\n      </defs>\r\n      <g transform=\"translate(205.24575 242.735656)scale(0.1 -0.1)\">\r\n       <use xlink:href=\"#DejaVuSans-51\"/>\r\n       <use x=\"63.623047\" xlink:href=\"#DejaVuSans-48\"/>\r\n       <use x=\"127.246094\" xlink:href=\"#DejaVuSans-48\"/>\r\n      </g>\r\n     </g>\r\n    </g>\r\n   </g>\r\n   <g id=\"matplotlib.axis_2\">\r\n    <g id=\"ytick_1\">\r\n     <g id=\"line2d_8\">\r\n      <defs>\r\n       <path d=\"M 0 0 \r\nL -3.5 0 \r\n\" id=\"m21963bbd19\" style=\"stroke:#000000;stroke-width:0.8;\"/>\r\n      </defs>\r\n      <g>\r\n       <use style=\"stroke:#000000;stroke-width:0.8;\" x=\"33.2875\" xlink:href=\"#m21963bbd19\" y=\"10.999219\"/>\r\n      </g>\r\n     </g>\r\n     <g id=\"text_8\">\r\n      <!-- 0 -->\r\n      <g transform=\"translate(19.925 14.798437)scale(0.1 -0.1)\">\r\n       <use xlink:href=\"#DejaVuSans-48\"/>\r\n      </g>\r\n     </g>\r\n    </g>\r\n    <g id=\"ytick_2\">\r\n     <g id=\"line2d_9\">\r\n      <g>\r\n       <use style=\"stroke:#000000;stroke-width:0.8;\" x=\"33.2875\" xlink:href=\"#m21963bbd19\" y=\"41.199219\"/>\r\n      </g>\r\n     </g>\r\n     <g id=\"text_9\">\r\n      <!-- 50 -->\r\n      <g transform=\"translate(13.5625 44.998437)scale(0.1 -0.1)\">\r\n       <use xlink:href=\"#DejaVuSans-53\"/>\r\n       <use x=\"63.623047\" xlink:href=\"#DejaVuSans-48\"/>\r\n      </g>\r\n     </g>\r\n    </g>\r\n    <g id=\"ytick_3\">\r\n     <g id=\"line2d_10\">\r\n      <g>\r\n       <use style=\"stroke:#000000;stroke-width:0.8;\" x=\"33.2875\" xlink:href=\"#m21963bbd19\" y=\"71.399219\"/>\r\n      </g>\r\n     </g>\r\n     <g id=\"text_10\">\r\n      <!-- 100 -->\r\n      <g transform=\"translate(7.2 75.198437)scale(0.1 -0.1)\">\r\n       <use xlink:href=\"#DejaVuSans-49\"/>\r\n       <use x=\"63.623047\" xlink:href=\"#DejaVuSans-48\"/>\r\n       <use x=\"127.246094\" xlink:href=\"#DejaVuSans-48\"/>\r\n      </g>\r\n     </g>\r\n    </g>\r\n    <g id=\"ytick_4\">\r\n     <g id=\"line2d_11\">\r\n      <g>\r\n       <use style=\"stroke:#000000;stroke-width:0.8;\" x=\"33.2875\" xlink:href=\"#m21963bbd19\" y=\"101.599219\"/>\r\n      </g>\r\n     </g>\r\n     <g id=\"text_11\">\r\n      <!-- 150 -->\r\n      <g transform=\"translate(7.2 105.398437)scale(0.1 -0.1)\">\r\n       <use xlink:href=\"#DejaVuSans-49\"/>\r\n       <use x=\"63.623047\" xlink:href=\"#DejaVuSans-53\"/>\r\n       <use x=\"127.246094\" xlink:href=\"#DejaVuSans-48\"/>\r\n      </g>\r\n     </g>\r\n    </g>\r\n    <g id=\"ytick_5\">\r\n     <g id=\"line2d_12\">\r\n      <g>\r\n       <use style=\"stroke:#000000;stroke-width:0.8;\" x=\"33.2875\" xlink:href=\"#m21963bbd19\" y=\"131.799219\"/>\r\n      </g>\r\n     </g>\r\n     <g id=\"text_12\">\r\n      <!-- 200 -->\r\n      <g transform=\"translate(7.2 135.598437)scale(0.1 -0.1)\">\r\n       <use xlink:href=\"#DejaVuSans-50\"/>\r\n       <use x=\"63.623047\" xlink:href=\"#DejaVuSans-48\"/>\r\n       <use x=\"127.246094\" xlink:href=\"#DejaVuSans-48\"/>\r\n      </g>\r\n     </g>\r\n    </g>\r\n    <g id=\"ytick_6\">\r\n     <g id=\"line2d_13\">\r\n      <g>\r\n       <use style=\"stroke:#000000;stroke-width:0.8;\" x=\"33.2875\" xlink:href=\"#m21963bbd19\" y=\"161.999219\"/>\r\n      </g>\r\n     </g>\r\n     <g id=\"text_13\">\r\n      <!-- 250 -->\r\n      <g transform=\"translate(7.2 165.798437)scale(0.1 -0.1)\">\r\n       <use xlink:href=\"#DejaVuSans-50\"/>\r\n       <use x=\"63.623047\" xlink:href=\"#DejaVuSans-53\"/>\r\n       <use x=\"127.246094\" xlink:href=\"#DejaVuSans-48\"/>\r\n      </g>\r\n     </g>\r\n    </g>\r\n    <g id=\"ytick_7\">\r\n     <g id=\"line2d_14\">\r\n      <g>\r\n       <use style=\"stroke:#000000;stroke-width:0.8;\" x=\"33.2875\" xlink:href=\"#m21963bbd19\" y=\"192.199219\"/>\r\n      </g>\r\n     </g>\r\n     <g id=\"text_14\">\r\n      <!-- 300 -->\r\n      <g transform=\"translate(7.2 195.998437)scale(0.1 -0.1)\">\r\n       <use xlink:href=\"#DejaVuSans-51\"/>\r\n       <use x=\"63.623047\" xlink:href=\"#DejaVuSans-48\"/>\r\n       <use x=\"127.246094\" xlink:href=\"#DejaVuSans-48\"/>\r\n      </g>\r\n     </g>\r\n    </g>\r\n    <g id=\"ytick_8\">\r\n     <g id=\"line2d_15\">\r\n      <g>\r\n       <use style=\"stroke:#000000;stroke-width:0.8;\" x=\"33.2875\" xlink:href=\"#m21963bbd19\" y=\"222.399219\"/>\r\n      </g>\r\n     </g>\r\n     <g id=\"text_15\">\r\n      <!-- 350 -->\r\n      <g transform=\"translate(7.2 226.198437)scale(0.1 -0.1)\">\r\n       <use xlink:href=\"#DejaVuSans-51\"/>\r\n       <use x=\"63.623047\" xlink:href=\"#DejaVuSans-53\"/>\r\n       <use x=\"127.246094\" xlink:href=\"#DejaVuSans-48\"/>\r\n      </g>\r\n     </g>\r\n    </g>\r\n   </g>\r\n   <g id=\"patch_3\">\r\n    <path d=\"M 33.2875 228.137219 \r\nL 33.2875 10.697219 \r\n\" style=\"fill:none;stroke:#000000;stroke-linecap:square;stroke-linejoin:miter;stroke-width:0.8;\"/>\r\n   </g>\r\n   <g id=\"patch_4\">\r\n    <path d=\"M 244.6875 228.137219 \r\nL 244.6875 10.697219 \r\n\" style=\"fill:none;stroke:#000000;stroke-linecap:square;stroke-linejoin:miter;stroke-width:0.8;\"/>\r\n   </g>\r\n   <g id=\"patch_5\">\r\n    <path d=\"M 33.2875 228.137219 \r\nL 244.6875 228.137219 \r\n\" style=\"fill:none;stroke:#000000;stroke-linecap:square;stroke-linejoin:miter;stroke-width:0.8;\"/>\r\n   </g>\r\n   <g id=\"patch_6\">\r\n    <path d=\"M 33.2875 10.697219 \r\nL 244.6875 10.697219 \r\n\" style=\"fill:none;stroke:#000000;stroke-linecap:square;stroke-linejoin:miter;stroke-width:0.8;\"/>\r\n   </g>\r\n  </g>\r\n </g>\r\n <defs>\r\n  <clipPath id=\"p5ca0491f16\">\r\n   <rect height=\"217.44\" width=\"211.4\" x=\"33.2875\" y=\"10.697219\"/>\r\n  </clipPath>\r\n </defs>\r\n</svg>\r\n",
      "text/plain": [
       "<Figure size 432x288 with 1 Axes>"
      ]
     },
     "metadata": {
      "needs_background": "light"
     },
     "output_type": "display_data"
    }
   ],
   "source": [
    "\n",
    "import cv2 # Import the OpenCV library\n",
    "import numpy as np\n",
    "filepath = \"test_hole.png\"\n",
    "image = cv2.imread(filepath)\n",
    "\n",
    "# load mask image\n",
    "mask = cv2.imread(\"blue_blob_thresh.png\", 0) # loading as garyscale image\n",
    "\n",
    "# get the boudary coordinates using contour detection\n",
    "b_coords = boundaryDetect8(mask)\n",
    "\n",
    "# get hole coordinates (x,y)\n",
    "xy_coords = np.flip(np.column_stack(np.where(mask > 0)), axis=1)\n",
    "\n",
    "# fill the hole\n",
    "img=image.copy()\n",
    "for u in xy_coords:\n",
    "    wz_iv_list = []\n",
    "    wz_list = []\n",
    "    for v in b_coords :\n",
    "        vx=v[0]\n",
    "        vy=v[1]\n",
    "        iv = img[vy,vx] \n",
    "        wz = defaultWeight_func(v=v, u=u)\n",
    "        wz_iv_list.append(wz*iv)\n",
    "        wz_list.append(wz)\n",
    "    \n",
    "    iu = sum(wz_iv_list)/sum(wz_list)\n",
    "    img[u[1],u[0]] = iu\n",
    "\n",
    "# show results\n",
    "plt.imshow(cv2.cvtColor(img, cv2.COLOR_BGR2RGB))"
   ]
  },
  {
   "cell_type": "markdown",
   "metadata": {},
   "source": [
    "## End of prototype"
   ]
  },
  {
   "cell_type": "code",
   "execution_count": 3,
   "metadata": {},
   "outputs": [],
   "source": [
    "# fill point function\n",
    "def fill_pixel(x, y, channels=3, **kwargs):\n",
    "    \"\"\"\n",
    "    applying a fill algorithm on image coordinate\n",
    "    input:\n",
    "    x - the x coordinate of the target pixel\n",
    "    y - the y coordinate of the targert pixel\n",
    "    channels - number of channels in the image (either 1 or 3)\n",
    "    \"\"\"\n",
    "    # validating number of requested channels \n",
    "    if channels not in [1,3]:\n",
    "        raise Exception(\"The fill pixel method supports only a single channel image or a 3 channels image!\\n you defined {0} \".format(channels))\n",
    "    elif channels == 1:\n",
    "        val = 210.0 # single channel image fill return float\n",
    "    elif channels == 3:\n",
    "        val = (0, 0, 255) # 3 channels image filled as RGB return tuple\n",
    "\n",
    "    return(img)\n",
    "    \n"
   ]
  },
  {
   "cell_type": "code",
   "execution_count": 88,
   "metadata": {},
   "outputs": [],
   "source": [
    "def displayArgument(**args):  \n",
    "    print(args['z'] + args['epsilon'])\n",
    "    for arg in args.items(): \n",
    "        print(arg) "
   ]
  },
  {
   "cell_type": "code",
   "execution_count": 93,
   "metadata": {},
   "outputs": [
    {
     "ename": "TypeError",
     "evalue": "displayArgument() argument after ** must be a mapping, not tuple",
     "output_type": "error",
     "traceback": [
      "\u001b[1;31m---------------------------------------------------------------------------\u001b[0m",
      "\u001b[1;31mTypeError\u001b[0m                                 Traceback (most recent call last)",
      "\u001b[1;32m<ipython-input-93-eb35cc0f76b6>\u001b[0m in \u001b[0;36m<module>\u001b[1;34m\u001b[0m\n\u001b[0;32m      3\u001b[0m \u001b[0mweight_conf\u001b[0m \u001b[1;33m=\u001b[0m \u001b[0mjson\u001b[0m\u001b[1;33m.\u001b[0m\u001b[0mload\u001b[0m\u001b[1;33m(\u001b[0m\u001b[0mf\u001b[0m\u001b[1;33m)\u001b[0m\u001b[1;33m\u001b[0m\u001b[1;33m\u001b[0m\u001b[0m\n\u001b[0;32m      4\u001b[0m \u001b[1;33m\u001b[0m\u001b[0m\n\u001b[1;32m----> 5\u001b[1;33m \u001b[0mdisplayArgument\u001b[0m\u001b[1;33m(\u001b[0m\u001b[1;33m**\u001b[0m\u001b[0mtuple\u001b[0m\u001b[1;33m(\u001b[0m\u001b[0msorted\u001b[0m\u001b[1;33m(\u001b[0m\u001b[0mweight_conf\u001b[0m\u001b[1;33m.\u001b[0m\u001b[0mitems\u001b[0m\u001b[1;33m(\u001b[0m\u001b[1;33m)\u001b[0m\u001b[1;33m)\u001b[0m\u001b[1;33m)\u001b[0m\u001b[1;33m)\u001b[0m\u001b[1;33m\u001b[0m\u001b[1;33m\u001b[0m\u001b[0m\n\u001b[0m",
      "\u001b[1;31mTypeError\u001b[0m: displayArgument() argument after ** must be a mapping, not tuple"
     ]
    }
   ],
   "source": [
    "import json\n",
    "f = open(\"weight_conf.json\")\n",
    "weight_conf = json.load(f)\n",
    "\n",
    "displayArgument(**tuple(sorted(weight_conf.items())))"
   ]
  },
  {
   "cell_type": "code",
   "execution_count": 91,
   "metadata": {},
   "outputs": [
    {
     "data": {
      "text/plain": [
       "(('epsilon', 0.01), ('z', 1))"
      ]
     },
     "execution_count": 91,
     "metadata": {},
     "output_type": "execute_result"
    }
   ],
   "source": [
    "tuple(sorted(weight_conf.items()))"
   ]
  },
  {
   "cell_type": "code",
   "execution_count": 94,
   "metadata": {},
   "outputs": [],
   "source": [
    "class HDict(dict):\n",
    "    def __hash__(self):\n",
    "        return hash(frozenset(self.items()))\n",
    "\n",
    "substs = HDict({'foo': 'bar', 'baz': 'quz'})\n",
    "cache = {substs: True}"
   ]
  },
  {
   "cell_type": "code",
   "execution_count": 96,
   "metadata": {},
   "outputs": [],
   "source": [
    "def freezeargs(func):\n",
    "    \"\"\"Transform mutable dictionnary\n",
    "    Into immutable\n",
    "    Useful to be compatible with cache\n",
    "    \"\"\"\n",
    "\n",
    "    @functools.wraps(func)\n",
    "    def wrapped(*args, **kwargs):\n",
    "        args = tuple([frozendict(arg) if isinstance(arg, dict) else arg for arg in args])\n",
    "        kwargs = {k: frozendict(v) if isinstance(v, dict) else v for k, v in kwargs.items()}\n",
    "        return func(*args, **kwargs)\n",
    "    return wrapped"
   ]
  },
  {
   "cell_type": "code",
   "execution_count": null,
   "metadata": {},
   "outputs": [],
   "source": []
  },
  {
   "cell_type": "code",
   "execution_count": 4,
   "metadata": {},
   "outputs": [],
   "source": [
    "def defaultWeight_func(v, u, z=1, epsilon=0.01):\n",
    "    \"\"\"\n",
    "    input:\n",
    "    u - coordinate in hole\n",
    "    v - coordinate in boundary\n",
    "    z - integer factor \n",
    "    epsilon - small float value used to avoid division by 0\n",
    "    output:\n",
    "    wz - non-negative float weight\n",
    "    \"\"\"\n",
    "    import numpy as np \n",
    "\n",
    "    dist = np.linalg.norm(u-v)\n",
    "    wz = 1.0/((dist**z)+epsilon)\n",
    "    return(wz)"
   ]
  },
  {
   "cell_type": "code",
   "execution_count": null,
   "metadata": {},
   "outputs": [],
   "source": [
    "def fill_color():\n",
    "    \"\"\"\n",
    "    input:\n",
    "    img - the image\n",
    "    u - coordinate in hole\n",
    "    v - coordinate in boundary\n",
    "    z - integer factor \n",
    "    epsilon - small float value used to avoid division by 0\n",
    "    \"\"\"\n",
    "    "
   ]
  },
  {
   "cell_type": "code",
   "execution_count": 8,
   "metadata": {},
   "outputs": [],
   "source": [
    "b_coords = boundaryDetect8(mask)"
   ]
  },
  {
   "cell_type": "code",
   "execution_count": 14,
   "metadata": {
    "tags": []
   },
   "outputs": [],
   "source": [
    "def fill_the_hole(img, xy_coords, b_coords, weightFunc=defaultWeight_func):\n",
    "    \"\"\"\n",
    "    inputs:\n",
    "    img - the image we wish to modify\n",
    "    xy_coords - the hole xy coordinates array\n",
    "    b_coords  - the boundary xy coordinates array\n",
    "    weightFunc - weight function to calculate the fill value(optional)\n",
    "    \"\"\"\n",
    "    for u in xy_coords:\n",
    "        wz_iv_list = []\n",
    "        wz_list = []\n",
    "        for v in b_coords :\n",
    "            vx=v[0]\n",
    "            vy=v[1]\n",
    "            iv = img[vy,vx] \n",
    "            wz = defaultWeight_func(v=v, u=u)\n",
    "            wz_iv_list.append(wz*iv)\n",
    "            wz_list.append(wz)\n",
    "        \n",
    "        iu = sum(wz_iv_list)/sum(wz_list)\n",
    "        img[u[1],u[0]] = iu\n",
    "        return(img)"
   ]
  },
  {
   "cell_type": "code",
   "execution_count": 20,
   "metadata": {},
   "outputs": [],
   "source": [
    "img=image.copy()\n",
    "for u in xy_coords:\n",
    "    wz_iv_list = []\n",
    "    wz_list = []\n",
    "    for v in b_coords :\n",
    "        vx=v[0]\n",
    "        vy=v[1]\n",
    "        iv = img[vy,vx] \n",
    "        wz = defaultWeight_func(v=v, u=u)\n",
    "        wz_iv_list.append(wz*iv)\n",
    "        wz_list.append(wz)\n",
    "    \n",
    "    iu = sum(wz_iv_list)/sum(wz_list)\n",
    "    img[u[1],u[0]] = iu\n"
   ]
  },
  {
   "cell_type": "code",
   "execution_count": 15,
   "metadata": {},
   "outputs": [],
   "source": [
    "newImage = fill_the_hole(img=image, xy_coords = xy_coords, b_coords = b_coords)"
   ]
  },
  {
   "cell_type": "code",
   "execution_count": 22,
   "metadata": {},
   "outputs": [
    {
     "data": {
      "text/plain": [
       "<matplotlib.image.AxesImage at 0x23f5c088d48>"
      ]
     },
     "execution_count": 22,
     "metadata": {},
     "output_type": "execute_result"
    },
    {
     "data": {
      "image/png": "[encoded data removed]",
      "image/svg+xml": "<?xml version=\"1.0\" encoding=\"utf-8\" standalone=\"no\"?>\r\n<!DOCTYPE svg PUBLIC \"-//W3C//DTD SVG 1.1//EN\"\r\n  \"http://www.w3.org/Graphics/SVG/1.1/DTD/svg11.dtd\">\r\n<!-- Created with matplotlib (https://matplotlib.org/) -->\r\n<svg height=\"252.015344pt\" version=\"1.1\" viewBox=\"0 0 251.8875 252.015344\" width=\"251.8875pt\" xmlns=\"http://www.w3.org/2000/svg\" xmlns:xlink=\"http://www.w3.org/1999/xlink\">\r\n <defs>\r\n  <style type=\"text/css\">\r\n*{stroke-linecap:butt;stroke-linejoin:round;}\r\n  </style>\r\n </defs>\r\n <g id=\"figure_1\">\r\n  <g id=\"patch_1\">\r\n   <path d=\"M 0 252.015344 \r\nL 251.8875 252.015344 \r\nL 251.8875 0 \r\nL 0 0 \r\nz\r\n\" style=\"fill:none;\"/>\r\n  </g>\r\n  <g id=\"axes_1\">\r\n   <g id=\"patch_2\">\r\n    <path d=\"M 33.2875 228.137219 \r\nL 244.6875 228.137219 \r\nL 244.6875 10.697219 \r\nL 33.2875 10.697219 \r\nz\r\n\" style=\"fill:#ffffff;\"/>\r\n   </g>\r\n   <g clip-path=\"url(#p13caea0538)\">\r\n    <image height=\"218\" id=\"imagee38500708c\" transform=\"scale(1 -1)translate(0 -218)\" width=\"212\" x=\"33.2875\" xlink:href=\"data:image/png;base64,\r\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\" y=\"-10.137219\"/>\r\n   </g>\r\n   <g id=\"matplotlib.axis_1\">\r\n    <g id=\"xtick_1\">\r\n     <g id=\"line2d_1\">\r\n      <defs>\r\n       <path d=\"M 0 0 \r\nL 0 3.5 \r\n\" id=\"mb5975fb1f6\" style=\"stroke:#000000;stroke-width:0.8;\"/>\r\n      </defs>\r\n      <g>\r\n       <use style=\"stroke:#000000;stroke-width:0.8;\" x=\"33.5895\" xlink:href=\"#mb5975fb1f6\" y=\"228.137219\"/>\r\n      </g>\r\n     </g>\r\n     <g id=\"text_1\">\r\n      <!-- 0 -->\r\n      <defs>\r\n       <path d=\"M 31.78125 66.40625 \r\nQ 24.171875 66.40625 20.328125 58.90625 \r\nQ 16.5 51.421875 16.5 36.375 \r\nQ 16.5 21.390625 20.328125 13.890625 \r\nQ 24.171875 6.390625 31.78125 6.390625 \r\nQ 39.453125 6.390625 43.28125 13.890625 \r\nQ 47.125 21.390625 47.125 36.375 \r\nQ 47.125 51.421875 43.28125 58.90625 \r\nQ 39.453125 66.40625 31.78125 66.40625 \r\nz\r\nM 31.78125 74.21875 \r\nQ 44.046875 74.21875 50.515625 64.515625 \r\nQ 56.984375 54.828125 56.984375 36.375 \r\nQ 56.984375 17.96875 50.515625 8.265625 \r\nQ 44.046875 -1.421875 31.78125 -1.421875 \r\nQ 19.53125 -1.421875 13.0625 8.265625 \r\nQ 6.59375 17.96875 6.59375 36.375 \r\nQ 6.59375 54.828125 13.0625 64.515625 \r\nQ 19.53125 74.21875 31.78125 74.21875 \r\nz\r\n\" id=\"DejaVuSans-48\"/>\r\n      </defs>\r\n      <g transform=\"translate(30.40825 242.735656)scale(0.1 -0.1)\">\r\n       <use xlink:href=\"#DejaVuSans-48\"/>\r\n      </g>\r\n     </g>\r\n    </g>\r\n    <g id=\"xtick_2\">\r\n     <g id=\"line2d_2\">\r\n      <g>\r\n       <use style=\"stroke:#000000;stroke-width:0.8;\" x=\"63.7895\" xlink:href=\"#mb5975fb1f6\" y=\"228.137219\"/>\r\n      </g>\r\n     </g>\r\n     <g id=\"text_2\">\r\n      <!-- 50 -->\r\n      <defs>\r\n       <path d=\"M 10.796875 72.90625 \r\nL 49.515625 72.90625 \r\nL 49.515625 64.59375 \r\nL 19.828125 64.59375 \r\nL 19.828125 46.734375 \r\nQ 21.96875 47.46875 24.109375 47.828125 \r\nQ 26.265625 48.1875 28.421875 48.1875 \r\nQ 40.625 48.1875 47.75 41.5 \r\nQ 54.890625 34.8125 54.890625 23.390625 \r\nQ 54.890625 11.625 47.5625 5.09375 \r\nQ 40.234375 -1.421875 26.90625 -1.421875 \r\nQ 22.3125 -1.421875 17.546875 -0.640625 \r\nQ 12.796875 0.140625 7.71875 1.703125 \r\nL 7.71875 11.625 \r\nQ 12.109375 9.234375 16.796875 8.0625 \r\nQ 21.484375 6.890625 26.703125 6.890625 \r\nQ 35.15625 6.890625 40.078125 11.328125 \r\nQ 45.015625 15.765625 45.015625 23.390625 \r\nQ 45.015625 31 40.078125 35.4375 \r\nQ 35.15625 39.890625 26.703125 39.890625 \r\nQ 22.75 39.890625 18.8125 39.015625 \r\nQ 14.890625 38.140625 10.796875 36.28125 \r\nz\r\n\" id=\"DejaVuSans-53\"/>\r\n      </defs>\r\n      <g transform=\"translate(57.427 242.735656)scale(0.1 -0.1)\">\r\n       <use xlink:href=\"#DejaVuSans-53\"/>\r\n       <use x=\"63.623047\" xlink:href=\"#DejaVuSans-48\"/>\r\n      </g>\r\n     </g>\r\n    </g>\r\n    <g id=\"xtick_3\">\r\n     <g id=\"line2d_3\">\r\n      <g>\r\n       <use style=\"stroke:#000000;stroke-width:0.8;\" x=\"93.9895\" xlink:href=\"#mb5975fb1f6\" y=\"228.137219\"/>\r\n      </g>\r\n     </g>\r\n     <g id=\"text_3\">\r\n      <!-- 100 -->\r\n      <defs>\r\n       <path d=\"M 12.40625 8.296875 \r\nL 28.515625 8.296875 \r\nL 28.515625 63.921875 \r\nL 10.984375 60.40625 \r\nL 10.984375 69.390625 \r\nL 28.421875 72.90625 \r\nL 38.28125 72.90625 \r\nL 38.28125 8.296875 \r\nL 54.390625 8.296875 \r\nL 54.390625 0 \r\nL 12.40625 0 \r\nz\r\n\" id=\"DejaVuSans-49\"/>\r\n      </defs>\r\n      <g transform=\"translate(84.44575 242.735656)scale(0.1 -0.1)\">\r\n       <use xlink:href=\"#DejaVuSans-49\"/>\r\n       <use x=\"63.623047\" xlink:href=\"#DejaVuSans-48\"/>\r\n       <use x=\"127.246094\" xlink:href=\"#DejaVuSans-48\"/>\r\n      </g>\r\n     </g>\r\n    </g>\r\n    <g id=\"xtick_4\">\r\n     <g id=\"line2d_4\">\r\n      <g>\r\n       <use style=\"stroke:#000000;stroke-width:0.8;\" x=\"124.1895\" xlink:href=\"#mb5975fb1f6\" y=\"228.137219\"/>\r\n      </g>\r\n     </g>\r\n     <g id=\"text_4\">\r\n      <!-- 150 -->\r\n      <g transform=\"translate(114.64575 242.735656)scale(0.1 -0.1)\">\r\n       <use xlink:href=\"#DejaVuSans-49\"/>\r\n       <use x=\"63.623047\" xlink:href=\"#DejaVuSans-53\"/>\r\n       <use x=\"127.246094\" xlink:href=\"#DejaVuSans-48\"/>\r\n      </g>\r\n     </g>\r\n    </g>\r\n    <g id=\"xtick_5\">\r\n     <g id=\"line2d_5\">\r\n      <g>\r\n       <use style=\"stroke:#000000;stroke-width:0.8;\" x=\"154.3895\" xlink:href=\"#mb5975fb1f6\" y=\"228.137219\"/>\r\n      </g>\r\n     </g>\r\n     <g id=\"text_5\">\r\n      <!-- 200 -->\r\n      <defs>\r\n       <path d=\"M 19.1875 8.296875 \r\nL 53.609375 8.296875 \r\nL 53.609375 0 \r\nL 7.328125 0 \r\nL 7.328125 8.296875 \r\nQ 12.9375 14.109375 22.625 23.890625 \r\nQ 32.328125 33.6875 34.8125 36.53125 \r\nQ 39.546875 41.84375 41.421875 45.53125 \r\nQ 43.3125 49.21875 43.3125 52.78125 \r\nQ 43.3125 58.59375 39.234375 62.25 \r\nQ 35.15625 65.921875 28.609375 65.921875 \r\nQ 23.96875 65.921875 18.8125 64.3125 \r\nQ 13.671875 62.703125 7.8125 59.421875 \r\nL 7.8125 69.390625 \r\nQ 13.765625 71.78125 18.9375 73 \r\nQ 24.125 74.21875 28.421875 74.21875 \r\nQ 39.75 74.21875 46.484375 68.546875 \r\nQ 53.21875 62.890625 53.21875 53.421875 \r\nQ 53.21875 48.921875 51.53125 44.890625 \r\nQ 49.859375 40.875 45.40625 35.40625 \r\nQ 44.1875 33.984375 37.640625 27.21875 \r\nQ 31.109375 20.453125 19.1875 8.296875 \r\nz\r\n\" id=\"DejaVuSans-50\"/>\r\n      </defs>\r\n      <g transform=\"translate(144.84575 242.735656)scale(0.1 -0.1)\">\r\n       <use xlink:href=\"#DejaVuSans-50\"/>\r\n       <use x=\"63.623047\" xlink:href=\"#DejaVuSans-48\"/>\r\n       <use x=\"127.246094\" xlink:href=\"#DejaVuSans-48\"/>\r\n      </g>\r\n     </g>\r\n    </g>\r\n    <g id=\"xtick_6\">\r\n     <g id=\"line2d_6\">\r\n      <g>\r\n       <use style=\"stroke:#000000;stroke-width:0.8;\" x=\"184.5895\" xlink:href=\"#mb5975fb1f6\" y=\"228.137219\"/>\r\n      </g>\r\n     </g>\r\n     <g id=\"text_6\">\r\n      <!-- 250 -->\r\n      <g transform=\"translate(175.04575 242.735656)scale(0.1 -0.1)\">\r\n       <use xlink:href=\"#DejaVuSans-50\"/>\r\n       <use x=\"63.623047\" xlink:href=\"#DejaVuSans-53\"/>\r\n       <use x=\"127.246094\" xlink:href=\"#DejaVuSans-48\"/>\r\n      </g>\r\n     </g>\r\n    </g>\r\n    <g id=\"xtick_7\">\r\n     <g id=\"line2d_7\">\r\n      <g>\r\n       <use style=\"stroke:#000000;stroke-width:0.8;\" x=\"214.7895\" xlink:href=\"#mb5975fb1f6\" y=\"228.137219\"/>\r\n      </g>\r\n     </g>\r\n     <g id=\"text_7\">\r\n      <!-- 300 -->\r\n      <defs>\r\n       <path d=\"M 40.578125 39.3125 \r\nQ 47.65625 37.796875 51.625 33 \r\nQ 55.609375 28.21875 55.609375 21.1875 \r\nQ 55.609375 10.40625 48.1875 4.484375 \r\nQ 40.765625 -1.421875 27.09375 -1.421875 \r\nQ 22.515625 -1.421875 17.65625 -0.515625 \r\nQ 12.796875 0.390625 7.625 2.203125 \r\nL 7.625 11.71875 \r\nQ 11.71875 9.328125 16.59375 8.109375 \r\nQ 21.484375 6.890625 26.8125 6.890625 \r\nQ 36.078125 6.890625 40.9375 10.546875 \r\nQ 45.796875 14.203125 45.796875 21.1875 \r\nQ 45.796875 27.640625 41.28125 31.265625 \r\nQ 36.765625 34.90625 28.71875 34.90625 \r\nL 20.21875 34.90625 \r\nL 20.21875 43.015625 \r\nL 29.109375 43.015625 \r\nQ 36.375 43.015625 40.234375 45.921875 \r\nQ 44.09375 48.828125 44.09375 54.296875 \r\nQ 44.09375 59.90625 40.109375 62.90625 \r\nQ 36.140625 65.921875 28.71875 65.921875 \r\nQ 24.65625 65.921875 20.015625 65.03125 \r\nQ 15.375 64.15625 9.8125 62.3125 \r\nL 9.8125 71.09375 \r\nQ 15.4375 72.65625 20.34375 73.4375 \r\nQ 25.25 74.21875 29.59375 74.21875 \r\nQ 40.828125 74.21875 47.359375 69.109375 \r\nQ 53.90625 64.015625 53.90625 55.328125 \r\nQ 53.90625 49.265625 50.4375 45.09375 \r\nQ 46.96875 40.921875 40.578125 39.3125 \r\nz\r\n\" id=\"DejaVuSans-51\"/>\r\n      </defs>\r\n      <g transform=\"translate(205.24575 242.735656)scale(0.1 -0.1)\">\r\n       <use xlink:href=\"#DejaVuSans-51\"/>\r\n       <use x=\"63.623047\" xlink:href=\"#DejaVuSans-48\"/>\r\n       <use x=\"127.246094\" xlink:href=\"#DejaVuSans-48\"/>\r\n      </g>\r\n     </g>\r\n    </g>\r\n   </g>\r\n   <g id=\"matplotlib.axis_2\">\r\n    <g id=\"ytick_1\">\r\n     <g id=\"line2d_8\">\r\n      <defs>\r\n       <path d=\"M 0 0 \r\nL -3.5 0 \r\n\" id=\"md91efb59b0\" style=\"stroke:#000000;stroke-width:0.8;\"/>\r\n      </defs>\r\n      <g>\r\n       <use style=\"stroke:#000000;stroke-width:0.8;\" x=\"33.2875\" xlink:href=\"#md91efb59b0\" y=\"10.999219\"/>\r\n      </g>\r\n     </g>\r\n     <g id=\"text_8\">\r\n      <!-- 0 -->\r\n      <g transform=\"translate(19.925 14.798437)scale(0.1 -0.1)\">\r\n       <use xlink:href=\"#DejaVuSans-48\"/>\r\n      </g>\r\n     </g>\r\n    </g>\r\n    <g id=\"ytick_2\">\r\n     <g id=\"line2d_9\">\r\n      <g>\r\n       <use style=\"stroke:#000000;stroke-width:0.8;\" x=\"33.2875\" xlink:href=\"#md91efb59b0\" y=\"41.199219\"/>\r\n      </g>\r\n     </g>\r\n     <g id=\"text_9\">\r\n      <!-- 50 -->\r\n      <g transform=\"translate(13.5625 44.998437)scale(0.1 -0.1)\">\r\n       <use xlink:href=\"#DejaVuSans-53\"/>\r\n       <use x=\"63.623047\" xlink:href=\"#DejaVuSans-48\"/>\r\n      </g>\r\n     </g>\r\n    </g>\r\n    <g id=\"ytick_3\">\r\n     <g id=\"line2d_10\">\r\n      <g>\r\n       <use style=\"stroke:#000000;stroke-width:0.8;\" x=\"33.2875\" xlink:href=\"#md91efb59b0\" y=\"71.399219\"/>\r\n      </g>\r\n     </g>\r\n     <g id=\"text_10\">\r\n      <!-- 100 -->\r\n      <g transform=\"translate(7.2 75.198437)scale(0.1 -0.1)\">\r\n       <use xlink:href=\"#DejaVuSans-49\"/>\r\n       <use x=\"63.623047\" xlink:href=\"#DejaVuSans-48\"/>\r\n       <use x=\"127.246094\" xlink:href=\"#DejaVuSans-48\"/>\r\n      </g>\r\n     </g>\r\n    </g>\r\n    <g id=\"ytick_4\">\r\n     <g id=\"line2d_11\">\r\n      <g>\r\n       <use style=\"stroke:#000000;stroke-width:0.8;\" x=\"33.2875\" xlink:href=\"#md91efb59b0\" y=\"101.599219\"/>\r\n      </g>\r\n     </g>\r\n     <g id=\"text_11\">\r\n      <!-- 150 -->\r\n      <g transform=\"translate(7.2 105.398437)scale(0.1 -0.1)\">\r\n       <use xlink:href=\"#DejaVuSans-49\"/>\r\n       <use x=\"63.623047\" xlink:href=\"#DejaVuSans-53\"/>\r\n       <use x=\"127.246094\" xlink:href=\"#DejaVuSans-48\"/>\r\n      </g>\r\n     </g>\r\n    </g>\r\n    <g id=\"ytick_5\">\r\n     <g id=\"line2d_12\">\r\n      <g>\r\n       <use style=\"stroke:#000000;stroke-width:0.8;\" x=\"33.2875\" xlink:href=\"#md91efb59b0\" y=\"131.799219\"/>\r\n      </g>\r\n     </g>\r\n     <g id=\"text_12\">\r\n      <!-- 200 -->\r\n      <g transform=\"translate(7.2 135.598437)scale(0.1 -0.1)\">\r\n       <use xlink:href=\"#DejaVuSans-50\"/>\r\n       <use x=\"63.623047\" xlink:href=\"#DejaVuSans-48\"/>\r\n       <use x=\"127.246094\" xlink:href=\"#DejaVuSans-48\"/>\r\n      </g>\r\n     </g>\r\n    </g>\r\n    <g id=\"ytick_6\">\r\n     <g id=\"line2d_13\">\r\n      <g>\r\n       <use style=\"stroke:#000000;stroke-width:0.8;\" x=\"33.2875\" xlink:href=\"#md91efb59b0\" y=\"161.999219\"/>\r\n      </g>\r\n     </g>\r\n     <g id=\"text_13\">\r\n      <!-- 250 -->\r\n      <g transform=\"translate(7.2 165.798437)scale(0.1 -0.1)\">\r\n       <use xlink:href=\"#DejaVuSans-50\"/>\r\n       <use x=\"63.623047\" xlink:href=\"#DejaVuSans-53\"/>\r\n       <use x=\"127.246094\" xlink:href=\"#DejaVuSans-48\"/>\r\n      </g>\r\n     </g>\r\n    </g>\r\n    <g id=\"ytick_7\">\r\n     <g id=\"line2d_14\">\r\n      <g>\r\n       <use style=\"stroke:#000000;stroke-width:0.8;\" x=\"33.2875\" xlink:href=\"#md91efb59b0\" y=\"192.199219\"/>\r\n      </g>\r\n     </g>\r\n     <g id=\"text_14\">\r\n      <!-- 300 -->\r\n      <g transform=\"translate(7.2 195.998437)scale(0.1 -0.1)\">\r\n       <use xlink:href=\"#DejaVuSans-51\"/>\r\n       <use x=\"63.623047\" xlink:href=\"#DejaVuSans-48\"/>\r\n       <use x=\"127.246094\" xlink:href=\"#DejaVuSans-48\"/>\r\n      </g>\r\n     </g>\r\n    </g>\r\n    <g id=\"ytick_8\">\r\n     <g id=\"line2d_15\">\r\n      <g>\r\n       <use style=\"stroke:#000000;stroke-width:0.8;\" x=\"33.2875\" xlink:href=\"#md91efb59b0\" y=\"222.399219\"/>\r\n      </g>\r\n     </g>\r\n     <g id=\"text_15\">\r\n      <!-- 350 -->\r\n      <g transform=\"translate(7.2 226.198437)scale(0.1 -0.1)\">\r\n       <use xlink:href=\"#DejaVuSans-51\"/>\r\n       <use x=\"63.623047\" xlink:href=\"#DejaVuSans-53\"/>\r\n       <use x=\"127.246094\" xlink:href=\"#DejaVuSans-48\"/>\r\n      </g>\r\n     </g>\r\n    </g>\r\n   </g>\r\n   <g id=\"patch_3\">\r\n    <path d=\"M 33.2875 228.137219 \r\nL 33.2875 10.697219 \r\n\" style=\"fill:none;stroke:#000000;stroke-linecap:square;stroke-linejoin:miter;stroke-width:0.8;\"/>\r\n   </g>\r\n   <g id=\"patch_4\">\r\n    <path d=\"M 244.6875 228.137219 \r\nL 244.6875 10.697219 \r\n\" style=\"fill:none;stroke:#000000;stroke-linecap:square;stroke-linejoin:miter;stroke-width:0.8;\"/>\r\n   </g>\r\n   <g id=\"patch_5\">\r\n    <path d=\"M 33.2875 228.137219 \r\nL 244.6875 228.137219 \r\n\" style=\"fill:none;stroke:#000000;stroke-linecap:square;stroke-linejoin:miter;stroke-width:0.8;\"/>\r\n   </g>\r\n   <g id=\"patch_6\">\r\n    <path d=\"M 33.2875 10.697219 \r\nL 244.6875 10.697219 \r\n\" style=\"fill:none;stroke:#000000;stroke-linecap:square;stroke-linejoin:miter;stroke-width:0.8;\"/>\r\n   </g>\r\n  </g>\r\n </g>\r\n <defs>\r\n  <clipPath id=\"p13caea0538\">\r\n   <rect height=\"217.44\" width=\"211.4\" x=\"33.2875\" y=\"10.697219\"/>\r\n  </clipPath>\r\n </defs>\r\n</svg>\r\n",
      "text/plain": [
       "<Figure size 432x288 with 1 Axes>"
      ]
     },
     "metadata": {
      "needs_background": "light"
     },
     "output_type": "display_data"
    }
   ],
   "source": [
    "plt.imshow(cv2.cvtColor(img, cv2.COLOR_BGR2RGB))"
   ]
  },
  {
   "cell_type": "code",
   "execution_count": 6,
   "metadata": {},
   "outputs": [],
   "source": [
    "# works! 4 - connected\n",
    "def boundaryDetect4(img_mask):\n",
    "    \"\"\"\n",
    "    get a single chanel binary mask image and return the boundary pixels coordinates\n",
    "    input: \n",
    "    img_mask - the mask of an image\n",
    "    output:\n",
    "    list of coordinates arrays ordered as [x,y]\n",
    "    \"\"\"\n",
    "    b_list=[]\n",
    "    cols, rows = img_mask.shape\n",
    "    for y in range(cols-1):\n",
    "        for x in range(rows-1):\n",
    "            if img_mask[y,x]==0:\n",
    "                if img_mask[y,x+1]>0:\n",
    "                    b_list.append([x,y])\n",
    "                elif img_mask[y,x-1]>0:\n",
    "                    b_list.append([x,y])\n",
    "                elif img_mask[y+1,x]>0:\n",
    "                    b_list.append([x,y])\n",
    "                elif img_mask[y-1,x]>0:\n",
    "                    b_list.append([x,y])\n",
    "    return(b_list)\n"
   ]
  },
  {
   "cell_type": "code",
   "execution_count": 7,
   "metadata": {},
   "outputs": [],
   "source": [
    "# works! 8 - connected\n",
    "def boundaryDetect8(img_mask):\n",
    "    \"\"\"\n",
    "    get a single chanel binary mask image and return the boundary pixels coordinates\n",
    "    input: \n",
    "    img_mask - the mask of an image\n",
    "    output:\n",
    "    list of coordinates arrays ordered as [x,y]\n",
    "    \"\"\"\n",
    "    b_list=[]\n",
    "    cols, rows = img_mask.shape\n",
    "    for y in range(cols-1):\n",
    "        for x in range(rows-1):\n",
    "            if img_mask[y,x]==0:\n",
    "                if img_mask[y,x+1]>0:\n",
    "                    b_list.append([x,y])\n",
    "                elif img_mask[y,x-1]>0:\n",
    "                    b_list.append([x,y])\n",
    "                elif img_mask[y+1,x]>0:\n",
    "                    b_list.append([x,y])\n",
    "                elif img_mask[y-1,x]>0:\n",
    "                    b_list.append([x,y])\n",
    "                elif img_mask[y-1,x-1]>0:\n",
    "                    b_list.append([x,y])\n",
    "                elif img_mask[y+1,x-1]>0:\n",
    "                    b_list.append([x,y])\n",
    "                elif img_mask[y-1,x+1]>0:\n",
    "                    b_list.append([x,y])\n",
    "                elif img_mask[y+1,x+1]>0:\n",
    "                    b_list.append([x,y])\n",
    "    return(b_list)\n"
   ]
  },
  {
   "cell_type": "code",
   "execution_count": null,
   "metadata": {},
   "outputs": [],
   "source": [
    "image[172,129]"
   ]
  },
  {
   "cell_type": "code",
   "execution_count": null,
   "metadata": {},
   "outputs": [],
   "source": [
    "# fill the hole\n",
    "temp_img = image.copy()\n",
    "for i in b_list:\n",
    "    x = i[0]\n",
    "    y = i[1]\n",
    "    temp_img[y,x] = (0, 0, 255)\n",
    "\n",
    "# show results\n",
    "plt.imshow(cv2.cvtColor(temp_img, cv2.COLOR_BGR2RGB))"
   ]
  },
  {
   "cell_type": "code",
   "execution_count": null,
   "metadata": {},
   "outputs": [],
   "source": [
    "contours, _ = cv2.findContours(mask, cv2.RETR_TREE, cv2.CHAIN_APPROX_NONE)"
   ]
  },
  {
   "cell_type": "code",
   "execution_count": null,
   "metadata": {},
   "outputs": [],
   "source": [
    "\n",
    "import cv2 # Import the OpenCV library\n",
    "import numpy as np\n",
    "filepath = \"test_hole.png\"\n",
    "image = cv2.imread(filepath)\n",
    "\n",
    "# load mask image\n",
    "mask = cv2.imread(\"blue_blob_thresh.png\", 0) # loading as garyscale image\n",
    "\n",
    "# get the boudary coordinates using contour detection\n",
    "contours, _ = cv2.findContours(mask, cv2.RETR_EXTERNAL, cv2.CHAIN_APPROX_NONE)\n",
    "cntr = contours[0]\n",
    "\n",
    "\n",
    "# get hole coordinates (x,y)\n",
    "xy_coords = np.flip(np.column_stack(np.where(mask > 0)), axis=1)\n",
    "\n",
    "# fill the hole\n",
    "temp_img = image.copy()\n",
    "for i in b_list:\n",
    "    x = i[0]\n",
    "    y = i[1]\n",
    "    temp_img[y,x] = (0, 0, 255)\n",
    "\n",
    "# show results\n",
    "plt.imshow(cv2.cvtColor(temp_img, cv2.COLOR_BGR2RGB))"
   ]
  },
  {
   "cell_type": "code",
   "execution_count": null,
   "metadata": {},
   "outputs": [],
   "source": [
    "tuple(temp_img[60,50])"
   ]
  },
  {
   "cell_type": "code",
   "execution_count": null,
   "metadata": {},
   "outputs": [],
   "source": [
    "[373, 231] in xy_coords"
   ]
  },
  {
   "cell_type": "code",
   "execution_count": null,
   "metadata": {},
   "outputs": [],
   "source": [
    "mask = cv2.imread(\"blue_blob_thresh.png\", 0) # loading as garyscale image\n",
    "# get coordinates (x,y)\n",
    "xy_coords = np.flip(np.column_stack(np.where(mask > 0)), axis=1)"
   ]
  },
  {
   "cell_type": "code",
   "execution_count": null,
   "metadata": {},
   "outputs": [],
   "source": [
    "xy_coords"
   ]
  },
  {
   "cell_type": "code",
   "execution_count": null,
   "metadata": {
    "tags": []
   },
   "outputs": [],
   "source": [
    "temp_img = image.copy()\n",
    "for i in xy_coords:\n",
    "    x = i[0]\n",
    "    y = i[1]\n",
    "    temp_img[y,x] = (0, 0, 255)\n",
    "\n"
   ]
  },
  {
   "cell_type": "code",
   "execution_count": null,
   "metadata": {},
   "outputs": [],
   "source": [
    "plt.imshow(cv2.cvtColor(temp_img, cv2.COLOR_BGR2RGB))"
   ]
  },
  {
   "cell_type": "code",
   "execution_count": null,
   "metadata": {},
   "outputs": [],
   "source": [
    "# get contours\n",
    "mask = cv2.imread(\"blue_blob_thresh.png\", 0) # loading as garyscale image\n",
    "#mask = cv2.cvtColor(mask, cv2.COLOR_BGR2GRAY)\n",
    "result = np.zeros_like(image)\n",
    "contours = cv2.findContours(mask, cv2.RETR_EXTERNAL, cv2.CHAIN_APPROX_NONE)\n",
    "contours = contours[0] if len(contours) == 2 else contours[1]\n",
    "cntr = contours[0]\n",
    "cv2.drawContours(result, [cntr], 0, (0,0,255), 1)"
   ]
  },
  {
   "cell_type": "code",
   "execution_count": null,
   "metadata": {},
   "outputs": [],
   "source": [
    "# print number of points along contour\n",
    "print('number of points: ',len(cntr))\n",
    "\n",
    "print('')\n",
    "\n",
    "# list contour points\n",
    "for pt in cntr:\n",
    "    print(pt)\n",
    "\n",
    "# save resulting images\n",
    "cv2.imwrite('blue_blob_thresh.png',mask)\n",
    "cv2.imwrite('blue_blob_contour.png',result) \n",
    "\n",
    "# show thresh and contour   \n",
    "#cv2.imshow(\"thresh\", mask)\n",
    "#cv2.imshow(\"result\", result)"
   ]
  },
  {
   "cell_type": "code",
   "execution_count": null,
   "metadata": {},
   "outputs": [],
   "source": [
    "\n",
    "import cv2\n",
    "import numpy as np\n",
    "import matplotlib.pyplot as plt\n",
    "t_image = image.copy()\n",
    "for i in cntr:\n",
    "    t_image[i] == (0,0,255)\n",
    "\n",
    "plt.imshow(cv2.cvtColor(t_image, cv2.COLOR_BGR2RGB))\n"
   ]
  },
  {
   "cell_type": "code",
   "execution_count": null,
   "metadata": {},
   "outputs": [],
   "source": [
    "cv2.imshow(t_image)"
   ]
  },
  {
   "cell_type": "code",
   "execution_count": null,
   "metadata": {},
   "outputs": [],
   "source": [
    "t_image[50,50] = (0, 0, 0)\n",
    "plt.imshow(cv2.cvtColor(t_image, cv2.COLOR_BGR2RGB))"
   ]
  },
  {
   "cell_type": "code",
   "execution_count": null,
   "metadata": {},
   "outputs": [],
   "source": [
    "# Initialize empty list\n",
    "lst_intensities = []\n",
    "\n",
    "# For each list of contour points...\n",
    "for i in range(len(cntr)):\n",
    "    # Create a mask image that contains the contour filled in\n",
    "    cimg = np.zeros_like(image)\n",
    "    cv2.drawContours(cimg, cntr, i, color=255, thickness=-1)\n",
    "\n",
    "    # Access the image pixels and create a 1D numpy array then add to list\n",
    "    pts = np.where(cimg == 255)\n",
    "    lst_intensities.append(image[pts[0], pts[1]])\n"
   ]
  },
  {
   "cell_type": "code",
   "execution_count": null,
   "metadata": {},
   "outputs": [],
   "source": [
    "def load_image_return_array(filepath):\n",
    "    from PIL import Image\n",
    "    from numpy import asarray \n",
    "    \n",
    "    # load the image as Pillow object\n",
    "    img = Image.open(filepath)\n",
    "\n",
    "    # summarize image details\n",
    "    print(\"image details:\\n\")\n",
    "    print(img.format)\n",
    "    print(img.mode)\n",
    "    print(img.size)\n",
    "\n",
    "    # convert to numpy array\n",
    "    img_data = asarray(img)\n",
    "    return(img_data)\n",
    "\n",
    "\n",
    "\n",
    "\n",
    "\n"
   ]
  },
  {
   "cell_type": "code",
   "execution_count": null,
   "metadata": {},
   "outputs": [],
   "source": [
    "from  fill_hole_funcs import img_holes\n",
    "filepath = \"test_hole.png\"\n",
    "imgData = img_holes(filepath).load_image_return_array()\n",
    "print(imgData)"
   ]
  },
  {
   "cell_type": "code",
   "execution_count": null,
   "metadata": {},
   "outputs": [],
   "source": []
  },
  {
   "cell_type": "code",
   "execution_count": 94,
   "metadata": {},
   "outputs": [],
   "source": [
    "import os\n",
    "import pickle\n",
    "\n",
    "\n",
    "\n",
    "def cached(cachefile, lst):\n",
    "    \"\"\"\n",
    "    A function that creates a decorator which will use \"cachefile\" for caching the results of the decorated function \"fn\".\n",
    "    \"\"\"\n",
    "    def decorator(fn):  # define a decorator for a function \"fn\"\n",
    "        def wrapped(*args, **kwargs):   # define a wrapper that will finally call \"fn\" with all arguments   \n",
    "            target_key = kwargs\n",
    "            target_key = frozenset(target_key.items())\n",
    "            print(target_key)  \n",
    "            \n",
    "            lst[target_key] = 'aatest'\n",
    "            # if cache exists -> load it and return its content\n",
    "            if os.path.exists(cachefile):\n",
    "                    with open(cachefile, 'rb') as cachehandle:\n",
    "                        print(\"using cached result from '%s'\" % cachefile)\n",
    "                        cache = pickle.load(cachehandle)\n",
    "                        if target_key in cache:\n",
    "                            return(cache[target_key])\n",
    "            else:\n",
    "                cache={}\n",
    "\n",
    "            # execute the function with all arguments passed\n",
    "            res = fn(*args, **kwargs)\n",
    "            cache[target_key] = res\n",
    "            # write to cache file\n",
    "            with open(cachefile, 'wb') as cachehandle:\n",
    "                print(\"saving result to cache '%s'\" % cachefile)\n",
    "                pickle.dump(cache, cachehandle)\n",
    "\n",
    "            return res\n",
    "\n",
    "        return wrapped\n",
    "\n",
    "    return decorator   # return this \"customized\" decorator that uses \"cachefile\""
   ]
  },
  {
   "cell_type": "code",
   "execution_count": 97,
   "metadata": {},
   "outputs": [
    {
     "name": "stdout",
     "output_type": "stream",
     "text": [
      "frozenset({('a', 'dba'), ('b', 'dss')})\n",
      "dss\n",
      "dba\n",
      "saving result to cache 'slow_function_cache.pickle'\n",
      "some result is dbadss\n",
      "{'t1': 'test1', 't2': 'test2', frozenset({('a', 'dba'), ('b', 'dss')}): 'aatest'}\n"
     ]
    }
   ],
   "source": [
    "from time import sleep\n",
    "global mydict \n",
    "mydict = {'t1':'test1','t2':'test2'}\n",
    "@cached('slow_function_cache.pickle',mydict)\n",
    "def my_slow_function(a,b):\n",
    "    print(b)\n",
    "    sleep(3)\n",
    "    print(a)\n",
    "    return(f\"some result is {a+b}\")\n",
    "\n",
    "\n",
    "print(my_slow_function(a='dba',b='dss'))\n",
    "print(mydict)\n"
   ]
  },
  {
   "cell_type": "code",
   "execution_count": 118,
   "metadata": {},
   "outputs": [
    {
     "name": "stdout",
     "output_type": "stream",
     "text": [
      "using cached result from 'slow_function_cache.pickle'\n"
     ]
    }
   ],
   "source": []
  },
  {
   "cell_type": "code",
   "execution_count": 119,
   "metadata": {},
   "outputs": [
    {
     "data": {
      "text/plain": [
       "False"
      ]
     },
     "execution_count": 119,
     "metadata": {},
     "output_type": "execute_result"
    }
   ],
   "source": [
    "temp_cache == mycache"
   ]
  },
  {
   "cell_type": "code",
   "execution_count": 117,
   "metadata": {},
   "outputs": [
    {
     "name": "stdout",
     "output_type": "stream",
     "text": [
      "dssv2212\n",
      "dbav2212\n",
      "None\n",
      "saving result to cache 'slow_function_cache.pickle'\n"
     ]
    }
   ],
   "source": [
    "from  cachingPickle import cache_handler\n",
    "\n",
    "global mycache \n",
    "\n",
    "temp_cache = mycache.copy()\n",
    "# load pickle\n",
    "ch = cache_handler('slow_function_cache.pickle')\n",
    "mycache = ch.load_cache()\n",
    "\n",
    "@ch.check_cache(mycache)\n",
    "def my_slow_function(a,b):\n",
    "    print(b)\n",
    "    sleep(3)\n",
    "    print(a)\n",
    "    return(f\"some result is {a+b}\")\n",
    "\n",
    "print(my_slow_function(a='dbav2212',b='dssv2212'))\n",
    "\n",
    "if temp_cache != mycache:\n",
    "    ch.store_cache_onDisk(loaded_cache=mycache)"
   ]
  },
  {
   "cell_type": "code",
   "execution_count": 78,
   "metadata": {},
   "outputs": [
    {
     "name": "stdout",
     "output_type": "stream",
     "text": [
      "frozenset({('a', 'dba'), ('b', 'dss')})\n",
      "using cached result from 'slow_function_cache.pickle'\n",
      "some result is dbadss\n"
     ]
    }
   ],
   "source": []
  },
  {
   "cell_type": "code",
   "execution_count": 120,
   "metadata": {},
   "outputs": [],
   "source": [
    "with open(\"args.pickle\", 'rb') as cachehandle:\n",
    "    args = pickle.load(cachehandle)\n"
   ]
  },
  {
   "cell_type": "code",
   "execution_count": null,
   "metadata": {},
   "outputs": [],
   "source": [
    "d = {\"d\":\"h\"}"
   ]
  },
  {
   "cell_type": "code",
   "execution_count": 131,
   "metadata": {},
   "outputs": [
    {
     "data": {
      "text/plain": [
       "(173, 130)"
      ]
     },
     "execution_count": 131,
     "metadata": {},
     "output_type": "execute_result"
    }
   ],
   "source": [
    "cnt=0\n",
    "for i in args[1:]:\n",
    "    cnt += 1\n",
    "    d[str('var'+cnt)] = tuple(i)"
   ]
  },
  {
   "cell_type": "code",
   "execution_count": null,
   "metadata": {},
   "outputs": [],
   "source": []
  }
 ],
 "metadata": {
  "kernelspec": {
   "display_name": "Python 3.7.4 64-bit",
   "metadata": {
    "interpreter": {
     "hash": "712d5cf4ee2acaf35241d6a0105be1622e5ff6a1e44db7e17cb36b1fa434ea40"
    }
   },
   "name": "python3"
  },
  "language_info": {
   "codemirror_mode": {
    "name": "ipython",
    "version": 3
   },
   "file_extension": ".py",
   "mimetype": "text/x-python",
   "name": "python",
   "nbconvert_exporter": "python",
   "pygments_lexer": "ipython3",
   "version": "3.7.4-final"
  },
  "orig_nbformat": 2
 },
 "nbformat": 4,
 "nbformat_minor": 2
}
